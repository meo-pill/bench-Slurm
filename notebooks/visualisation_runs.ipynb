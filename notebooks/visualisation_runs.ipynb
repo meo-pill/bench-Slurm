{
 "cells": [
  {
   "cell_type": "markdown",
   "id": "2e24b9a7",
   "metadata": {},
   "source": [
    "# Visualisation des données de runs (CPU/GPU)\n",
    "Ce notebook charge les résultats produits par les scripts Slurm (CSV dans `../results/`) et fournit des vues d’analyse et de visualisation."
   ]
  },
  {
   "cell_type": "code",
   "execution_count": null,
   "id": "4b1c794c",
   "metadata": {},
   "outputs": [
    {
     "name": "stdout",
     "output_type": "stream",
     "text": [
      "RESULTS_DIR: /info/etu/m1/s201509/Document/perso/bench-Slurm/results\n"
     ]
    }
   ],
   "source": [
    "# Section 1 — Installer et importer les bibliothèques\n",
    "# (Les installations sont idempotentes; exécutez au besoin.)\n",
    "# %pip install -q pandas numpy seaborn matplotlib plotly ipywidgets pyarrow mlflow || true\n",
    "\n",
    "import os\n",
    "import glob\n",
    "import json\n",
    "from datetime import timedelta\n",
    "\n",
    "import numpy as np\n",
    "import pandas as pd\n",
    "import seaborn as sns\n",
    "import matplotlib.pyplot as plt\n",
    "import plotly.express as px\n",
    "\n",
    "import ipywidgets as widgets\n",
    "from IPython.display import display, HTML\n",
    "\n",
    "# Styles\n",
    "# %matplotlib inline\n",
    "sns.set_theme(style=\"whitegrid\")\n",
    "plt.rcParams[\"figure.figsize\"] = (10, 5)\n",
    "\n",
    "# Dossiers par défaut (adaptés à ce repo)\n",
    "ROOT = os.path.abspath(os.path.join(os.getcwd(), \"..\"))\n",
    "RESULTS_DIR = os.path.join(ROOT, \"results\")\n",
    "FIG_DIR = os.path.join(ROOT, \"figures\")\n",
    "OUT_DIR = os.path.join(ROOT, \"output\")\n",
    "os.makedirs(FIG_DIR, exist_ok=True)\n",
    "os.makedirs(OUT_DIR, exist_ok=True)\n",
    "\n",
    "print(\"RESULTS_DIR:\", RESULTS_DIR)"
   ]
  },
  {
   "cell_type": "code",
   "execution_count": 3,
   "id": "9c40f5ca",
   "metadata": {},
   "outputs": [
    {
     "name": "stdout",
     "output_type": "stream",
     "text": [
      "(46, 10) (12, 26) (0, 0) (0, 6)\n"
     ]
    }
   ],
   "source": [
    "# Section 2 — Charger les données de runs (CSV/JSON/Parquet ou MLflow)\n",
    "# 2.1 Lectures CSV CPU/GPU du repo (results/cpu_*.csv, results/gpu_*.csv)\n",
    "\n",
    "def read_many_csv(pattern: str, kind: str) -> pd.DataFrame:\n",
    "    files = sorted(glob.glob(pattern))\n",
    "    dfs = []\n",
    "    for f in files:\n",
    "        try:\n",
    "            df = pd.read_csv(f)\n",
    "            df[\"source_file\"] = os.path.basename(f)\n",
    "            df[\"kind\"] = kind\n",
    "            dfs.append(df)\n",
    "        except Exception as e:\n",
    "            print(f\"[WARN] Lecture échouée {f}: {e}\")\n",
    "    if dfs:\n",
    "        return pd.concat(dfs, ignore_index=True)\n",
    "    return pd.DataFrame()\n",
    "\n",
    "cpu_df = read_many_csv(os.path.join(RESULTS_DIR, \"cpu_*.csv\"), kind=\"cpu\")\n",
    "gpu_df = read_many_csv(os.path.join(RESULTS_DIR, \"gpu_*.csv\"), kind=\"gpu\")\n",
    "\n",
    "# 2.2 Option: charger un unique fichier générique (au cas où)\n",
    "unique_path = os.path.join(RESULTS_DIR, \"runs.csv\")\n",
    "unique_df = pd.read_csv(unique_path) if os.path.exists(unique_path) else pd.DataFrame()\n",
    "\n",
    "# 2.3 Option: MLflow (si un tracking server est utilisé)\n",
    "try:\n",
    "    import mlflow\n",
    "    MLFLOW_AVAILABLE = True\n",
    "except Exception:\n",
    "    MLFLOW_AVAILABLE = False\n",
    "\n",
    "mlflow_df = pd.DataFrame()\n",
    "# Exemple (adapter l'ID d'expérience):\n",
    "if MLFLOW_AVAILABLE:\n",
    "    runs = mlflow.search_runs(experiment_ids=[\"0\"], output_format=\"pandas\")\n",
    "    mlflow_df = runs\n",
    "\n",
    "print(cpu_df.shape, gpu_df.shape, unique_df.shape, mlflow_df.shape)"
   ]
  },
  {
   "cell_type": "code",
   "execution_count": 4,
   "id": "ad809d0d",
   "metadata": {},
   "outputs": [
    {
     "name": "stdout",
     "output_type": "stream",
     "text": [
      "cpu_norm: (46, 10) gpu_norm: (12, 26) all_runs: (58, 30)\n"
     ]
    }
   ],
   "source": [
    "# Section 3 — Nettoyer et normaliser les colonnes\n",
    "\n",
    "from typing import Dict\n",
    "\n",
    "def snake(name: str) -> str:\n",
    "    return name.lower().replace(\" \", \"_\")\n",
    "\n",
    "# Normaliser CPU\n",
    "cpu_norm = cpu_df.copy()\n",
    "if not cpu_norm.empty:\n",
    "    cpu_norm.columns = [snake(c) for c in cpu_norm.columns]\n",
    "    # colonnes attendues: node, mode, threads, runs, duration_s, avg_events_per_s, stddev_events_per_s, timestamp\n",
    "    cpu_norm[\"timestamp\"] = pd.to_datetime(cpu_norm.get(\"timestamp\"), errors=\"coerce\", utc=True)\n",
    "    num_cols = [\"threads\", \"runs\", \"duration_s\", \"avg_events_per_s\", \"stddev_events_per_s\"]\n",
    "    for c in num_cols:\n",
    "        if c in cpu_norm:\n",
    "            cpu_norm[c] = pd.to_numeric(cpu_norm[c], errors=\"coerce\")\n",
    "\n",
    "# Normaliser GPU: colonnes dynamiques par backend; on garde wide et long\n",
    "gpu_norm = gpu_df.copy()\n",
    "if not gpu_norm.empty:\n",
    "    gpu_norm.columns = [snake(c) for c in gpu_norm.columns]\n",
    "    gpu_norm[\"timestamp\"] = pd.to_datetime(gpu_norm.get(\"timestamp\"), errors=\"coerce\", utc=True)\n",
    "\n",
    "    # Extraire colonnes métriques backend_*_mono_avg/std et *_multi_* par backend\n",
    "    metric_cols = [c for c in gpu_norm.columns if any(x in c for x in (\"_mono_\", \"_multi_\"))]\n",
    "    if metric_cols:\n",
    "        gpu_long = gpu_norm.melt(\n",
    "            id_vars=[c for c in gpu_norm.columns if c not in metric_cols],\n",
    "            value_vars=metric_cols,\n",
    "            var_name=\"metric\",\n",
    "            value_name=\"value\",\n",
    "        )\n",
    "    else:\n",
    "        gpu_long = pd.DataFrame()\n",
    "else:\n",
    "    gpu_long = pd.DataFrame()\n",
    "\n",
    "# Fusion minimale pour un DataFrame unifié optionnel (si utile)\n",
    "all_runs = pd.concat([cpu_norm.assign(kind=\"cpu\"), gpu_norm.assign(kind=\"gpu\")], ignore_index=True, sort=False)\n",
    "print(\"cpu_norm:\", cpu_norm.shape, \"gpu_norm:\", gpu_norm.shape, \"all_runs:\", all_runs.shape)"
   ]
  },
  {
   "cell_type": "code",
   "execution_count": 5,
   "id": "890eca20",
   "metadata": {},
   "outputs": [
    {
     "data": {
      "text/html": [
       "<h3>CPU — Aperçu</h3>"
      ],
      "text/plain": [
       "<IPython.core.display.HTML object>"
      ]
     },
     "metadata": {},
     "output_type": "display_data"
    },
    {
     "data": {
      "text/html": [
       "<div>\n",
       "<style scoped>\n",
       "    .dataframe tbody tr th:only-of-type {\n",
       "        vertical-align: middle;\n",
       "    }\n",
       "\n",
       "    .dataframe tbody tr th {\n",
       "        vertical-align: top;\n",
       "    }\n",
       "\n",
       "    .dataframe thead th {\n",
       "        text-align: right;\n",
       "    }\n",
       "</style>\n",
       "<table border=\"1\" class=\"dataframe\">\n",
       "  <thead>\n",
       "    <tr style=\"text-align: right;\">\n",
       "      <th></th>\n",
       "      <th>node</th>\n",
       "      <th>mode</th>\n",
       "      <th>threads</th>\n",
       "      <th>runs</th>\n",
       "      <th>duration_s</th>\n",
       "      <th>avg_events_per_s</th>\n",
       "      <th>stddev_events_per_s</th>\n",
       "      <th>timestamp</th>\n",
       "      <th>source_file</th>\n",
       "      <th>kind</th>\n",
       "    </tr>\n",
       "  </thead>\n",
       "  <tbody>\n",
       "    <tr>\n",
       "      <th>0</th>\n",
       "      <td>gpue01</td>\n",
       "      <td>mono</td>\n",
       "      <td>1</td>\n",
       "      <td>3</td>\n",
       "      <td>2.0</td>\n",
       "      <td>1.742775e+07</td>\n",
       "      <td>14184.469</td>\n",
       "      <td>2025-09-05 01:17:45+00:00</td>\n",
       "      <td>cpu_gpue01.csv</td>\n",
       "      <td>cpu</td>\n",
       "    </tr>\n",
       "    <tr>\n",
       "      <th>1</th>\n",
       "      <td>gpue01</td>\n",
       "      <td>multi</td>\n",
       "      <td>56</td>\n",
       "      <td>3</td>\n",
       "      <td>2.0</td>\n",
       "      <td>5.739925e+08</td>\n",
       "      <td>1490126.173</td>\n",
       "      <td>2025-09-05 01:17:51+00:00</td>\n",
       "      <td>cpu_gpue01.csv</td>\n",
       "      <td>cpu</td>\n",
       "    </tr>\n",
       "    <tr>\n",
       "      <th>2</th>\n",
       "      <td>gpue01</td>\n",
       "      <td>mono</td>\n",
       "      <td>1</td>\n",
       "      <td>3</td>\n",
       "      <td>2.0</td>\n",
       "      <td>1.742485e+07</td>\n",
       "      <td>25872.963</td>\n",
       "      <td>2025-09-05 08:09:31+00:00</td>\n",
       "      <td>cpu_gpue01.csv</td>\n",
       "      <td>cpu</td>\n",
       "    </tr>\n",
       "    <tr>\n",
       "      <th>3</th>\n",
       "      <td>gpue01</td>\n",
       "      <td>multi</td>\n",
       "      <td>56</td>\n",
       "      <td>3</td>\n",
       "      <td>2.0</td>\n",
       "      <td>5.737688e+08</td>\n",
       "      <td>1318369.044</td>\n",
       "      <td>2025-09-05 08:09:37+00:00</td>\n",
       "      <td>cpu_gpue01.csv</td>\n",
       "      <td>cpu</td>\n",
       "    </tr>\n",
       "    <tr>\n",
       "      <th>4</th>\n",
       "      <td>gpue02</td>\n",
       "      <td>mono</td>\n",
       "      <td>1</td>\n",
       "      <td>3</td>\n",
       "      <td>2.0</td>\n",
       "      <td>1.745775e+07</td>\n",
       "      <td>9915.572</td>\n",
       "      <td>2025-09-05 01:17:43+00:00</td>\n",
       "      <td>cpu_gpue02.csv</td>\n",
       "      <td>cpu</td>\n",
       "    </tr>\n",
       "  </tbody>\n",
       "</table>\n",
       "</div>"
      ],
      "text/plain": [
       "     node   mode  threads  runs  duration_s  avg_events_per_s  \\\n",
       "0  gpue01   mono        1     3         2.0      1.742775e+07   \n",
       "1  gpue01  multi       56     3         2.0      5.739925e+08   \n",
       "2  gpue01   mono        1     3         2.0      1.742485e+07   \n",
       "3  gpue01  multi       56     3         2.0      5.737688e+08   \n",
       "4  gpue02   mono        1     3         2.0      1.745775e+07   \n",
       "\n",
       "   stddev_events_per_s                 timestamp     source_file kind  \n",
       "0            14184.469 2025-09-05 01:17:45+00:00  cpu_gpue01.csv  cpu  \n",
       "1          1490126.173 2025-09-05 01:17:51+00:00  cpu_gpue01.csv  cpu  \n",
       "2            25872.963 2025-09-05 08:09:31+00:00  cpu_gpue01.csv  cpu  \n",
       "3          1318369.044 2025-09-05 08:09:37+00:00  cpu_gpue01.csv  cpu  \n",
       "4             9915.572 2025-09-05 01:17:43+00:00  cpu_gpue02.csv  cpu  "
      ]
     },
     "metadata": {},
     "output_type": "display_data"
    },
    {
     "data": {
      "text/html": [
       "<div>\n",
       "<style scoped>\n",
       "    .dataframe tbody tr th:only-of-type {\n",
       "        vertical-align: middle;\n",
       "    }\n",
       "\n",
       "    .dataframe tbody tr th {\n",
       "        vertical-align: top;\n",
       "    }\n",
       "\n",
       "    .dataframe thead th {\n",
       "        text-align: right;\n",
       "    }\n",
       "</style>\n",
       "<table border=\"1\" class=\"dataframe\">\n",
       "  <thead>\n",
       "    <tr style=\"text-align: right;\">\n",
       "      <th></th>\n",
       "      <th>node</th>\n",
       "      <th>mode</th>\n",
       "      <th>threads</th>\n",
       "      <th>runs</th>\n",
       "      <th>duration_s</th>\n",
       "      <th>avg_events_per_s</th>\n",
       "      <th>stddev_events_per_s</th>\n",
       "      <th>timestamp</th>\n",
       "      <th>source_file</th>\n",
       "      <th>kind</th>\n",
       "    </tr>\n",
       "  </thead>\n",
       "  <tbody>\n",
       "    <tr>\n",
       "      <th>count</th>\n",
       "      <td>46</td>\n",
       "      <td>46</td>\n",
       "      <td>46.000000</td>\n",
       "      <td>46.0</td>\n",
       "      <td>46.0</td>\n",
       "      <td>4.600000e+01</td>\n",
       "      <td>4.600000e+01</td>\n",
       "      <td>46</td>\n",
       "      <td>46</td>\n",
       "      <td>46</td>\n",
       "    </tr>\n",
       "    <tr>\n",
       "      <th>unique</th>\n",
       "      <td>12</td>\n",
       "      <td>2</td>\n",
       "      <td>NaN</td>\n",
       "      <td>NaN</td>\n",
       "      <td>NaN</td>\n",
       "      <td>NaN</td>\n",
       "      <td>NaN</td>\n",
       "      <td>NaN</td>\n",
       "      <td>12</td>\n",
       "      <td>1</td>\n",
       "    </tr>\n",
       "    <tr>\n",
       "      <th>top</th>\n",
       "      <td>gpue01</td>\n",
       "      <td>mono</td>\n",
       "      <td>NaN</td>\n",
       "      <td>NaN</td>\n",
       "      <td>NaN</td>\n",
       "      <td>NaN</td>\n",
       "      <td>NaN</td>\n",
       "      <td>NaN</td>\n",
       "      <td>cpu_gpue01.csv</td>\n",
       "      <td>cpu</td>\n",
       "    </tr>\n",
       "    <tr>\n",
       "      <th>freq</th>\n",
       "      <td>4</td>\n",
       "      <td>23</td>\n",
       "      <td>NaN</td>\n",
       "      <td>NaN</td>\n",
       "      <td>NaN</td>\n",
       "      <td>NaN</td>\n",
       "      <td>NaN</td>\n",
       "      <td>NaN</td>\n",
       "      <td>4</td>\n",
       "      <td>46</td>\n",
       "    </tr>\n",
       "    <tr>\n",
       "      <th>mean</th>\n",
       "      <td>NaN</td>\n",
       "      <td>NaN</td>\n",
       "      <td>19.630435</td>\n",
       "      <td>3.0</td>\n",
       "      <td>2.0</td>\n",
       "      <td>2.851776e+08</td>\n",
       "      <td>3.649655e+06</td>\n",
       "      <td>2025-09-05 04:52:36.695652352+00:00</td>\n",
       "      <td>NaN</td>\n",
       "      <td>NaN</td>\n",
       "    </tr>\n",
       "    <tr>\n",
       "      <th>min</th>\n",
       "      <td>NaN</td>\n",
       "      <td>NaN</td>\n",
       "      <td>1.000000</td>\n",
       "      <td>3.0</td>\n",
       "      <td>2.0</td>\n",
       "      <td>1.027119e+07</td>\n",
       "      <td>4.029234e+03</td>\n",
       "      <td>2025-09-05 01:17:42+00:00</td>\n",
       "      <td>NaN</td>\n",
       "      <td>NaN</td>\n",
       "    </tr>\n",
       "    <tr>\n",
       "      <th>25%</th>\n",
       "      <td>NaN</td>\n",
       "      <td>NaN</td>\n",
       "      <td>1.000000</td>\n",
       "      <td>3.0</td>\n",
       "      <td>2.0</td>\n",
       "      <td>1.741501e+07</td>\n",
       "      <td>3.993927e+04</td>\n",
       "      <td>2025-09-05 01:17:48+00:00</td>\n",
       "      <td>NaN</td>\n",
       "      <td>NaN</td>\n",
       "    </tr>\n",
       "    <tr>\n",
       "      <th>50%</th>\n",
       "      <td>NaN</td>\n",
       "      <td>NaN</td>\n",
       "      <td>4.500000</td>\n",
       "      <td>3.0</td>\n",
       "      <td>2.0</td>\n",
       "      <td>5.079618e+07</td>\n",
       "      <td>1.428794e+05</td>\n",
       "      <td>2025-09-05 08:09:28+00:00</td>\n",
       "      <td>NaN</td>\n",
       "      <td>NaN</td>\n",
       "    </tr>\n",
       "    <tr>\n",
       "      <th>75%</th>\n",
       "      <td>NaN</td>\n",
       "      <td>NaN</td>\n",
       "      <td>40.000000</td>\n",
       "      <td>3.0</td>\n",
       "      <td>2.0</td>\n",
       "      <td>4.095689e+08</td>\n",
       "      <td>1.245854e+06</td>\n",
       "      <td>2025-09-05 08:09:33.249999872+00:00</td>\n",
       "      <td>NaN</td>\n",
       "      <td>NaN</td>\n",
       "    </tr>\n",
       "    <tr>\n",
       "      <th>max</th>\n",
       "      <td>NaN</td>\n",
       "      <td>NaN</td>\n",
       "      <td>64.000000</td>\n",
       "      <td>3.0</td>\n",
       "      <td>2.0</td>\n",
       "      <td>1.704417e+09</td>\n",
       "      <td>4.898755e+07</td>\n",
       "      <td>2025-09-05 08:09:37+00:00</td>\n",
       "      <td>NaN</td>\n",
       "      <td>NaN</td>\n",
       "    </tr>\n",
       "    <tr>\n",
       "      <th>std</th>\n",
       "      <td>NaN</td>\n",
       "      <td>NaN</td>\n",
       "      <td>22.920499</td>\n",
       "      <td>0.0</td>\n",
       "      <td>0.0</td>\n",
       "      <td>4.668856e+08</td>\n",
       "      <td>1.032873e+07</td>\n",
       "      <td>NaN</td>\n",
       "      <td>NaN</td>\n",
       "      <td>NaN</td>\n",
       "    </tr>\n",
       "  </tbody>\n",
       "</table>\n",
       "</div>"
      ],
      "text/plain": [
       "          node  mode    threads  runs  duration_s  avg_events_per_s  \\\n",
       "count       46    46  46.000000  46.0        46.0      4.600000e+01   \n",
       "unique      12     2        NaN   NaN         NaN               NaN   \n",
       "top     gpue01  mono        NaN   NaN         NaN               NaN   \n",
       "freq         4    23        NaN   NaN         NaN               NaN   \n",
       "mean       NaN   NaN  19.630435   3.0         2.0      2.851776e+08   \n",
       "min        NaN   NaN   1.000000   3.0         2.0      1.027119e+07   \n",
       "25%        NaN   NaN   1.000000   3.0         2.0      1.741501e+07   \n",
       "50%        NaN   NaN   4.500000   3.0         2.0      5.079618e+07   \n",
       "75%        NaN   NaN  40.000000   3.0         2.0      4.095689e+08   \n",
       "max        NaN   NaN  64.000000   3.0         2.0      1.704417e+09   \n",
       "std        NaN   NaN  22.920499   0.0         0.0      4.668856e+08   \n",
       "\n",
       "        stddev_events_per_s                            timestamp  \\\n",
       "count          4.600000e+01                                   46   \n",
       "unique                  NaN                                  NaN   \n",
       "top                     NaN                                  NaN   \n",
       "freq                    NaN                                  NaN   \n",
       "mean           3.649655e+06  2025-09-05 04:52:36.695652352+00:00   \n",
       "min            4.029234e+03            2025-09-05 01:17:42+00:00   \n",
       "25%            3.993927e+04            2025-09-05 01:17:48+00:00   \n",
       "50%            1.428794e+05            2025-09-05 08:09:28+00:00   \n",
       "75%            1.245854e+06  2025-09-05 08:09:33.249999872+00:00   \n",
       "max            4.898755e+07            2025-09-05 08:09:37+00:00   \n",
       "std            1.032873e+07                                  NaN   \n",
       "\n",
       "           source_file kind  \n",
       "count               46   46  \n",
       "unique              12    1  \n",
       "top     cpu_gpue01.csv  cpu  \n",
       "freq                 4   46  \n",
       "mean               NaN  NaN  \n",
       "min                NaN  NaN  \n",
       "25%                NaN  NaN  \n",
       "50%                NaN  NaN  \n",
       "75%                NaN  NaN  \n",
       "max                NaN  NaN  \n",
       "std                NaN  NaN  "
      ]
     },
     "metadata": {},
     "output_type": "display_data"
    },
    {
     "data": {
      "text/html": [
       "<h3>GPU — Aperçu</h3>"
      ],
      "text/plain": [
       "<IPython.core.display.HTML object>"
      ]
     },
     "metadata": {},
     "output_type": "display_data"
    },
    {
     "data": {
      "text/html": [
       "<div>\n",
       "<style scoped>\n",
       "    .dataframe tbody tr th:only-of-type {\n",
       "        vertical-align: middle;\n",
       "    }\n",
       "\n",
       "    .dataframe tbody tr th {\n",
       "        vertical-align: top;\n",
       "    }\n",
       "\n",
       "    .dataframe thead th {\n",
       "        text-align: right;\n",
       "    }\n",
       "</style>\n",
       "<table border=\"1\" class=\"dataframe\">\n",
       "  <thead>\n",
       "    <tr style=\"text-align: right;\">\n",
       "      <th></th>\n",
       "      <th>node</th>\n",
       "      <th>runs</th>\n",
       "      <th>duration_s</th>\n",
       "      <th>timestamp</th>\n",
       "      <th>torch_mono_avg</th>\n",
       "      <th>torch_mono_std</th>\n",
       "      <th>torch_multi_avg</th>\n",
       "      <th>torch_multi_std</th>\n",
       "      <th>torch_multi_gpus</th>\n",
       "      <th>cupy_mono_avg</th>\n",
       "      <th>...</th>\n",
       "      <th>numba_multi_avg</th>\n",
       "      <th>numba_multi_std</th>\n",
       "      <th>numba_multi_gpus</th>\n",
       "      <th>opencl_mono_avg</th>\n",
       "      <th>opencl_mono_std</th>\n",
       "      <th>opencl_multi_avg</th>\n",
       "      <th>opencl_multi_std</th>\n",
       "      <th>opencl_multi_gpus</th>\n",
       "      <th>source_file</th>\n",
       "      <th>kind</th>\n",
       "    </tr>\n",
       "  </thead>\n",
       "  <tbody>\n",
       "    <tr>\n",
       "      <th>0</th>\n",
       "      <td>gpue01</td>\n",
       "      <td>3</td>\n",
       "      <td>2.0</td>\n",
       "      <td>2025-09-05 03:16:27+00:00</td>\n",
       "      <td>4.873039e+10</td>\n",
       "      <td>3.256704e+06</td>\n",
       "      <td>9.728833e+10</td>\n",
       "      <td>2.064437e+08</td>\n",
       "      <td>2</td>\n",
       "      <td>1.122233e+13</td>\n",
       "      <td>...</td>\n",
       "      <td>NaN</td>\n",
       "      <td>NaN</td>\n",
       "      <td>NaN</td>\n",
       "      <td>NaN</td>\n",
       "      <td>NaN</td>\n",
       "      <td>NaN</td>\n",
       "      <td>NaN</td>\n",
       "      <td>NaN</td>\n",
       "      <td>gpu_gpue01.csv</td>\n",
       "      <td>gpu</td>\n",
       "    </tr>\n",
       "    <tr>\n",
       "      <th>1</th>\n",
       "      <td>gpue02</td>\n",
       "      <td>3</td>\n",
       "      <td>2.0</td>\n",
       "      <td>2025-09-05 03:16:27+00:00</td>\n",
       "      <td>4.888121e+10</td>\n",
       "      <td>8.385736e+06</td>\n",
       "      <td>1.937897e+11</td>\n",
       "      <td>7.646441e+08</td>\n",
       "      <td>4</td>\n",
       "      <td>1.082450e+13</td>\n",
       "      <td>...</td>\n",
       "      <td>NaN</td>\n",
       "      <td>NaN</td>\n",
       "      <td>NaN</td>\n",
       "      <td>NaN</td>\n",
       "      <td>NaN</td>\n",
       "      <td>NaN</td>\n",
       "      <td>NaN</td>\n",
       "      <td>NaN</td>\n",
       "      <td>gpu_gpue02.csv</td>\n",
       "      <td>gpu</td>\n",
       "    </tr>\n",
       "    <tr>\n",
       "      <th>2</th>\n",
       "      <td>gpue03</td>\n",
       "      <td>3</td>\n",
       "      <td>2.0</td>\n",
       "      <td>2025-09-05 03:16:27+00:00</td>\n",
       "      <td>4.874984e+10</td>\n",
       "      <td>1.848734e+07</td>\n",
       "      <td>1.942081e+11</td>\n",
       "      <td>8.731143e+08</td>\n",
       "      <td>4</td>\n",
       "      <td>1.093921e+13</td>\n",
       "      <td>...</td>\n",
       "      <td>NaN</td>\n",
       "      <td>NaN</td>\n",
       "      <td>NaN</td>\n",
       "      <td>NaN</td>\n",
       "      <td>NaN</td>\n",
       "      <td>NaN</td>\n",
       "      <td>NaN</td>\n",
       "      <td>NaN</td>\n",
       "      <td>gpu_gpue03.csv</td>\n",
       "      <td>gpu</td>\n",
       "    </tr>\n",
       "    <tr>\n",
       "      <th>3</th>\n",
       "      <td>gpue04</td>\n",
       "      <td>3</td>\n",
       "      <td>2.0</td>\n",
       "      <td>2025-09-05 03:16:27+00:00</td>\n",
       "      <td>4.894804e+10</td>\n",
       "      <td>3.551614e+06</td>\n",
       "      <td>1.944349e+11</td>\n",
       "      <td>7.165330e+08</td>\n",
       "      <td>4</td>\n",
       "      <td>1.086868e+13</td>\n",
       "      <td>...</td>\n",
       "      <td>NaN</td>\n",
       "      <td>NaN</td>\n",
       "      <td>NaN</td>\n",
       "      <td>NaN</td>\n",
       "      <td>NaN</td>\n",
       "      <td>NaN</td>\n",
       "      <td>NaN</td>\n",
       "      <td>NaN</td>\n",
       "      <td>gpu_gpue04.csv</td>\n",
       "      <td>gpu</td>\n",
       "    </tr>\n",
       "    <tr>\n",
       "      <th>4</th>\n",
       "      <td>gpue05</td>\n",
       "      <td>3</td>\n",
       "      <td>2.0</td>\n",
       "      <td>2025-09-05 03:16:27+00:00</td>\n",
       "      <td>4.873449e+10</td>\n",
       "      <td>7.652187e+06</td>\n",
       "      <td>1.943479e+11</td>\n",
       "      <td>6.484562e+08</td>\n",
       "      <td>4</td>\n",
       "      <td>1.102265e+13</td>\n",
       "      <td>...</td>\n",
       "      <td>NaN</td>\n",
       "      <td>NaN</td>\n",
       "      <td>NaN</td>\n",
       "      <td>NaN</td>\n",
       "      <td>NaN</td>\n",
       "      <td>NaN</td>\n",
       "      <td>NaN</td>\n",
       "      <td>NaN</td>\n",
       "      <td>gpu_gpue05.csv</td>\n",
       "      <td>gpu</td>\n",
       "    </tr>\n",
       "  </tbody>\n",
       "</table>\n",
       "<p>5 rows × 26 columns</p>\n",
       "</div>"
      ],
      "text/plain": [
       "     node  runs  duration_s                 timestamp  torch_mono_avg  \\\n",
       "0  gpue01     3         2.0 2025-09-05 03:16:27+00:00    4.873039e+10   \n",
       "1  gpue02     3         2.0 2025-09-05 03:16:27+00:00    4.888121e+10   \n",
       "2  gpue03     3         2.0 2025-09-05 03:16:27+00:00    4.874984e+10   \n",
       "3  gpue04     3         2.0 2025-09-05 03:16:27+00:00    4.894804e+10   \n",
       "4  gpue05     3         2.0 2025-09-05 03:16:27+00:00    4.873449e+10   \n",
       "\n",
       "   torch_mono_std  torch_multi_avg  torch_multi_std  torch_multi_gpus  \\\n",
       "0    3.256704e+06     9.728833e+10     2.064437e+08                 2   \n",
       "1    8.385736e+06     1.937897e+11     7.646441e+08                 4   \n",
       "2    1.848734e+07     1.942081e+11     8.731143e+08                 4   \n",
       "3    3.551614e+06     1.944349e+11     7.165330e+08                 4   \n",
       "4    7.652187e+06     1.943479e+11     6.484562e+08                 4   \n",
       "\n",
       "   cupy_mono_avg  ...  numba_multi_avg  numba_multi_std  numba_multi_gpus  \\\n",
       "0   1.122233e+13  ...              NaN              NaN               NaN   \n",
       "1   1.082450e+13  ...              NaN              NaN               NaN   \n",
       "2   1.093921e+13  ...              NaN              NaN               NaN   \n",
       "3   1.086868e+13  ...              NaN              NaN               NaN   \n",
       "4   1.102265e+13  ...              NaN              NaN               NaN   \n",
       "\n",
       "   opencl_mono_avg  opencl_mono_std  opencl_multi_avg  opencl_multi_std  \\\n",
       "0              NaN              NaN               NaN               NaN   \n",
       "1              NaN              NaN               NaN               NaN   \n",
       "2              NaN              NaN               NaN               NaN   \n",
       "3              NaN              NaN               NaN               NaN   \n",
       "4              NaN              NaN               NaN               NaN   \n",
       "\n",
       "   opencl_multi_gpus     source_file  kind  \n",
       "0                NaN  gpu_gpue01.csv   gpu  \n",
       "1                NaN  gpu_gpue02.csv   gpu  \n",
       "2                NaN  gpu_gpue03.csv   gpu  \n",
       "3                NaN  gpu_gpue04.csv   gpu  \n",
       "4                NaN  gpu_gpue05.csv   gpu  \n",
       "\n",
       "[5 rows x 26 columns]"
      ]
     },
     "metadata": {},
     "output_type": "display_data"
    },
    {
     "data": {
      "text/html": [
       "<div>\n",
       "<style scoped>\n",
       "    .dataframe tbody tr th:only-of-type {\n",
       "        vertical-align: middle;\n",
       "    }\n",
       "\n",
       "    .dataframe tbody tr th {\n",
       "        vertical-align: top;\n",
       "    }\n",
       "\n",
       "    .dataframe thead th {\n",
       "        text-align: right;\n",
       "    }\n",
       "</style>\n",
       "<table border=\"1\" class=\"dataframe\">\n",
       "  <thead>\n",
       "    <tr style=\"text-align: right;\">\n",
       "      <th></th>\n",
       "      <th>node</th>\n",
       "      <th>runs</th>\n",
       "      <th>duration_s</th>\n",
       "      <th>timestamp</th>\n",
       "      <th>torch_mono_avg</th>\n",
       "      <th>torch_mono_std</th>\n",
       "      <th>torch_multi_avg</th>\n",
       "      <th>torch_multi_std</th>\n",
       "      <th>torch_multi_gpus</th>\n",
       "      <th>cupy_mono_avg</th>\n",
       "      <th>...</th>\n",
       "      <th>numba_multi_avg</th>\n",
       "      <th>numba_multi_std</th>\n",
       "      <th>numba_multi_gpus</th>\n",
       "      <th>opencl_mono_avg</th>\n",
       "      <th>opencl_mono_std</th>\n",
       "      <th>opencl_multi_avg</th>\n",
       "      <th>opencl_multi_std</th>\n",
       "      <th>opencl_multi_gpus</th>\n",
       "      <th>source_file</th>\n",
       "      <th>kind</th>\n",
       "    </tr>\n",
       "  </thead>\n",
       "  <tbody>\n",
       "    <tr>\n",
       "      <th>count</th>\n",
       "      <td>12</td>\n",
       "      <td>12.0</td>\n",
       "      <td>12.0</td>\n",
       "      <td>12</td>\n",
       "      <td>1.200000e+01</td>\n",
       "      <td>1.200000e+01</td>\n",
       "      <td>1.200000e+01</td>\n",
       "      <td>1.200000e+01</td>\n",
       "      <td>12.000000</td>\n",
       "      <td>1.200000e+01</td>\n",
       "      <td>...</td>\n",
       "      <td>0.0</td>\n",
       "      <td>0.0</td>\n",
       "      <td>0.0</td>\n",
       "      <td>0.0</td>\n",
       "      <td>0.0</td>\n",
       "      <td>0.0</td>\n",
       "      <td>0.0</td>\n",
       "      <td>0.0</td>\n",
       "      <td>12</td>\n",
       "      <td>12</td>\n",
       "    </tr>\n",
       "    <tr>\n",
       "      <th>unique</th>\n",
       "      <td>12</td>\n",
       "      <td>NaN</td>\n",
       "      <td>NaN</td>\n",
       "      <td>NaN</td>\n",
       "      <td>NaN</td>\n",
       "      <td>NaN</td>\n",
       "      <td>NaN</td>\n",
       "      <td>NaN</td>\n",
       "      <td>NaN</td>\n",
       "      <td>NaN</td>\n",
       "      <td>...</td>\n",
       "      <td>NaN</td>\n",
       "      <td>NaN</td>\n",
       "      <td>NaN</td>\n",
       "      <td>NaN</td>\n",
       "      <td>NaN</td>\n",
       "      <td>NaN</td>\n",
       "      <td>NaN</td>\n",
       "      <td>NaN</td>\n",
       "      <td>12</td>\n",
       "      <td>1</td>\n",
       "    </tr>\n",
       "    <tr>\n",
       "      <th>top</th>\n",
       "      <td>gpue01</td>\n",
       "      <td>NaN</td>\n",
       "      <td>NaN</td>\n",
       "      <td>NaN</td>\n",
       "      <td>NaN</td>\n",
       "      <td>NaN</td>\n",
       "      <td>NaN</td>\n",
       "      <td>NaN</td>\n",
       "      <td>NaN</td>\n",
       "      <td>NaN</td>\n",
       "      <td>...</td>\n",
       "      <td>NaN</td>\n",
       "      <td>NaN</td>\n",
       "      <td>NaN</td>\n",
       "      <td>NaN</td>\n",
       "      <td>NaN</td>\n",
       "      <td>NaN</td>\n",
       "      <td>NaN</td>\n",
       "      <td>NaN</td>\n",
       "      <td>gpu_gpue01.csv</td>\n",
       "      <td>gpu</td>\n",
       "    </tr>\n",
       "    <tr>\n",
       "      <th>freq</th>\n",
       "      <td>1</td>\n",
       "      <td>NaN</td>\n",
       "      <td>NaN</td>\n",
       "      <td>NaN</td>\n",
       "      <td>NaN</td>\n",
       "      <td>NaN</td>\n",
       "      <td>NaN</td>\n",
       "      <td>NaN</td>\n",
       "      <td>NaN</td>\n",
       "      <td>NaN</td>\n",
       "      <td>...</td>\n",
       "      <td>NaN</td>\n",
       "      <td>NaN</td>\n",
       "      <td>NaN</td>\n",
       "      <td>NaN</td>\n",
       "      <td>NaN</td>\n",
       "      <td>NaN</td>\n",
       "      <td>NaN</td>\n",
       "      <td>NaN</td>\n",
       "      <td>1</td>\n",
       "      <td>12</td>\n",
       "    </tr>\n",
       "    <tr>\n",
       "      <th>mean</th>\n",
       "      <td>NaN</td>\n",
       "      <td>3.0</td>\n",
       "      <td>2.0</td>\n",
       "      <td>2025-09-05 03:16:26.916666624+00:00</td>\n",
       "      <td>4.884495e+10</td>\n",
       "      <td>6.359659e+06</td>\n",
       "      <td>1.467876e+11</td>\n",
       "      <td>4.394467e+08</td>\n",
       "      <td>3.000000</td>\n",
       "      <td>1.088027e+13</td>\n",
       "      <td>...</td>\n",
       "      <td>NaN</td>\n",
       "      <td>NaN</td>\n",
       "      <td>NaN</td>\n",
       "      <td>NaN</td>\n",
       "      <td>NaN</td>\n",
       "      <td>NaN</td>\n",
       "      <td>NaN</td>\n",
       "      <td>NaN</td>\n",
       "      <td>NaN</td>\n",
       "      <td>NaN</td>\n",
       "    </tr>\n",
       "    <tr>\n",
       "      <th>min</th>\n",
       "      <td>NaN</td>\n",
       "      <td>3.0</td>\n",
       "      <td>2.0</td>\n",
       "      <td>2025-09-05 03:16:12+00:00</td>\n",
       "      <td>3.281847e+10</td>\n",
       "      <td>6.266076e+05</td>\n",
       "      <td>6.552301e+10</td>\n",
       "      <td>6.754321e+07</td>\n",
       "      <td>2.000000</td>\n",
       "      <td>5.952218e+12</td>\n",
       "      <td>...</td>\n",
       "      <td>NaN</td>\n",
       "      <td>NaN</td>\n",
       "      <td>NaN</td>\n",
       "      <td>NaN</td>\n",
       "      <td>NaN</td>\n",
       "      <td>NaN</td>\n",
       "      <td>NaN</td>\n",
       "      <td>NaN</td>\n",
       "      <td>NaN</td>\n",
       "      <td>NaN</td>\n",
       "    </tr>\n",
       "    <tr>\n",
       "      <th>25%</th>\n",
       "      <td>NaN</td>\n",
       "      <td>3.0</td>\n",
       "      <td>2.0</td>\n",
       "      <td>2025-09-05 03:16:27+00:00</td>\n",
       "      <td>3.594330e+10</td>\n",
       "      <td>1.036188e+06</td>\n",
       "      <td>8.936457e+10</td>\n",
       "      <td>1.975086e+08</td>\n",
       "      <td>2.000000</td>\n",
       "      <td>7.975947e+12</td>\n",
       "      <td>...</td>\n",
       "      <td>NaN</td>\n",
       "      <td>NaN</td>\n",
       "      <td>NaN</td>\n",
       "      <td>NaN</td>\n",
       "      <td>NaN</td>\n",
       "      <td>NaN</td>\n",
       "      <td>NaN</td>\n",
       "      <td>NaN</td>\n",
       "      <td>NaN</td>\n",
       "      <td>NaN</td>\n",
       "    </tr>\n",
       "    <tr>\n",
       "      <th>50%</th>\n",
       "      <td>NaN</td>\n",
       "      <td>3.0</td>\n",
       "      <td>2.0</td>\n",
       "      <td>2025-09-05 03:16:27+00:00</td>\n",
       "      <td>4.874216e+10</td>\n",
       "      <td>3.404159e+06</td>\n",
       "      <td>1.719284e+11</td>\n",
       "      <td>3.011606e+08</td>\n",
       "      <td>3.000000</td>\n",
       "      <td>1.090395e+13</td>\n",
       "      <td>...</td>\n",
       "      <td>NaN</td>\n",
       "      <td>NaN</td>\n",
       "      <td>NaN</td>\n",
       "      <td>NaN</td>\n",
       "      <td>NaN</td>\n",
       "      <td>NaN</td>\n",
       "      <td>NaN</td>\n",
       "      <td>NaN</td>\n",
       "      <td>NaN</td>\n",
       "      <td>NaN</td>\n",
       "    </tr>\n",
       "    <tr>\n",
       "      <th>75%</th>\n",
       "      <td>NaN</td>\n",
       "      <td>3.0</td>\n",
       "      <td>2.0</td>\n",
       "      <td>2025-09-05 03:16:30.249999872+00:00</td>\n",
       "      <td>5.314467e+10</td>\n",
       "      <td>7.835574e+06</td>\n",
       "      <td>1.943696e+11</td>\n",
       "      <td>7.285608e+08</td>\n",
       "      <td>4.000000</td>\n",
       "      <td>1.212829e+13</td>\n",
       "      <td>...</td>\n",
       "      <td>NaN</td>\n",
       "      <td>NaN</td>\n",
       "      <td>NaN</td>\n",
       "      <td>NaN</td>\n",
       "      <td>NaN</td>\n",
       "      <td>NaN</td>\n",
       "      <td>NaN</td>\n",
       "      <td>NaN</td>\n",
       "      <td>NaN</td>\n",
       "      <td>NaN</td>\n",
       "    </tr>\n",
       "    <tr>\n",
       "      <th>max</th>\n",
       "      <td>NaN</td>\n",
       "      <td>3.0</td>\n",
       "      <td>2.0</td>\n",
       "      <td>2025-09-05 03:16:38+00:00</td>\n",
       "      <td>7.512983e+10</td>\n",
       "      <td>2.495668e+07</td>\n",
       "      <td>1.969302e+11</td>\n",
       "      <td>8.731143e+08</td>\n",
       "      <td>4.000000</td>\n",
       "      <td>1.624086e+13</td>\n",
       "      <td>...</td>\n",
       "      <td>NaN</td>\n",
       "      <td>NaN</td>\n",
       "      <td>NaN</td>\n",
       "      <td>NaN</td>\n",
       "      <td>NaN</td>\n",
       "      <td>NaN</td>\n",
       "      <td>NaN</td>\n",
       "      <td>NaN</td>\n",
       "      <td>NaN</td>\n",
       "      <td>NaN</td>\n",
       "    </tr>\n",
       "    <tr>\n",
       "      <th>std</th>\n",
       "      <td>NaN</td>\n",
       "      <td>0.0</td>\n",
       "      <td>0.0</td>\n",
       "      <td>NaN</td>\n",
       "      <td>1.404909e+10</td>\n",
       "      <td>7.739438e+06</td>\n",
       "      <td>5.739699e+10</td>\n",
       "      <td>2.963026e+08</td>\n",
       "      <td>0.953463</td>\n",
       "      <td>3.172434e+12</td>\n",
       "      <td>...</td>\n",
       "      <td>NaN</td>\n",
       "      <td>NaN</td>\n",
       "      <td>NaN</td>\n",
       "      <td>NaN</td>\n",
       "      <td>NaN</td>\n",
       "      <td>NaN</td>\n",
       "      <td>NaN</td>\n",
       "      <td>NaN</td>\n",
       "      <td>NaN</td>\n",
       "      <td>NaN</td>\n",
       "    </tr>\n",
       "  </tbody>\n",
       "</table>\n",
       "<p>11 rows × 26 columns</p>\n",
       "</div>"
      ],
      "text/plain": [
       "          node  runs  duration_s                            timestamp  \\\n",
       "count       12  12.0        12.0                                   12   \n",
       "unique      12   NaN         NaN                                  NaN   \n",
       "top     gpue01   NaN         NaN                                  NaN   \n",
       "freq         1   NaN         NaN                                  NaN   \n",
       "mean       NaN   3.0         2.0  2025-09-05 03:16:26.916666624+00:00   \n",
       "min        NaN   3.0         2.0            2025-09-05 03:16:12+00:00   \n",
       "25%        NaN   3.0         2.0            2025-09-05 03:16:27+00:00   \n",
       "50%        NaN   3.0         2.0            2025-09-05 03:16:27+00:00   \n",
       "75%        NaN   3.0         2.0  2025-09-05 03:16:30.249999872+00:00   \n",
       "max        NaN   3.0         2.0            2025-09-05 03:16:38+00:00   \n",
       "std        NaN   0.0         0.0                                  NaN   \n",
       "\n",
       "        torch_mono_avg  torch_mono_std  torch_multi_avg  torch_multi_std  \\\n",
       "count     1.200000e+01    1.200000e+01     1.200000e+01     1.200000e+01   \n",
       "unique             NaN             NaN              NaN              NaN   \n",
       "top                NaN             NaN              NaN              NaN   \n",
       "freq               NaN             NaN              NaN              NaN   \n",
       "mean      4.884495e+10    6.359659e+06     1.467876e+11     4.394467e+08   \n",
       "min       3.281847e+10    6.266076e+05     6.552301e+10     6.754321e+07   \n",
       "25%       3.594330e+10    1.036188e+06     8.936457e+10     1.975086e+08   \n",
       "50%       4.874216e+10    3.404159e+06     1.719284e+11     3.011606e+08   \n",
       "75%       5.314467e+10    7.835574e+06     1.943696e+11     7.285608e+08   \n",
       "max       7.512983e+10    2.495668e+07     1.969302e+11     8.731143e+08   \n",
       "std       1.404909e+10    7.739438e+06     5.739699e+10     2.963026e+08   \n",
       "\n",
       "        torch_multi_gpus  cupy_mono_avg  ...  numba_multi_avg  \\\n",
       "count          12.000000   1.200000e+01  ...              0.0   \n",
       "unique               NaN            NaN  ...              NaN   \n",
       "top                  NaN            NaN  ...              NaN   \n",
       "freq                 NaN            NaN  ...              NaN   \n",
       "mean            3.000000   1.088027e+13  ...              NaN   \n",
       "min             2.000000   5.952218e+12  ...              NaN   \n",
       "25%             2.000000   7.975947e+12  ...              NaN   \n",
       "50%             3.000000   1.090395e+13  ...              NaN   \n",
       "75%             4.000000   1.212829e+13  ...              NaN   \n",
       "max             4.000000   1.624086e+13  ...              NaN   \n",
       "std             0.953463   3.172434e+12  ...              NaN   \n",
       "\n",
       "        numba_multi_std  numba_multi_gpus  opencl_mono_avg  opencl_mono_std  \\\n",
       "count               0.0               0.0              0.0              0.0   \n",
       "unique              NaN               NaN              NaN              NaN   \n",
       "top                 NaN               NaN              NaN              NaN   \n",
       "freq                NaN               NaN              NaN              NaN   \n",
       "mean                NaN               NaN              NaN              NaN   \n",
       "min                 NaN               NaN              NaN              NaN   \n",
       "25%                 NaN               NaN              NaN              NaN   \n",
       "50%                 NaN               NaN              NaN              NaN   \n",
       "75%                 NaN               NaN              NaN              NaN   \n",
       "max                 NaN               NaN              NaN              NaN   \n",
       "std                 NaN               NaN              NaN              NaN   \n",
       "\n",
       "        opencl_multi_avg  opencl_multi_std  opencl_multi_gpus     source_file  \\\n",
       "count                0.0               0.0                0.0              12   \n",
       "unique               NaN               NaN                NaN              12   \n",
       "top                  NaN               NaN                NaN  gpu_gpue01.csv   \n",
       "freq                 NaN               NaN                NaN               1   \n",
       "mean                 NaN               NaN                NaN             NaN   \n",
       "min                  NaN               NaN                NaN             NaN   \n",
       "25%                  NaN               NaN                NaN             NaN   \n",
       "50%                  NaN               NaN                NaN             NaN   \n",
       "75%                  NaN               NaN                NaN             NaN   \n",
       "max                  NaN               NaN                NaN             NaN   \n",
       "std                  NaN               NaN                NaN             NaN   \n",
       "\n",
       "        kind  \n",
       "count     12  \n",
       "unique     1  \n",
       "top      gpu  \n",
       "freq      12  \n",
       "mean     NaN  \n",
       "min      NaN  \n",
       "25%      NaN  \n",
       "50%      NaN  \n",
       "75%      NaN  \n",
       "max      NaN  \n",
       "std      NaN  \n",
       "\n",
       "[11 rows x 26 columns]"
      ]
     },
     "metadata": {},
     "output_type": "display_data"
    },
    {
     "data": {
      "text/html": [
       "<div>\n",
       "<style scoped>\n",
       "    .dataframe tbody tr th:only-of-type {\n",
       "        vertical-align: middle;\n",
       "    }\n",
       "\n",
       "    .dataframe tbody tr th {\n",
       "        vertical-align: top;\n",
       "    }\n",
       "\n",
       "    .dataframe thead th {\n",
       "        text-align: right;\n",
       "    }\n",
       "</style>\n",
       "<table border=\"1\" class=\"dataframe\">\n",
       "  <thead>\n",
       "    <tr style=\"text-align: right;\">\n",
       "      <th></th>\n",
       "      <th>count</th>\n",
       "    </tr>\n",
       "    <tr>\n",
       "      <th>node</th>\n",
       "      <th></th>\n",
       "    </tr>\n",
       "  </thead>\n",
       "  <tbody>\n",
       "    <tr>\n",
       "      <th>gpue01</th>\n",
       "      <td>5</td>\n",
       "    </tr>\n",
       "    <tr>\n",
       "      <th>gpue02</th>\n",
       "      <td>5</td>\n",
       "    </tr>\n",
       "    <tr>\n",
       "      <th>gpue03</th>\n",
       "      <td>5</td>\n",
       "    </tr>\n",
       "    <tr>\n",
       "      <th>gpue04</th>\n",
       "      <td>5</td>\n",
       "    </tr>\n",
       "    <tr>\n",
       "      <th>gpue05</th>\n",
       "      <td>5</td>\n",
       "    </tr>\n",
       "    <tr>\n",
       "      <th>gpue06</th>\n",
       "      <td>5</td>\n",
       "    </tr>\n",
       "    <tr>\n",
       "      <th>gpue07</th>\n",
       "      <td>5</td>\n",
       "    </tr>\n",
       "    <tr>\n",
       "      <th>gpue08</th>\n",
       "      <td>5</td>\n",
       "    </tr>\n",
       "    <tr>\n",
       "      <th>gpue09</th>\n",
       "      <td>5</td>\n",
       "    </tr>\n",
       "    <tr>\n",
       "      <th>gpue10</th>\n",
       "      <td>5</td>\n",
       "    </tr>\n",
       "    <tr>\n",
       "      <th>gpue11</th>\n",
       "      <td>5</td>\n",
       "    </tr>\n",
       "    <tr>\n",
       "      <th>gpue12</th>\n",
       "      <td>3</td>\n",
       "    </tr>\n",
       "  </tbody>\n",
       "</table>\n",
       "</div>"
      ],
      "text/plain": [
       "        count\n",
       "node         \n",
       "gpue01      5\n",
       "gpue02      5\n",
       "gpue03      5\n",
       "gpue04      5\n",
       "gpue05      5\n",
       "gpue06      5\n",
       "gpue07      5\n",
       "gpue08      5\n",
       "gpue09      5\n",
       "gpue10      5\n",
       "gpue11      5\n",
       "gpue12      3"
      ]
     },
     "metadata": {},
     "output_type": "display_data"
    }
   ],
   "source": [
    "# Section 4 — Aperçu et validation des données\n",
    "\n",
    "if not cpu_norm.empty:\n",
    "    display(HTML(\"<h3>CPU — Aperçu</h3>\"))\n",
    "    display(cpu_norm.head())\n",
    "    display(cpu_norm.describe(include=\"all\"))\n",
    "\n",
    "if not gpu_norm.empty:\n",
    "    display(HTML(\"<h3>GPU — Aperçu</h3>\"))\n",
    "    display(gpu_norm.head())\n",
    "    display(gpu_norm.describe(include=\"all\"))\n",
    "\n",
    "# Vérifs simples\n",
    "if \"node\" in all_runs:\n",
    "    display(all_runs[\"node\"].value_counts().to_frame(\"count\").head(20))"
   ]
  },
  {
   "cell_type": "code",
   "execution_count": 6,
   "id": "095968fe",
   "metadata": {},
   "outputs": [
    {
     "name": "stdout",
     "output_type": "stream",
     "text": [
      "best_cpu: (24, 11) best_gpu: (96, 9)\n"
     ]
    }
   ],
   "source": [
    "# Section 5 — Calcul de métriques dérivées par run\n",
    "\n",
    "# CPU: meilleures perfs par nœud et par mode\n",
    "best_cpu = pd.DataFrame()\n",
    "if not cpu_norm.empty:\n",
    "    best_cpu = (cpu_norm\n",
    "                .assign(key=lambda d: d[\"node\"].astype(str) + \"::\" + d[\"mode\"].astype(str))\n",
    "                .sort_values(\"avg_events_per_s\", ascending=False)\n",
    "                .groupby(\"key\", as_index=False)\n",
    "                .head(1))\n",
    "\n",
    "# GPU: extraire les *_mono_avg / *_multi_avg en colonnes longues et repérer le max par nœud\n",
    "best_gpu = pd.DataFrame()\n",
    "if not gpu_long.empty:\n",
    "    # garder uniquement les colonnes *_avg\n",
    "    gpu_avg = gpu_long[gpu_long[\"metric\"].str.endswith(\"_avg\", na=False)].copy()\n",
    "    best_gpu = (gpu_avg\n",
    "                .assign(key=lambda d: d[\"node\"].astype(str))\n",
    "                .sort_values(\"value\", ascending=False)\n",
    "                .groupby([\"key\", \"metric\"], as_index=False)\n",
    "                .head(1))\n",
    "\n",
    "print(\"best_cpu:\", best_cpu.shape, \"best_gpu:\", best_gpu.shape)"
   ]
  },
  {
   "cell_type": "code",
   "execution_count": 7,
   "id": "2b0937e0",
   "metadata": {},
   "outputs": [
    {
     "data": {
      "text/html": [
       "<h3>CPU — Meilleures perfs par nœud (mode multi)</h3>"
      ],
      "text/plain": [
       "<IPython.core.display.HTML object>"
      ]
     },
     "metadata": {},
     "output_type": "display_data"
    },
    {
     "data": {
      "image/png": "[encoded data removed]",
      "text/plain": [
       "<Figure size 1000x500 with 1 Axes>"
      ]
     },
     "metadata": {},
     "output_type": "display_data"
    },
    {
     "data": {
      "text/html": [
       "<h3>GPU — Distribution des meilleures métriques (monos et multi)</h3>"
      ],
      "text/plain": [
       "<IPython.core.display.HTML object>"
      ]
     },
     "metadata": {},
     "output_type": "display_data"
    },
    {
     "data": {
      "image/png": "[encoded data removed]",
      "text/plain": [
       "<Figure size 1000x500 with 1 Axes>"
      ]
     },
     "metadata": {},
     "output_type": "display_data"
    }
   ],
   "source": [
    "# Section 6 — Visualisations (lignes/évolution si step, sinon barres)\n",
    "\n",
    "if not cpu_norm.empty:\n",
    "    display(HTML(\"<h3>CPU — Meilleures perfs par nœud (mode multi)</h3>\"))\n",
    "    cpu_multi = cpu_norm[cpu_norm.get(\"mode\")==\"multi\"].copy()\n",
    "    top_cpu = (cpu_multi\n",
    "               .sort_values([\"node\", \"avg_events_per_s\"], ascending=[True, False])\n",
    "               .groupby(\"node\", as_index=False).head(1))\n",
    "    ax = sns.barplot(data=top_cpu.sort_values(\"avg_events_per_s\", ascending=False),\n",
    "                     x=\"avg_events_per_s\", y=\"node\", color=\"#4C78A8\")\n",
    "    ax.set_xlabel(\"events/s (avg)\")\n",
    "    ax.set_ylabel(\"node\")\n",
    "    plt.show()\n",
    "\n",
    "if not gpu_long.empty:\n",
    "    display(HTML(\"<h3>GPU — Distribution des meilleures métriques (monos et multi)</h3>\"))\n",
    "    g = sns.histplot(data=gpu_long[gpu_long[\"metric\"].str.endswith(\"_avg\")], x=\"value\", hue=\"metric\", element=\"step\", stat=\"density\", common_norm=False)\n",
    "    plt.show()"
   ]
  },
  {
   "cell_type": "code",
   "execution_count": 8,
   "id": "331680e8",
   "metadata": {},
   "outputs": [
    {
     "data": {
      "text/html": [
       "<h4>CPU — Histogramme avg_events_per_s</h4>"
      ],
      "text/plain": [
       "<IPython.core.display.HTML object>"
      ]
     },
     "metadata": {},
     "output_type": "display_data"
    },
    {
     "data": {
      "image/png": "[encoded data removed]",
      "text/plain": [
       "<Figure size 1000x500 with 1 Axes>"
      ]
     },
     "metadata": {},
     "output_type": "display_data"
    },
    {
     "data": {
      "image/png": "[encoded data removed]",
      "text/plain": [
       "<Figure size 1000x500 with 2 Axes>"
      ]
     },
     "metadata": {},
     "output_type": "display_data"
    }
   ],
   "source": [
    "# Section 7 — Distributions et corrélations\n",
    "\n",
    "if not cpu_norm.empty:\n",
    "    display(HTML(\"<h4>CPU — Histogramme avg_events_per_s</h4>\"))\n",
    "    sns.histplot(cpu_norm[\"avg_events_per_s\"].dropna(), kde=True)\n",
    "    plt.show()\n",
    "\n",
    "if not gpu_long.empty:\n",
    "    # Matrice de corrélation sur les moyennes par backend (au format large)\n",
    "    gpu_avg_wide = (gpu_long[gpu_long[\"metric\"].str.endswith(\"_avg\")] \n",
    "                    .pivot_table(index=\"node\", columns=\"metric\", values=\"value\", aggfunc=\"mean\"))\n",
    "    if not gpu_avg_wide.empty:\n",
    "        corr = gpu_avg_wide.corr(numeric_only=True)\n",
    "        sns.heatmap(corr, cmap=\"coolwarm\", center=0)\n",
    "        plt.title(\"GPU — Corrélations des métriques\")\n",
    "        plt.show()"
   ]
  },
  {
   "cell_type": "code",
   "execution_count": 9,
   "id": "4a19a631",
   "metadata": {},
   "outputs": [
    {
     "data": {
      "text/html": [
       "<div>\n",
       "<style scoped>\n",
       "    .dataframe tbody tr th:only-of-type {\n",
       "        vertical-align: middle;\n",
       "    }\n",
       "\n",
       "    .dataframe tbody tr th {\n",
       "        vertical-align: top;\n",
       "    }\n",
       "\n",
       "    .dataframe thead th {\n",
       "        text-align: right;\n",
       "    }\n",
       "</style>\n",
       "<table border=\"1\" class=\"dataframe\">\n",
       "  <thead>\n",
       "    <tr style=\"text-align: right;\">\n",
       "      <th></th>\n",
       "      <th>node</th>\n",
       "      <th>mode</th>\n",
       "      <th>threads</th>\n",
       "      <th>runs</th>\n",
       "      <th>duration_s</th>\n",
       "      <th>avg_events_per_s</th>\n",
       "      <th>stddev_events_per_s</th>\n",
       "      <th>timestamp</th>\n",
       "      <th>source_file</th>\n",
       "      <th>kind</th>\n",
       "    </tr>\n",
       "  </thead>\n",
       "  <tbody>\n",
       "    <tr>\n",
       "      <th>21</th>\n",
       "      <td>gpue06</td>\n",
       "      <td>multi</td>\n",
       "      <td>64</td>\n",
       "      <td>3</td>\n",
       "      <td>2.0</td>\n",
       "      <td>1.704417e+09</td>\n",
       "      <td>4.020428e+07</td>\n",
       "      <td>2025-09-05 01:17:48+00:00</td>\n",
       "      <td>cpu_gpue06.csv</td>\n",
       "      <td>cpu</td>\n",
       "    </tr>\n",
       "    <tr>\n",
       "      <th>25</th>\n",
       "      <td>gpue07</td>\n",
       "      <td>multi</td>\n",
       "      <td>64</td>\n",
       "      <td>3</td>\n",
       "      <td>2.0</td>\n",
       "      <td>1.634246e+09</td>\n",
       "      <td>2.426446e+07</td>\n",
       "      <td>2025-09-05 01:17:49+00:00</td>\n",
       "      <td>cpu_gpue07.csv</td>\n",
       "      <td>cpu</td>\n",
       "    </tr>\n",
       "    <tr>\n",
       "      <th>1</th>\n",
       "      <td>gpue01</td>\n",
       "      <td>multi</td>\n",
       "      <td>56</td>\n",
       "      <td>3</td>\n",
       "      <td>2.0</td>\n",
       "      <td>5.739925e+08</td>\n",
       "      <td>1.490126e+06</td>\n",
       "      <td>2025-09-05 01:17:51+00:00</td>\n",
       "      <td>cpu_gpue01.csv</td>\n",
       "      <td>cpu</td>\n",
       "    </tr>\n",
       "    <tr>\n",
       "      <th>7</th>\n",
       "      <td>gpue02</td>\n",
       "      <td>multi</td>\n",
       "      <td>48</td>\n",
       "      <td>3</td>\n",
       "      <td>2.0</td>\n",
       "      <td>4.935827e+08</td>\n",
       "      <td>7.204324e+05</td>\n",
       "      <td>2025-09-05 08:09:37+00:00</td>\n",
       "      <td>cpu_gpue02.csv</td>\n",
       "      <td>cpu</td>\n",
       "    </tr>\n",
       "    <tr>\n",
       "      <th>11</th>\n",
       "      <td>gpue03</td>\n",
       "      <td>multi</td>\n",
       "      <td>40</td>\n",
       "      <td>3</td>\n",
       "      <td>2.0</td>\n",
       "      <td>4.112524e+08</td>\n",
       "      <td>1.194569e+05</td>\n",
       "      <td>2025-09-05 08:09:36+00:00</td>\n",
       "      <td>cpu_gpue03.csv</td>\n",
       "      <td>cpu</td>\n",
       "    </tr>\n",
       "    <tr>\n",
       "      <th>17</th>\n",
       "      <td>gpue05</td>\n",
       "      <td>multi</td>\n",
       "      <td>40</td>\n",
       "      <td>3</td>\n",
       "      <td>2.0</td>\n",
       "      <td>4.098008e+08</td>\n",
       "      <td>1.549240e+06</td>\n",
       "      <td>2025-09-05 01:17:49+00:00</td>\n",
       "      <td>cpu_gpue05.csv</td>\n",
       "      <td>cpu</td>\n",
       "    </tr>\n",
       "    <tr>\n",
       "      <th>13</th>\n",
       "      <td>gpue04</td>\n",
       "      <td>multi</td>\n",
       "      <td>40</td>\n",
       "      <td>3</td>\n",
       "      <td>2.0</td>\n",
       "      <td>4.096564e+08</td>\n",
       "      <td>1.178303e+05</td>\n",
       "      <td>2025-09-05 01:17:49+00:00</td>\n",
       "      <td>cpu_gpue04.csv</td>\n",
       "      <td>cpu</td>\n",
       "    </tr>\n",
       "    <tr>\n",
       "      <th>45</th>\n",
       "      <td>gpue12</td>\n",
       "      <td>multi</td>\n",
       "      <td>32</td>\n",
       "      <td>3</td>\n",
       "      <td>2.0</td>\n",
       "      <td>2.937194e+08</td>\n",
       "      <td>8.216509e+05</td>\n",
       "      <td>2025-09-05 08:09:37+00:00</td>\n",
       "      <td>cpu_gpue12.csv</td>\n",
       "      <td>cpu</td>\n",
       "    </tr>\n",
       "    <tr>\n",
       "      <th>35</th>\n",
       "      <td>gpue09</td>\n",
       "      <td>multi</td>\n",
       "      <td>32</td>\n",
       "      <td>3</td>\n",
       "      <td>2.0</td>\n",
       "      <td>2.452200e+08</td>\n",
       "      <td>9.111015e+05</td>\n",
       "      <td>2025-09-05 08:09:37+00:00</td>\n",
       "      <td>cpu_gpue09.csv</td>\n",
       "      <td>cpu</td>\n",
       "    </tr>\n",
       "    <tr>\n",
       "      <th>31</th>\n",
       "      <td>gpue08</td>\n",
       "      <td>multi</td>\n",
       "      <td>24</td>\n",
       "      <td>3</td>\n",
       "      <td>2.0</td>\n",
       "      <td>1.997251e+08</td>\n",
       "      <td>1.018045e+06</td>\n",
       "      <td>2025-09-05 08:09:36+00:00</td>\n",
       "      <td>cpu_gpue08.csv</td>\n",
       "      <td>cpu</td>\n",
       "    </tr>\n",
       "    <tr>\n",
       "      <th>39</th>\n",
       "      <td>gpue10</td>\n",
       "      <td>multi</td>\n",
       "      <td>8</td>\n",
       "      <td>3</td>\n",
       "      <td>2.0</td>\n",
       "      <td>5.210837e+07</td>\n",
       "      <td>9.175661e+05</td>\n",
       "      <td>2025-09-05 08:09:35+00:00</td>\n",
       "      <td>cpu_gpue10.csv</td>\n",
       "      <td>cpu</td>\n",
       "    </tr>\n",
       "    <tr>\n",
       "      <th>43</th>\n",
       "      <td>gpue11</td>\n",
       "      <td>multi</td>\n",
       "      <td>8</td>\n",
       "      <td>3</td>\n",
       "      <td>2.0</td>\n",
       "      <td>5.204331e+07</td>\n",
       "      <td>1.374615e+06</td>\n",
       "      <td>2025-09-05 08:09:35+00:00</td>\n",
       "      <td>cpu_gpue11.csv</td>\n",
       "      <td>cpu</td>\n",
       "    </tr>\n",
       "  </tbody>\n",
       "</table>\n",
       "</div>"
      ],
      "text/plain": [
       "      node   mode  threads  runs  duration_s  avg_events_per_s  \\\n",
       "21  gpue06  multi       64     3         2.0      1.704417e+09   \n",
       "25  gpue07  multi       64     3         2.0      1.634246e+09   \n",
       "1   gpue01  multi       56     3         2.0      5.739925e+08   \n",
       "7   gpue02  multi       48     3         2.0      4.935827e+08   \n",
       "11  gpue03  multi       40     3         2.0      4.112524e+08   \n",
       "17  gpue05  multi       40     3         2.0      4.098008e+08   \n",
       "13  gpue04  multi       40     3         2.0      4.096564e+08   \n",
       "45  gpue12  multi       32     3         2.0      2.937194e+08   \n",
       "35  gpue09  multi       32     3         2.0      2.452200e+08   \n",
       "31  gpue08  multi       24     3         2.0      1.997251e+08   \n",
       "39  gpue10  multi        8     3         2.0      5.210837e+07   \n",
       "43  gpue11  multi        8     3         2.0      5.204331e+07   \n",
       "\n",
       "    stddev_events_per_s                 timestamp     source_file kind  \n",
       "21         4.020428e+07 2025-09-05 01:17:48+00:00  cpu_gpue06.csv  cpu  \n",
       "25         2.426446e+07 2025-09-05 01:17:49+00:00  cpu_gpue07.csv  cpu  \n",
       "1          1.490126e+06 2025-09-05 01:17:51+00:00  cpu_gpue01.csv  cpu  \n",
       "7          7.204324e+05 2025-09-05 08:09:37+00:00  cpu_gpue02.csv  cpu  \n",
       "11         1.194569e+05 2025-09-05 08:09:36+00:00  cpu_gpue03.csv  cpu  \n",
       "17         1.549240e+06 2025-09-05 01:17:49+00:00  cpu_gpue05.csv  cpu  \n",
       "13         1.178303e+05 2025-09-05 01:17:49+00:00  cpu_gpue04.csv  cpu  \n",
       "45         8.216509e+05 2025-09-05 08:09:37+00:00  cpu_gpue12.csv  cpu  \n",
       "35         9.111015e+05 2025-09-05 08:09:37+00:00  cpu_gpue09.csv  cpu  \n",
       "31         1.018045e+06 2025-09-05 08:09:36+00:00  cpu_gpue08.csv  cpu  \n",
       "39         9.175661e+05 2025-09-05 08:09:35+00:00  cpu_gpue10.csv  cpu  \n",
       "43         1.374615e+06 2025-09-05 08:09:35+00:00  cpu_gpue11.csv  cpu  "
      ]
     },
     "metadata": {},
     "output_type": "display_data"
    },
    {
     "data": {
      "image/png": "[encoded data removed]",
      "text/plain": [
       "<Figure size 1000x600 with 1 Axes>"
      ]
     },
     "metadata": {},
     "output_type": "display_data"
    },
    {
     "data": {
      "text/html": [
       "<div>\n",
       "<style scoped>\n",
       "    .dataframe tbody tr th:only-of-type {\n",
       "        vertical-align: middle;\n",
       "    }\n",
       "\n",
       "    .dataframe tbody tr th {\n",
       "        vertical-align: top;\n",
       "    }\n",
       "\n",
       "    .dataframe thead th {\n",
       "        text-align: right;\n",
       "    }\n",
       "</style>\n",
       "<table border=\"1\" class=\"dataframe\">\n",
       "  <thead>\n",
       "    <tr style=\"text-align: right;\">\n",
       "      <th></th>\n",
       "      <th>node</th>\n",
       "      <th>runs</th>\n",
       "      <th>duration_s</th>\n",
       "      <th>timestamp</th>\n",
       "      <th>source_file</th>\n",
       "      <th>kind</th>\n",
       "      <th>metric</th>\n",
       "      <th>value</th>\n",
       "    </tr>\n",
       "  </thead>\n",
       "  <tbody>\n",
       "    <tr>\n",
       "      <th>84</th>\n",
       "      <td>gpue01</td>\n",
       "      <td>3</td>\n",
       "      <td>2.0</td>\n",
       "      <td>2025-09-05 03:16:27+00:00</td>\n",
       "      <td>gpu_gpue01.csv</td>\n",
       "      <td>gpu</td>\n",
       "      <td>cupy_multi_avg</td>\n",
       "      <td>2.223607e+13</td>\n",
       "    </tr>\n",
       "    <tr>\n",
       "      <th>60</th>\n",
       "      <td>gpue01</td>\n",
       "      <td>3</td>\n",
       "      <td>2.0</td>\n",
       "      <td>2025-09-05 03:16:27+00:00</td>\n",
       "      <td>gpu_gpue01.csv</td>\n",
       "      <td>gpu</td>\n",
       "      <td>cupy_mono_avg</td>\n",
       "      <td>1.122233e+13</td>\n",
       "    </tr>\n",
       "    <tr>\n",
       "      <th>24</th>\n",
       "      <td>gpue01</td>\n",
       "      <td>3</td>\n",
       "      <td>2.0</td>\n",
       "      <td>2025-09-05 03:16:27+00:00</td>\n",
       "      <td>gpu_gpue01.csv</td>\n",
       "      <td>gpu</td>\n",
       "      <td>torch_multi_avg</td>\n",
       "      <td>9.728833e+10</td>\n",
       "    </tr>\n",
       "    <tr>\n",
       "      <th>0</th>\n",
       "      <td>gpue01</td>\n",
       "      <td>3</td>\n",
       "      <td>2.0</td>\n",
       "      <td>2025-09-05 03:16:27+00:00</td>\n",
       "      <td>gpu_gpue01.csv</td>\n",
       "      <td>gpu</td>\n",
       "      <td>torch_mono_avg</td>\n",
       "      <td>4.873039e+10</td>\n",
       "    </tr>\n",
       "    <tr>\n",
       "      <th>120</th>\n",
       "      <td>gpue01</td>\n",
       "      <td>3</td>\n",
       "      <td>2.0</td>\n",
       "      <td>2025-09-05 03:16:27+00:00</td>\n",
       "      <td>gpu_gpue01.csv</td>\n",
       "      <td>gpu</td>\n",
       "      <td>numba_mono_avg</td>\n",
       "      <td>NaN</td>\n",
       "    </tr>\n",
       "    <tr>\n",
       "      <th>144</th>\n",
       "      <td>gpue01</td>\n",
       "      <td>3</td>\n",
       "      <td>2.0</td>\n",
       "      <td>2025-09-05 03:16:27+00:00</td>\n",
       "      <td>gpu_gpue01.csv</td>\n",
       "      <td>gpu</td>\n",
       "      <td>numba_multi_avg</td>\n",
       "      <td>NaN</td>\n",
       "    </tr>\n",
       "    <tr>\n",
       "      <th>180</th>\n",
       "      <td>gpue01</td>\n",
       "      <td>3</td>\n",
       "      <td>2.0</td>\n",
       "      <td>2025-09-05 03:16:27+00:00</td>\n",
       "      <td>gpu_gpue01.csv</td>\n",
       "      <td>gpu</td>\n",
       "      <td>opencl_mono_avg</td>\n",
       "      <td>NaN</td>\n",
       "    </tr>\n",
       "    <tr>\n",
       "      <th>204</th>\n",
       "      <td>gpue01</td>\n",
       "      <td>3</td>\n",
       "      <td>2.0</td>\n",
       "      <td>2025-09-05 03:16:27+00:00</td>\n",
       "      <td>gpu_gpue01.csv</td>\n",
       "      <td>gpu</td>\n",
       "      <td>opencl_multi_avg</td>\n",
       "      <td>NaN</td>\n",
       "    </tr>\n",
       "    <tr>\n",
       "      <th>85</th>\n",
       "      <td>gpue02</td>\n",
       "      <td>3</td>\n",
       "      <td>2.0</td>\n",
       "      <td>2025-09-05 03:16:27+00:00</td>\n",
       "      <td>gpu_gpue02.csv</td>\n",
       "      <td>gpu</td>\n",
       "      <td>cupy_multi_avg</td>\n",
       "      <td>4.319693e+13</td>\n",
       "    </tr>\n",
       "    <tr>\n",
       "      <th>61</th>\n",
       "      <td>gpue02</td>\n",
       "      <td>3</td>\n",
       "      <td>2.0</td>\n",
       "      <td>2025-09-05 03:16:27+00:00</td>\n",
       "      <td>gpu_gpue02.csv</td>\n",
       "      <td>gpu</td>\n",
       "      <td>cupy_mono_avg</td>\n",
       "      <td>1.082450e+13</td>\n",
       "    </tr>\n",
       "    <tr>\n",
       "      <th>25</th>\n",
       "      <td>gpue02</td>\n",
       "      <td>3</td>\n",
       "      <td>2.0</td>\n",
       "      <td>2025-09-05 03:16:27+00:00</td>\n",
       "      <td>gpu_gpue02.csv</td>\n",
       "      <td>gpu</td>\n",
       "      <td>torch_multi_avg</td>\n",
       "      <td>1.937897e+11</td>\n",
       "    </tr>\n",
       "    <tr>\n",
       "      <th>1</th>\n",
       "      <td>gpue02</td>\n",
       "      <td>3</td>\n",
       "      <td>2.0</td>\n",
       "      <td>2025-09-05 03:16:27+00:00</td>\n",
       "      <td>gpu_gpue02.csv</td>\n",
       "      <td>gpu</td>\n",
       "      <td>torch_mono_avg</td>\n",
       "      <td>4.888121e+10</td>\n",
       "    </tr>\n",
       "    <tr>\n",
       "      <th>121</th>\n",
       "      <td>gpue02</td>\n",
       "      <td>3</td>\n",
       "      <td>2.0</td>\n",
       "      <td>2025-09-05 03:16:27+00:00</td>\n",
       "      <td>gpu_gpue02.csv</td>\n",
       "      <td>gpu</td>\n",
       "      <td>numba_mono_avg</td>\n",
       "      <td>NaN</td>\n",
       "    </tr>\n",
       "    <tr>\n",
       "      <th>145</th>\n",
       "      <td>gpue02</td>\n",
       "      <td>3</td>\n",
       "      <td>2.0</td>\n",
       "      <td>2025-09-05 03:16:27+00:00</td>\n",
       "      <td>gpu_gpue02.csv</td>\n",
       "      <td>gpu</td>\n",
       "      <td>numba_multi_avg</td>\n",
       "      <td>NaN</td>\n",
       "    </tr>\n",
       "    <tr>\n",
       "      <th>181</th>\n",
       "      <td>gpue02</td>\n",
       "      <td>3</td>\n",
       "      <td>2.0</td>\n",
       "      <td>2025-09-05 03:16:27+00:00</td>\n",
       "      <td>gpu_gpue02.csv</td>\n",
       "      <td>gpu</td>\n",
       "      <td>opencl_mono_avg</td>\n",
       "      <td>NaN</td>\n",
       "    </tr>\n",
       "    <tr>\n",
       "      <th>205</th>\n",
       "      <td>gpue02</td>\n",
       "      <td>3</td>\n",
       "      <td>2.0</td>\n",
       "      <td>2025-09-05 03:16:27+00:00</td>\n",
       "      <td>gpu_gpue02.csv</td>\n",
       "      <td>gpu</td>\n",
       "      <td>opencl_multi_avg</td>\n",
       "      <td>NaN</td>\n",
       "    </tr>\n",
       "    <tr>\n",
       "      <th>86</th>\n",
       "      <td>gpue03</td>\n",
       "      <td>3</td>\n",
       "      <td>2.0</td>\n",
       "      <td>2025-09-05 03:16:27+00:00</td>\n",
       "      <td>gpu_gpue03.csv</td>\n",
       "      <td>gpu</td>\n",
       "      <td>cupy_multi_avg</td>\n",
       "      <td>3.999009e+13</td>\n",
       "    </tr>\n",
       "    <tr>\n",
       "      <th>62</th>\n",
       "      <td>gpue03</td>\n",
       "      <td>3</td>\n",
       "      <td>2.0</td>\n",
       "      <td>2025-09-05 03:16:27+00:00</td>\n",
       "      <td>gpu_gpue03.csv</td>\n",
       "      <td>gpu</td>\n",
       "      <td>cupy_mono_avg</td>\n",
       "      <td>1.093921e+13</td>\n",
       "    </tr>\n",
       "    <tr>\n",
       "      <th>26</th>\n",
       "      <td>gpue03</td>\n",
       "      <td>3</td>\n",
       "      <td>2.0</td>\n",
       "      <td>2025-09-05 03:16:27+00:00</td>\n",
       "      <td>gpu_gpue03.csv</td>\n",
       "      <td>gpu</td>\n",
       "      <td>torch_multi_avg</td>\n",
       "      <td>1.942081e+11</td>\n",
       "    </tr>\n",
       "    <tr>\n",
       "      <th>2</th>\n",
       "      <td>gpue03</td>\n",
       "      <td>3</td>\n",
       "      <td>2.0</td>\n",
       "      <td>2025-09-05 03:16:27+00:00</td>\n",
       "      <td>gpu_gpue03.csv</td>\n",
       "      <td>gpu</td>\n",
       "      <td>torch_mono_avg</td>\n",
       "      <td>4.874984e+10</td>\n",
       "    </tr>\n",
       "  </tbody>\n",
       "</table>\n",
       "</div>"
      ],
      "text/plain": [
       "       node  runs  duration_s                 timestamp     source_file kind  \\\n",
       "84   gpue01     3         2.0 2025-09-05 03:16:27+00:00  gpu_gpue01.csv  gpu   \n",
       "60   gpue01     3         2.0 2025-09-05 03:16:27+00:00  gpu_gpue01.csv  gpu   \n",
       "24   gpue01     3         2.0 2025-09-05 03:16:27+00:00  gpu_gpue01.csv  gpu   \n",
       "0    gpue01     3         2.0 2025-09-05 03:16:27+00:00  gpu_gpue01.csv  gpu   \n",
       "120  gpue01     3         2.0 2025-09-05 03:16:27+00:00  gpu_gpue01.csv  gpu   \n",
       "144  gpue01     3         2.0 2025-09-05 03:16:27+00:00  gpu_gpue01.csv  gpu   \n",
       "180  gpue01     3         2.0 2025-09-05 03:16:27+00:00  gpu_gpue01.csv  gpu   \n",
       "204  gpue01     3         2.0 2025-09-05 03:16:27+00:00  gpu_gpue01.csv  gpu   \n",
       "85   gpue02     3         2.0 2025-09-05 03:16:27+00:00  gpu_gpue02.csv  gpu   \n",
       "61   gpue02     3         2.0 2025-09-05 03:16:27+00:00  gpu_gpue02.csv  gpu   \n",
       "25   gpue02     3         2.0 2025-09-05 03:16:27+00:00  gpu_gpue02.csv  gpu   \n",
       "1    gpue02     3         2.0 2025-09-05 03:16:27+00:00  gpu_gpue02.csv  gpu   \n",
       "121  gpue02     3         2.0 2025-09-05 03:16:27+00:00  gpu_gpue02.csv  gpu   \n",
       "145  gpue02     3         2.0 2025-09-05 03:16:27+00:00  gpu_gpue02.csv  gpu   \n",
       "181  gpue02     3         2.0 2025-09-05 03:16:27+00:00  gpu_gpue02.csv  gpu   \n",
       "205  gpue02     3         2.0 2025-09-05 03:16:27+00:00  gpu_gpue02.csv  gpu   \n",
       "86   gpue03     3         2.0 2025-09-05 03:16:27+00:00  gpu_gpue03.csv  gpu   \n",
       "62   gpue03     3         2.0 2025-09-05 03:16:27+00:00  gpu_gpue03.csv  gpu   \n",
       "26   gpue03     3         2.0 2025-09-05 03:16:27+00:00  gpu_gpue03.csv  gpu   \n",
       "2    gpue03     3         2.0 2025-09-05 03:16:27+00:00  gpu_gpue03.csv  gpu   \n",
       "\n",
       "               metric         value  \n",
       "84     cupy_multi_avg  2.223607e+13  \n",
       "60      cupy_mono_avg  1.122233e+13  \n",
       "24    torch_multi_avg  9.728833e+10  \n",
       "0      torch_mono_avg  4.873039e+10  \n",
       "120    numba_mono_avg           NaN  \n",
       "144   numba_multi_avg           NaN  \n",
       "180   opencl_mono_avg           NaN  \n",
       "204  opencl_multi_avg           NaN  \n",
       "85     cupy_multi_avg  4.319693e+13  \n",
       "61      cupy_mono_avg  1.082450e+13  \n",
       "25    torch_multi_avg  1.937897e+11  \n",
       "1      torch_mono_avg  4.888121e+10  \n",
       "121    numba_mono_avg           NaN  \n",
       "145   numba_multi_avg           NaN  \n",
       "181   opencl_mono_avg           NaN  \n",
       "205  opencl_multi_avg           NaN  \n",
       "86     cupy_multi_avg  3.999009e+13  \n",
       "62      cupy_mono_avg  1.093921e+13  \n",
       "26    torch_multi_avg  1.942081e+11  \n",
       "2      torch_mono_avg  4.874984e+10  "
      ]
     },
     "metadata": {},
     "output_type": "display_data"
    },
    {
     "data": {
      "application/vnd.plotly.v1+json": {
       "config": {
        "plotlyServerURL": "https://plot.ly"
       },
       "data": [
        {
         "hovertemplate": "metric=cupy_multi_avg<br>value=%{x}<br>node=%{y}<extra></extra>",
         "legendgroup": "cupy_multi_avg",
         "marker": {
          "color": "#636efa",
          "pattern": {
           "shape": ""
          }
         },
         "name": "cupy_multi_avg",
         "orientation": "h",
         "showlegend": true,
         "textposition": "auto",
         "type": "bar",
         "x": {
          "bdata": "YffkyvYExEJd81DxyKTDQp0YW3UhkcNClPNCyDdJwkKP8zFpdS/CQnthcZHjHcJCI0GdcHQ/vUIwEDfbPDm0QvMIoOdwALJCNc5ZyxX8rELY2TUjmMesQvIQjEBsmKxC",
          "dtype": "f8"
         },
         "xaxis": "x",
         "y": [
          "gpue06",
          "gpue02",
          "gpue07",
          "gpue05",
          "gpue03",
          "gpue04",
          "gpue09",
          "gpue01",
          "gpue12",
          "gpue08",
          "gpue11",
          "gpue10"
         ],
         "yaxis": "y"
        },
        {
         "hovertemplate": "metric=cupy_mono_avg<br>value=%{x}<br>node=%{y}<extra></extra>",
         "legendgroup": "cupy_mono_avg",
         "marker": {
          "color": "#EF553B",
          "pattern": {
           "shape": ""
          }
         },
         "name": "cupy_mono_avg",
         "orientation": "h",
         "showlegend": true,
         "textposition": "auto",
         "type": "bar",
         "x": {
          "bdata": "y7rrPr2KrUKlrx5qPQKrQskWWllHAatCYEp8DM5ppEJIPCWK0gykQje1/tf35aNC4HVktR/Fo0IBl+JtjLCjQsX0Als5F51CozPXawvLnELqwTIxs7GcQkVUgGxvp5VC",
          "dtype": "f8"
         },
         "xaxis": "x",
         "y": [
          "gpue09",
          "gpue07",
          "gpue06",
          "gpue01",
          "gpue05",
          "gpue03",
          "gpue04",
          "gpue02",
          "gpue08",
          "gpue11",
          "gpue10",
          "gpue12"
         ],
         "yaxis": "y"
        },
        {
         "hovertemplate": "metric=torch_multi_avg<br>value=%{x}<br>node=%{y}<extra></extra>",
         "legendgroup": "torch_multi_avg",
         "marker": {
          "color": "#00cc96",
          "pattern": {
           "shape": ""
          }
         },
         "name": "torch_multi_avg",
         "orientation": "h",
         "showlegend": true,
         "textposition": "auto",
         "type": "bar",
         "x": {
          "bdata": "9oggIPrsRkLfDyEbPOJGQsM1JzqcokZC4zVbpQSgRkJ5KXxz2ptGQlDNdAZij0ZCb9IUr1h4QULf//wBLiFBQqQQkxnWpjZCc6hVBFSLLkLfTwMGCYcuQmDlb7Xzgi5C",
          "dtype": "f8"
         },
         "xaxis": "x",
         "y": [
          "gpue07",
          "gpue06",
          "gpue04",
          "gpue05",
          "gpue03",
          "gpue02",
          "gpue09",
          "gpue12",
          "gpue01",
          "gpue08",
          "gpue10",
          "gpue11"
         ],
         "yaxis": "y"
        },
        {
         "hovertemplate": "metric=torch_mono_avg<br>value=%{x}<br>node=%{y}<extra></extra>",
         "legendgroup": "torch_mono_avg",
         "marker": {
          "color": "#ab63fa",
          "pattern": {
           "shape": ""
          }
         },
         "name": "torch_mono_avg",
         "orientation": "h",
         "showlegend": true,
         "textposition": "auto",
         "type": "bar",
         "x": {
          "bdata": "rifMMBZ+MUKBlQLh8ZwuQkqMQAornC5CN4mMwg/LJkJcD2gXGMMmQjFIsgNvsyZCxaA7mJqxJkLZzhFkHbEmQr7f2+TTNiFCITDrmzydHkJ/6ssp5pMeQgrXRkCIkB5C",
          "dtype": "f8"
         },
         "xaxis": "x",
         "y": [
          "gpue09",
          "gpue07",
          "gpue06",
          "gpue04",
          "gpue02",
          "gpue03",
          "gpue05",
          "gpue01",
          "gpue12",
          "gpue11",
          "gpue10",
          "gpue08"
         ],
         "yaxis": "y"
        },
        {
         "hovertemplate": "metric=numba_mono_avg<br>value=%{x}<br>node=%{y}<extra></extra>",
         "legendgroup": "numba_mono_avg",
         "marker": {
          "color": "#FFA15A",
          "pattern": {
           "shape": ""
          }
         },
         "name": "numba_mono_avg",
         "orientation": "h",
         "showlegend": true,
         "textposition": "auto",
         "type": "bar",
         "x": {
          "bdata": "AAAAAAAA+H8=",
          "dtype": "f8"
         },
         "xaxis": "x",
         "y": [
          "gpue01"
         ],
         "yaxis": "y"
        },
        {
         "hovertemplate": "metric=numba_multi_avg<br>value=%{x}<br>node=%{y}<extra></extra>",
         "legendgroup": "numba_multi_avg",
         "marker": {
          "color": "#19d3f3",
          "pattern": {
           "shape": ""
          }
         },
         "name": "numba_multi_avg",
         "orientation": "h",
         "showlegend": true,
         "textposition": "auto",
         "type": "bar",
         "x": {
          "bdata": "AAAAAAAA+H8=",
          "dtype": "f8"
         },
         "xaxis": "x",
         "y": [
          "gpue01"
         ],
         "yaxis": "y"
        }
       ],
       "layout": {
        "barmode": "relative",
        "legend": {
         "title": {
          "text": "metric"
         },
         "tracegroupgap": 0
        },
        "template": {
         "data": {
          "bar": [
           {
            "error_x": {
             "color": "#2a3f5f"
            },
            "error_y": {
             "color": "#2a3f5f"
            },
            "marker": {
             "line": {
              "color": "#E5ECF6",
              "width": 0.5
             },
             "pattern": {
              "fillmode": "overlay",
              "size": 10,
              "solidity": 0.2
             }
            },
            "type": "bar"
           }
          ],
          "barpolar": [
           {
            "marker": {
             "line": {
              "color": "#E5ECF6",
              "width": 0.5
             },
             "pattern": {
              "fillmode": "overlay",
              "size": 10,
              "solidity": 0.2
             }
            },
            "type": "barpolar"
           }
          ],
          "carpet": [
           {
            "aaxis": {
             "endlinecolor": "#2a3f5f",
             "gridcolor": "white",
             "linecolor": "white",
             "minorgridcolor": "white",
             "startlinecolor": "#2a3f5f"
            },
            "baxis": {
             "endlinecolor": "#2a3f5f",
             "gridcolor": "white",
             "linecolor": "white",
             "minorgridcolor": "white",
             "startlinecolor": "#2a3f5f"
            },
            "type": "carpet"
           }
          ],
          "choropleth": [
           {
            "colorbar": {
             "outlinewidth": 0,
             "ticks": ""
            },
            "type": "choropleth"
           }
          ],
          "contour": [
           {
            "colorbar": {
             "outlinewidth": 0,
             "ticks": ""
            },
            "colorscale": [
             [
              0,
              "#0d0887"
             ],
             [
              0.1111111111111111,
              "#46039f"
             ],
             [
              0.2222222222222222,
              "#7201a8"
             ],
             [
              0.3333333333333333,
              "#9c179e"
             ],
             [
              0.4444444444444444,
              "#bd3786"
             ],
             [
              0.5555555555555556,
              "#d8576b"
             ],
             [
              0.6666666666666666,
              "#ed7953"
             ],
             [
              0.7777777777777778,
              "#fb9f3a"
             ],
             [
              0.8888888888888888,
              "#fdca26"
             ],
             [
              1,
              "#f0f921"
             ]
            ],
            "type": "contour"
           }
          ],
          "contourcarpet": [
           {
            "colorbar": {
             "outlinewidth": 0,
             "ticks": ""
            },
            "type": "contourcarpet"
           }
          ],
          "heatmap": [
           {
            "colorbar": {
             "outlinewidth": 0,
             "ticks": ""
            },
            "colorscale": [
             [
              0,
              "#0d0887"
             ],
             [
              0.1111111111111111,
              "#46039f"
             ],
             [
              0.2222222222222222,
              "#7201a8"
             ],
             [
              0.3333333333333333,
              "#9c179e"
             ],
             [
              0.4444444444444444,
              "#bd3786"
             ],
             [
              0.5555555555555556,
              "#d8576b"
             ],
             [
              0.6666666666666666,
              "#ed7953"
             ],
             [
              0.7777777777777778,
              "#fb9f3a"
             ],
             [
              0.8888888888888888,
              "#fdca26"
             ],
             [
              1,
              "#f0f921"
             ]
            ],
            "type": "heatmap"
           }
          ],
          "histogram": [
           {
            "marker": {
             "pattern": {
              "fillmode": "overlay",
              "size": 10,
              "solidity": 0.2
             }
            },
            "type": "histogram"
           }
          ],
          "histogram2d": [
           {
            "colorbar": {
             "outlinewidth": 0,
             "ticks": ""
            },
            "colorscale": [
             [
              0,
              "#0d0887"
             ],
             [
              0.1111111111111111,
              "#46039f"
             ],
             [
              0.2222222222222222,
              "#7201a8"
             ],
             [
              0.3333333333333333,
              "#9c179e"
             ],
             [
              0.4444444444444444,
              "#bd3786"
             ],
             [
              0.5555555555555556,
              "#d8576b"
             ],
             [
              0.6666666666666666,
              "#ed7953"
             ],
             [
              0.7777777777777778,
              "#fb9f3a"
             ],
             [
              0.8888888888888888,
              "#fdca26"
             ],
             [
              1,
              "#f0f921"
             ]
            ],
            "type": "histogram2d"
           }
          ],
          "histogram2dcontour": [
           {
            "colorbar": {
             "outlinewidth": 0,
             "ticks": ""
            },
            "colorscale": [
             [
              0,
              "#0d0887"
             ],
             [
              0.1111111111111111,
              "#46039f"
             ],
             [
              0.2222222222222222,
              "#7201a8"
             ],
             [
              0.3333333333333333,
              "#9c179e"
             ],
             [
              0.4444444444444444,
              "#bd3786"
             ],
             [
              0.5555555555555556,
              "#d8576b"
             ],
             [
              0.6666666666666666,
              "#ed7953"
             ],
             [
              0.7777777777777778,
              "#fb9f3a"
             ],
             [
              0.8888888888888888,
              "#fdca26"
             ],
             [
              1,
              "#f0f921"
             ]
            ],
            "type": "histogram2dcontour"
           }
          ],
          "mesh3d": [
           {
            "colorbar": {
             "outlinewidth": 0,
             "ticks": ""
            },
            "type": "mesh3d"
           }
          ],
          "parcoords": [
           {
            "line": {
             "colorbar": {
              "outlinewidth": 0,
              "ticks": ""
             }
            },
            "type": "parcoords"
           }
          ],
          "pie": [
           {
            "automargin": true,
            "type": "pie"
           }
          ],
          "scatter": [
           {
            "fillpattern": {
             "fillmode": "overlay",
             "size": 10,
             "solidity": 0.2
            },
            "type": "scatter"
           }
          ],
          "scatter3d": [
           {
            "line": {
             "colorbar": {
              "outlinewidth": 0,
              "ticks": ""
             }
            },
            "marker": {
             "colorbar": {
              "outlinewidth": 0,
              "ticks": ""
             }
            },
            "type": "scatter3d"
           }
          ],
          "scattercarpet": [
           {
            "marker": {
             "colorbar": {
              "outlinewidth": 0,
              "ticks": ""
             }
            },
            "type": "scattercarpet"
           }
          ],
          "scattergeo": [
           {
            "marker": {
             "colorbar": {
              "outlinewidth": 0,
              "ticks": ""
             }
            },
            "type": "scattergeo"
           }
          ],
          "scattergl": [
           {
            "marker": {
             "colorbar": {
              "outlinewidth": 0,
              "ticks": ""
             }
            },
            "type": "scattergl"
           }
          ],
          "scattermap": [
           {
            "marker": {
             "colorbar": {
              "outlinewidth": 0,
              "ticks": ""
             }
            },
            "type": "scattermap"
           }
          ],
          "scattermapbox": [
           {
            "marker": {
             "colorbar": {
              "outlinewidth": 0,
              "ticks": ""
             }
            },
            "type": "scattermapbox"
           }
          ],
          "scatterpolar": [
           {
            "marker": {
             "colorbar": {
              "outlinewidth": 0,
              "ticks": ""
             }
            },
            "type": "scatterpolar"
           }
          ],
          "scatterpolargl": [
           {
            "marker": {
             "colorbar": {
              "outlinewidth": 0,
              "ticks": ""
             }
            },
            "type": "scatterpolargl"
           }
          ],
          "scatterternary": [
           {
            "marker": {
             "colorbar": {
              "outlinewidth": 0,
              "ticks": ""
             }
            },
            "type": "scatterternary"
           }
          ],
          "surface": [
           {
            "colorbar": {
             "outlinewidth": 0,
             "ticks": ""
            },
            "colorscale": [
             [
              0,
              "#0d0887"
             ],
             [
              0.1111111111111111,
              "#46039f"
             ],
             [
              0.2222222222222222,
              "#7201a8"
             ],
             [
              0.3333333333333333,
              "#9c179e"
             ],
             [
              0.4444444444444444,
              "#bd3786"
             ],
             [
              0.5555555555555556,
              "#d8576b"
             ],
             [
              0.6666666666666666,
              "#ed7953"
             ],
             [
              0.7777777777777778,
              "#fb9f3a"
             ],
             [
              0.8888888888888888,
              "#fdca26"
             ],
             [
              1,
              "#f0f921"
             ]
            ],
            "type": "surface"
           }
          ],
          "table": [
           {
            "cells": {
             "fill": {
              "color": "#EBF0F8"
             },
             "line": {
              "color": "white"
             }
            },
            "header": {
             "fill": {
              "color": "#C8D4E3"
             },
             "line": {
              "color": "white"
             }
            },
            "type": "table"
           }
          ]
         },
         "layout": {
          "annotationdefaults": {
           "arrowcolor": "#2a3f5f",
           "arrowhead": 0,
           "arrowwidth": 1
          },
          "autotypenumbers": "strict",
          "coloraxis": {
           "colorbar": {
            "outlinewidth": 0,
            "ticks": ""
           }
          },
          "colorscale": {
           "diverging": [
            [
             0,
             "#8e0152"
            ],
            [
             0.1,
             "#c51b7d"
            ],
            [
             0.2,
             "#de77ae"
            ],
            [
             0.3,
             "#f1b6da"
            ],
            [
             0.4,
             "#fde0ef"
            ],
            [
             0.5,
             "#f7f7f7"
            ],
            [
             0.6,
             "#e6f5d0"
            ],
            [
             0.7,
             "#b8e186"
            ],
            [
             0.8,
             "#7fbc41"
            ],
            [
             0.9,
             "#4d9221"
            ],
            [
             1,
             "#276419"
            ]
           ],
           "sequential": [
            [
             0,
             "#0d0887"
            ],
            [
             0.1111111111111111,
             "#46039f"
            ],
            [
             0.2222222222222222,
             "#7201a8"
            ],
            [
             0.3333333333333333,
             "#9c179e"
            ],
            [
             0.4444444444444444,
             "#bd3786"
            ],
            [
             0.5555555555555556,
             "#d8576b"
            ],
            [
             0.6666666666666666,
             "#ed7953"
            ],
            [
             0.7777777777777778,
             "#fb9f3a"
            ],
            [
             0.8888888888888888,
             "#fdca26"
            ],
            [
             1,
             "#f0f921"
            ]
           ],
           "sequentialminus": [
            [
             0,
             "#0d0887"
            ],
            [
             0.1111111111111111,
             "#46039f"
            ],
            [
             0.2222222222222222,
             "#7201a8"
            ],
            [
             0.3333333333333333,
             "#9c179e"
            ],
            [
             0.4444444444444444,
             "#bd3786"
            ],
            [
             0.5555555555555556,
             "#d8576b"
            ],
            [
             0.6666666666666666,
             "#ed7953"
            ],
            [
             0.7777777777777778,
             "#fb9f3a"
            ],
            [
             0.8888888888888888,
             "#fdca26"
            ],
            [
             1,
             "#f0f921"
            ]
           ]
          },
          "colorway": [
           "#636efa",
           "#EF553B",
           "#00cc96",
           "#ab63fa",
           "#FFA15A",
           "#19d3f3",
           "#FF6692",
           "#B6E880",
           "#FF97FF",
           "#FECB52"
          ],
          "font": {
           "color": "#2a3f5f"
          },
          "geo": {
           "bgcolor": "white",
           "lakecolor": "white",
           "landcolor": "#E5ECF6",
           "showlakes": true,
           "showland": true,
           "subunitcolor": "white"
          },
          "hoverlabel": {
           "align": "left"
          },
          "hovermode": "closest",
          "mapbox": {
           "style": "light"
          },
          "paper_bgcolor": "white",
          "plot_bgcolor": "#E5ECF6",
          "polar": {
           "angularaxis": {
            "gridcolor": "white",
            "linecolor": "white",
            "ticks": ""
           },
           "bgcolor": "#E5ECF6",
           "radialaxis": {
            "gridcolor": "white",
            "linecolor": "white",
            "ticks": ""
           }
          },
          "scene": {
           "xaxis": {
            "backgroundcolor": "#E5ECF6",
            "gridcolor": "white",
            "gridwidth": 2,
            "linecolor": "white",
            "showbackground": true,
            "ticks": "",
            "zerolinecolor": "white"
           },
           "yaxis": {
            "backgroundcolor": "#E5ECF6",
            "gridcolor": "white",
            "gridwidth": 2,
            "linecolor": "white",
            "showbackground": true,
            "ticks": "",
            "zerolinecolor": "white"
           },
           "zaxis": {
            "backgroundcolor": "#E5ECF6",
            "gridcolor": "white",
            "gridwidth": 2,
            "linecolor": "white",
            "showbackground": true,
            "ticks": "",
            "zerolinecolor": "white"
           }
          },
          "shapedefaults": {
           "line": {
            "color": "#2a3f5f"
           }
          },
          "ternary": {
           "aaxis": {
            "gridcolor": "white",
            "linecolor": "white",
            "ticks": ""
           },
           "baxis": {
            "gridcolor": "white",
            "linecolor": "white",
            "ticks": ""
           },
           "bgcolor": "#E5ECF6",
           "caxis": {
            "gridcolor": "white",
            "linecolor": "white",
            "ticks": ""
           }
          },
          "title": {
           "x": 0.05
          },
          "xaxis": {
           "automargin": true,
           "gridcolor": "white",
           "linecolor": "white",
           "ticks": "",
           "title": {
            "standoff": 15
           },
           "zerolinecolor": "white",
           "zerolinewidth": 2
          },
          "yaxis": {
           "automargin": true,
           "gridcolor": "white",
           "linecolor": "white",
           "ticks": "",
           "title": {
            "standoff": 15
           },
           "zerolinecolor": "white",
           "zerolinewidth": 2
          }
         }
        },
        "title": {
         "text": "GPU — Meilleures métriques par nœud (top 50)"
        },
        "xaxis": {
         "anchor": "y",
         "domain": [
          0,
          1
         ],
         "title": {
          "text": "value"
         }
        },
        "yaxis": {
         "anchor": "x",
         "domain": [
          0,
          1
         ],
         "title": {
          "text": "node"
         }
        }
       }
      }
     },
     "metadata": {},
     "output_type": "display_data"
    }
   ],
   "source": [
    "# Section 8 — Comparaison multi-runs (métriques et paramètres)\n",
    "\n",
    "# Pour CPU: tableau des meilleures perfs multi par nœud\n",
    "comp_cpu = pd.DataFrame()\n",
    "if not cpu_norm.empty:\n",
    "    cpu_multi = cpu_norm[cpu_norm.get(\"mode\")==\"multi\"].copy()\n",
    "    comp_cpu = (cpu_multi\n",
    "                .sort_values([\"node\", \"avg_events_per_s\"], ascending=[True, False])\n",
    "                .groupby(\"node\", as_index=False).head(1))\n",
    "    display(comp_cpu.sort_values(\"avg_events_per_s\", ascending=False).head(20))\n",
    "\n",
    "    plt.figure(figsize=(10,6))\n",
    "    sns.barplot(data=comp_cpu.sort_values(\"avg_events_per_s\", ascending=False),\n",
    "                x=\"avg_events_per_s\", y=\"node\", color=\"#72B7B2\")\n",
    "    plt.title(\"CPU — Meilleures perfs multi par nœud\")\n",
    "    plt.xlabel(\"events/s (avg)\")\n",
    "    plt.show()\n",
    "\n",
    "# Pour GPU: meilleurs *_avg par nœud et par metric\n",
    "comp_gpu = pd.DataFrame()\n",
    "if not gpu_long.empty:\n",
    "    comp_gpu = (gpu_long[gpu_long[\"metric\"].str.endswith(\"_avg\")] \n",
    "                .sort_values([\"node\", \"value\"], ascending=[True, False])\n",
    "                .groupby([\"node\", \"metric\"], as_index=False).head(1))\n",
    "    display(comp_gpu.head(20))\n",
    "\n",
    "    fig = px.bar(comp_gpu.sort_values(\"value\", ascending=False).head(50),\n",
    "                 x=\"value\", y=\"node\", color=\"metric\",\n",
    "                 title=\"GPU — Meilleures métriques par nœud (top 50)\")\n",
    "    fig.show()"
   ]
  },
  {
   "cell_type": "code",
   "execution_count": 10,
   "id": "b913ed32",
   "metadata": {},
   "outputs": [
    {
     "data": {
      "application/vnd.jupyter.widget-view+json": {
       "model_id": "0b8d92a43f684d13b9cb216c06529470",
       "version_major": 2,
       "version_minor": 0
      },
      "text/plain": [
       "interactive(children=(Dropdown(description='metric', options=('cupy_mono_avg', 'cupy_multi_avg', 'numba_mono_a…"
      ]
     },
     "metadata": {},
     "output_type": "display_data"
    },
    {
     "data": {
      "application/vnd.jupyter.widget-view+json": {
       "model_id": "58694a8dcfc940b7a71c73ae67f9911f",
       "version_major": 2,
       "version_minor": 0
      },
      "text/plain": [
       "interactive(children=(Dropdown(description='mode', options=('mono', 'multi'), value='mono'), IntSlider(value=2…"
      ]
     },
     "metadata": {},
     "output_type": "display_data"
    }
   ],
   "source": [
    "# Section 9 — Filtres interactifs (ipywidgets)\n",
    "\n",
    "have_widgets = False\n",
    "try:\n",
    "    import ipywidgets as widgets\n",
    "    from ipywidgets import interact, interactive, HBox, VBox\n",
    "    have_widgets = True\n",
    "except Exception as e:\n",
    "    print(\"ipywidgets non disponible:\", e)\n",
    "\n",
    "if have_widgets:\n",
    "    # GPU: sélection de la métrique *_avg\n",
    "    gpu_metrics = sorted({m for m in gpu_long.get(\"metric\", []) if str(m).endswith(\"_avg\")}) if not gpu_long.empty else []\n",
    "    if gpu_metrics:\n",
    "        @widgets.interact(metric=gpu_metrics)\n",
    "        def _gpu_metric_hist(metric=gpu_metrics[0]):\n",
    "            df = gpu_long[(gpu_long.metric == metric)]\n",
    "            fig = px.histogram(df, x=\"value\", color=\"backend\", marginal=\"box\",\n",
    "                               title=f\"Distribution {metric}\")\n",
    "            fig.show()\n",
    "    else:\n",
    "        print(\"Pas de métriques GPU *_avg trouvées.\")\n",
    "\n",
    "    # CPU: sélection mode et top N\n",
    "    if not cpu_norm.empty:\n",
    "        modes = sorted(cpu_norm[\"mode\"].dropna().unique())\n",
    "        @widgets.interact(mode=modes, topN=widgets.IntSlider(min=5, max=50, step=5, value=20))\n",
    "        def _cpu_top(mode=modes[0], topN=20):\n",
    "            df = (cpu_norm[cpu_norm.mode==mode]\n",
    "                  .sort_values(\"avg_events_per_s\", ascending=False)\n",
    "                  .head(topN))\n",
    "            plt.figure(figsize=(10, min(8, 0.4*len(df))))\n",
    "            sns.barplot(data=df, x=\"avg_events_per_s\", y=\"node\", color=\"#4C78A8\")\n",
    "            plt.title(f\"CPU — Top {topN} ({mode})\")\n",
    "            plt.xlabel(\"events/s (avg)\")\n",
    "            plt.tight_layout()\n",
    "            plt.show()\n",
    "else:\n",
    "    print(\"Activer ipywidgets pour utiliser les filtres interactifs (voir Section 1).\")"
   ]
  },
  {
   "cell_type": "code",
   "execution_count": 11,
   "id": "1b030c4d",
   "metadata": {},
   "outputs": [
    {
     "name": "stdout",
     "output_type": "stream",
     "text": [
      "CSV exporté: figures/runs_all_clean.csv\n",
      "Parquet exporté: figures/runs_all_clean.parquet\n",
      "Figure Matplotlib exportée -> figures/dernier_plot_matplotlib.png\n",
      "Figure Plotly exportée -> figures/dernier_plot_plotly.html\n",
      "Exports terminés.\n"
     ]
    },
    {
     "data": {
      "text/plain": [
       "<Figure size 1000x500 with 0 Axes>"
      ]
     },
     "metadata": {},
     "output_type": "display_data"
    }
   ],
   "source": [
    "# Section 10 — Export des figures et des sous-ensembles\n",
    "from pathlib import Path\n",
    "\n",
    "EXPORT_DIR = Path(FIGURES_DIR) if 'FIGURES_DIR' in globals() else Path('figures')\n",
    "EXPORT_DIR.mkdir(parents=True, exist_ok=True)\n",
    "\n",
    "# Exemples d'exports CSV/Parquet\n",
    "if not all_runs.empty:\n",
    "    out_csv = EXPORT_DIR / 'runs_all_clean.csv'\n",
    "    out_parquet = EXPORT_DIR / 'runs_all_clean.parquet'\n",
    "    try:\n",
    "        all_runs.to_csv(out_csv, index=False)\n",
    "        print(\"CSV exporté:\", out_csv)\n",
    "    except Exception as e:\n",
    "        print(\"CSV non exporté:\", e)\n",
    "    try:\n",
    "        all_runs.to_parquet(out_parquet)\n",
    "        print(\"Parquet exporté:\", out_parquet)\n",
    "    except Exception as e:\n",
    "        print(\"Parquet non exporté:\", e)\n",
    "\n",
    "# Export de quelques figures récentes (si présentes)\n",
    "try:\n",
    "    plt.gcf()\n",
    "    plt.savefig(EXPORT_DIR / 'dernier_plot_matplotlib.png', dpi=150, bbox_inches='tight')\n",
    "    print(\"Figure Matplotlib exportée ->\", EXPORT_DIR / 'dernier_plot_matplotlib.png')\n",
    "except Exception as e:\n",
    "    pass\n",
    "\n",
    "# Pour Plotly, sauvegarde HTML (dernier fig) si accessible via variable fig\n",
    "try:\n",
    "    if 'fig' in globals() and fig is not None:\n",
    "        fig.write_html(str(EXPORT_DIR / 'dernier_plot_plotly.html'))\n",
    "        print(\"Figure Plotly exportée ->\", EXPORT_DIR / 'dernier_plot_plotly.html')\n",
    "except Exception as e:\n",
    "    pass\n",
    "\n",
    "print(\"Exports terminés.\")"
   ]
  }
 ],
 "metadata": {
  "kernelspec": {
   "display_name": "bench",
   "language": "python",
   "name": "python3"
  },
  "language_info": {
   "codemirror_mode": {
    "name": "ipython",
    "version": 3
   },
   "file_extension": ".py",
   "mimetype": "text/x-python",
   "name": "python",
   "nbconvert_exporter": "python",
   "pygments_lexer": "ipython3",
   "version": "3.10.18"
  }
 },
 "nbformat": 4,
 "nbformat_minor": 5
}
