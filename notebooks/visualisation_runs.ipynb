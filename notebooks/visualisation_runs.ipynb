{
 "cells": [
  {
   "cell_type": "markdown",
   "id": "2e24b9a7",
   "metadata": {},
   "source": [
    "# Visualisation des données de runs (CPU/GPU)\n",
    "Ce notebook charge les résultats produits par les scripts Slurm (CSV dans `../results/`) et fournit des vues d’analyse et de visualisation."
   ]
  },
  {
   "cell_type": "code",
   "execution_count": 1,
   "id": "4b1c794c",
   "metadata": {},
   "outputs": [
    {
     "name": "stdout",
     "output_type": "stream",
     "text": [
      "RESULTS_DIR: /info/etu/m1/s201509/Document/perso/bench-Slurm/results\n"
     ]
    }
   ],
   "source": [
    "# Section 1 — Installer et importer les bibliothèques\n",
    "# (Les installations sont idempotentes; exécutez au besoin.)\n",
    "# %pip install -q pandas numpy seaborn matplotlib plotly ipywidgets pyarrow mlflow || true\n",
    "\n",
    "import os\n",
    "import glob\n",
    "import json\n",
    "from datetime import timedelta\n",
    "\n",
    "import numpy as np\n",
    "import pandas as pd\n",
    "import seaborn as sns\n",
    "import matplotlib.pyplot as plt\n",
    "import plotly.express as px\n",
    "\n",
    "import ipywidgets as widgets\n",
    "from IPython.display import display, HTML\n",
    "\n",
    "# Styles\n",
    "# %matplotlib inline\n",
    "sns.set_theme(style=\"whitegrid\")\n",
    "plt.rcParams[\"figure.figsize\"] = (10, 5)\n",
    "\n",
    "# Dossiers par défaut (adaptés à ce repo)\n",
    "ROOT = os.path.abspath(os.path.join(os.getcwd(), \"..\"))\n",
    "RESULTS_DIR = os.path.join(ROOT, \"/notebooks/results\")\n",
    "FIG_DIR = os.path.join(ROOT, \"figures\")\n",
    "OUT_DIR = os.path.join(ROOT, \"outputs\")\n",
    "os.makedirs(FIG_DIR, exist_ok=True)\n",
    "os.makedirs(OUT_DIR, exist_ok=True)\n",
    "\n",
    "print(\"RESULTS_DIR:\", RESULTS_DIR)"
   ]
  },
  {
   "cell_type": "code",
   "execution_count": 2,
   "id": "9c40f5ca",
   "metadata": {},
   "outputs": [
    {
     "name": "stdout",
     "output_type": "stream",
     "text": [
      "(46, 12) (23, 51) (0, 0) (0, 6)\n"
     ]
    }
   ],
   "source": [
    "# Section 2 — Charger les données de runs (CSV/JSON/Parquet ou MLflow)\n",
    "# 2.1 Lectures CSV CPU/GPU du repo (results/cpu_*.csv, results/gpu_*.csv)\n",
    "\n",
    "def read_many_csv(pattern: str, kind: str) -> pd.DataFrame:\n",
    "    files = sorted(glob.glob(pattern))\n",
    "    dfs = []\n",
    "    for f in files:\n",
    "        try:\n",
    "            df = pd.read_csv(f)\n",
    "            df[\"source_file\"] = os.path.basename(f)\n",
    "            df[\"kind\"] = kind\n",
    "            dfs.append(df)\n",
    "        except Exception as e:\n",
    "            print(f\"[WARN] Lecture échouée {f}: {e}\")\n",
    "    if dfs:\n",
    "        return pd.concat(dfs, ignore_index=True)\n",
    "    return pd.DataFrame()\n",
    "\n",
    "cpu_df = read_many_csv(os.path.join(RESULTS_DIR, \"cpu_*.csv\"), kind=\"cpu\")\n",
    "gpu_df = read_many_csv(os.path.join(RESULTS_DIR, \"gpu_*.csv\"), kind=\"gpu\")\n",
    "\n",
    "# 2.2 Option: charger un unique fichier générique (au cas où)\n",
    "unique_path = os.path.join(RESULTS_DIR, \"runs.csv\")\n",
    "unique_df = pd.read_csv(unique_path) if os.path.exists(unique_path) else pd.DataFrame()\n",
    "\n",
    "# 2.3 Option: MLflow (si un tracking server est utilisé)\n",
    "try:\n",
    "    import mlflow\n",
    "    MLFLOW_AVAILABLE = True\n",
    "except Exception:\n",
    "    MLFLOW_AVAILABLE = False\n",
    "\n",
    "mlflow_df = pd.DataFrame()\n",
    "# Exemple (adapter l'ID d'expérience):\n",
    "if MLFLOW_AVAILABLE:\n",
    "    runs = mlflow.search_runs(experiment_ids=[\"0\"], output_format=\"pandas\")\n",
    "    mlflow_df = runs\n",
    "\n",
    "print(cpu_df.shape, gpu_df.shape, unique_df.shape, mlflow_df.shape)"
   ]
  },
  {
   "cell_type": "code",
   "execution_count": 3,
   "id": "ad809d0d",
   "metadata": {},
   "outputs": [
    {
     "name": "stdout",
     "output_type": "stream",
     "text": [
      "cpu_norm: (46, 12) gpu_norm: (23, 51) all_runs: (69, 57)\n"
     ]
    }
   ],
   "source": [
    "# Section 3 — Nettoyer et normaliser les colonnes\n",
    "\n",
    "from typing import Dict\n",
    "\n",
    "def snake(name: str) -> str:\n",
    "    return name.lower().replace(\" \", \"_\")\n",
    "\n",
    "# Normaliser CPU\n",
    "cpu_norm = cpu_df.copy()\n",
    "if not cpu_norm.empty:\n",
    "    cpu_norm.columns = [snake(c) for c in cpu_norm.columns]\n",
    "    # colonnes attendues: node, mode, threads, runs, duration_s, avg_events_per_s, stddev_events_per_s, timestamp\n",
    "    cpu_norm[\"timestamp\"] = pd.to_datetime(cpu_norm.get(\"timestamp\"), errors=\"coerce\", utc=True)\n",
    "    num_cols = [\"threads\", \"runs\", \"duration_s\", \"avg_events_per_s\", \"stddev_events_per_s\"]\n",
    "    for c in num_cols:\n",
    "        if c in cpu_norm:\n",
    "            cpu_norm[c] = pd.to_numeric(cpu_norm[c], errors=\"coerce\")\n",
    "\n",
    "# Normaliser GPU: colonnes dynamiques par backend; on garde wide et long\n",
    "gpu_norm = gpu_df.copy()\n",
    "if not gpu_norm.empty:\n",
    "    gpu_norm.columns = [snake(c) for c in gpu_norm.columns]\n",
    "    gpu_norm[\"timestamp\"] = pd.to_datetime(gpu_norm.get(\"timestamp\"), errors=\"coerce\", utc=True)\n",
    "\n",
    "    # Extraire colonnes métriques backend_*_mono_avg/std et *_multi_* par backend\n",
    "    metric_cols = [c for c in gpu_norm.columns if any(x in c for x in (\"_mono_\", \"_multi_\"))]\n",
    "    if metric_cols:\n",
    "        gpu_long = gpu_norm.melt(\n",
    "            id_vars=[c for c in gpu_norm.columns if c not in metric_cols],\n",
    "            value_vars=metric_cols,\n",
    "            var_name=\"metric\",\n",
    "            value_name=\"value\",\n",
    "        )\n",
    "    else:\n",
    "        gpu_long = pd.DataFrame()\n",
    "else:\n",
    "    gpu_long = pd.DataFrame()\n",
    "\n",
    "# Fusion minimale pour un DataFrame unifié optionnel (si utile)\n",
    "all_runs = pd.concat([cpu_norm.assign(kind=\"cpu\"), gpu_norm.assign(kind=\"gpu\")], ignore_index=True, sort=False)\n",
    "print(\"cpu_norm:\", cpu_norm.shape, \"gpu_norm:\", gpu_norm.shape, \"all_runs:\", all_runs.shape)"
   ]
  },
  {
   "cell_type": "code",
   "execution_count": 4,
   "id": "890eca20",
   "metadata": {},
   "outputs": [
    {
     "data": {
      "text/html": [
       "<h3>CPU — Aperçu</h3>"
      ],
      "text/plain": [
       "<IPython.core.display.HTML object>"
      ]
     },
     "metadata": {},
     "output_type": "display_data"
    },
    {
     "data": {
      "text/html": [
       "<div>\n",
       "<style scoped>\n",
       "    .dataframe tbody tr th:only-of-type {\n",
       "        vertical-align: middle;\n",
       "    }\n",
       "\n",
       "    .dataframe tbody tr th {\n",
       "        vertical-align: top;\n",
       "    }\n",
       "\n",
       "    .dataframe thead th {\n",
       "        text-align: right;\n",
       "    }\n",
       "</style>\n",
       "<table border=\"1\" class=\"dataframe\">\n",
       "  <thead>\n",
       "    <tr style=\"text-align: right;\">\n",
       "      <th></th>\n",
       "      <th>node</th>\n",
       "      <th>mode</th>\n",
       "      <th>threads</th>\n",
       "      <th>runs</th>\n",
       "      <th>duration_s</th>\n",
       "      <th>avg_events_per_s</th>\n",
       "      <th>stddev_events_per_s</th>\n",
       "      <th>min_events_per_s</th>\n",
       "      <th>max_events_per_s</th>\n",
       "      <th>timestamp</th>\n",
       "      <th>source_file</th>\n",
       "      <th>kind</th>\n",
       "    </tr>\n",
       "  </thead>\n",
       "  <tbody>\n",
       "    <tr>\n",
       "      <th>0</th>\n",
       "      <td>gpue01</td>\n",
       "      <td>mono</td>\n",
       "      <td>1</td>\n",
       "      <td>5</td>\n",
       "      <td>3.0</td>\n",
       "      <td>1.716161e+07</td>\n",
       "      <td>338741.088</td>\n",
       "      <td>1.674556e+07</td>\n",
       "      <td>1.744563e+07</td>\n",
       "      <td>2025-09-07 01:03:43+00:00</td>\n",
       "      <td>cpu_gpue01.csv</td>\n",
       "      <td>cpu</td>\n",
       "    </tr>\n",
       "    <tr>\n",
       "      <th>1</th>\n",
       "      <td>gpue01</td>\n",
       "      <td>multi</td>\n",
       "      <td>56</td>\n",
       "      <td>5</td>\n",
       "      <td>3.0</td>\n",
       "      <td>5.744633e+08</td>\n",
       "      <td>1147693.467</td>\n",
       "      <td>5.736569e+08</td>\n",
       "      <td>5.767198e+08</td>\n",
       "      <td>2025-09-07 01:03:58+00:00</td>\n",
       "      <td>cpu_gpue01.csv</td>\n",
       "      <td>cpu</td>\n",
       "    </tr>\n",
       "    <tr>\n",
       "      <th>2</th>\n",
       "      <td>gpue01</td>\n",
       "      <td>mono</td>\n",
       "      <td>1</td>\n",
       "      <td>5</td>\n",
       "      <td>3.0</td>\n",
       "      <td>1.741426e+07</td>\n",
       "      <td>33433.709</td>\n",
       "      <td>1.736055e+07</td>\n",
       "      <td>1.746526e+07</td>\n",
       "      <td>2025-09-07 01:13:40+00:00</td>\n",
       "      <td>cpu_gpue01.csv</td>\n",
       "      <td>cpu</td>\n",
       "    </tr>\n",
       "    <tr>\n",
       "      <th>3</th>\n",
       "      <td>gpue01</td>\n",
       "      <td>multi</td>\n",
       "      <td>56</td>\n",
       "      <td>5</td>\n",
       "      <td>3.0</td>\n",
       "      <td>5.748196e+08</td>\n",
       "      <td>1103767.090</td>\n",
       "      <td>5.733175e+08</td>\n",
       "      <td>5.761750e+08</td>\n",
       "      <td>2025-09-07 01:13:56+00:00</td>\n",
       "      <td>cpu_gpue01.csv</td>\n",
       "      <td>cpu</td>\n",
       "    </tr>\n",
       "    <tr>\n",
       "      <th>4</th>\n",
       "      <td>gpue02</td>\n",
       "      <td>mono</td>\n",
       "      <td>1</td>\n",
       "      <td>5</td>\n",
       "      <td>3.0</td>\n",
       "      <td>1.741851e+07</td>\n",
       "      <td>23596.998</td>\n",
       "      <td>1.739648e+07</td>\n",
       "      <td>1.745997e+07</td>\n",
       "      <td>2025-09-07 01:03:56+00:00</td>\n",
       "      <td>cpu_gpue02.csv</td>\n",
       "      <td>cpu</td>\n",
       "    </tr>\n",
       "  </tbody>\n",
       "</table>\n",
       "</div>"
      ],
      "text/plain": [
       "     node   mode  threads  runs  duration_s  avg_events_per_s  \\\n",
       "0  gpue01   mono        1     5         3.0      1.716161e+07   \n",
       "1  gpue01  multi       56     5         3.0      5.744633e+08   \n",
       "2  gpue01   mono        1     5         3.0      1.741426e+07   \n",
       "3  gpue01  multi       56     5         3.0      5.748196e+08   \n",
       "4  gpue02   mono        1     5         3.0      1.741851e+07   \n",
       "\n",
       "   stddev_events_per_s  min_events_per_s  max_events_per_s  \\\n",
       "0           338741.088      1.674556e+07      1.744563e+07   \n",
       "1          1147693.467      5.736569e+08      5.767198e+08   \n",
       "2            33433.709      1.736055e+07      1.746526e+07   \n",
       "3          1103767.090      5.733175e+08      5.761750e+08   \n",
       "4            23596.998      1.739648e+07      1.745997e+07   \n",
       "\n",
       "                  timestamp     source_file kind  \n",
       "0 2025-09-07 01:03:43+00:00  cpu_gpue01.csv  cpu  \n",
       "1 2025-09-07 01:03:58+00:00  cpu_gpue01.csv  cpu  \n",
       "2 2025-09-07 01:13:40+00:00  cpu_gpue01.csv  cpu  \n",
       "3 2025-09-07 01:13:56+00:00  cpu_gpue01.csv  cpu  \n",
       "4 2025-09-07 01:03:56+00:00  cpu_gpue02.csv  cpu  "
      ]
     },
     "metadata": {},
     "output_type": "display_data"
    },
    {
     "data": {
      "text/html": [
       "<div>\n",
       "<style scoped>\n",
       "    .dataframe tbody tr th:only-of-type {\n",
       "        vertical-align: middle;\n",
       "    }\n",
       "\n",
       "    .dataframe tbody tr th {\n",
       "        vertical-align: top;\n",
       "    }\n",
       "\n",
       "    .dataframe thead th {\n",
       "        text-align: right;\n",
       "    }\n",
       "</style>\n",
       "<table border=\"1\" class=\"dataframe\">\n",
       "  <thead>\n",
       "    <tr style=\"text-align: right;\">\n",
       "      <th></th>\n",
       "      <th>node</th>\n",
       "      <th>mode</th>\n",
       "      <th>threads</th>\n",
       "      <th>runs</th>\n",
       "      <th>duration_s</th>\n",
       "      <th>avg_events_per_s</th>\n",
       "      <th>stddev_events_per_s</th>\n",
       "      <th>min_events_per_s</th>\n",
       "      <th>max_events_per_s</th>\n",
       "      <th>timestamp</th>\n",
       "      <th>source_file</th>\n",
       "      <th>kind</th>\n",
       "    </tr>\n",
       "  </thead>\n",
       "  <tbody>\n",
       "    <tr>\n",
       "      <th>count</th>\n",
       "      <td>46</td>\n",
       "      <td>46</td>\n",
       "      <td>46.000000</td>\n",
       "      <td>46.0</td>\n",
       "      <td>46.0</td>\n",
       "      <td>4.600000e+01</td>\n",
       "      <td>4.600000e+01</td>\n",
       "      <td>4.600000e+01</td>\n",
       "      <td>4.600000e+01</td>\n",
       "      <td>46</td>\n",
       "      <td>46</td>\n",
       "      <td>46</td>\n",
       "    </tr>\n",
       "    <tr>\n",
       "      <th>unique</th>\n",
       "      <td>12</td>\n",
       "      <td>2</td>\n",
       "      <td>NaN</td>\n",
       "      <td>NaN</td>\n",
       "      <td>NaN</td>\n",
       "      <td>NaN</td>\n",
       "      <td>NaN</td>\n",
       "      <td>NaN</td>\n",
       "      <td>NaN</td>\n",
       "      <td>NaN</td>\n",
       "      <td>12</td>\n",
       "      <td>1</td>\n",
       "    </tr>\n",
       "    <tr>\n",
       "      <th>top</th>\n",
       "      <td>gpue01</td>\n",
       "      <td>mono</td>\n",
       "      <td>NaN</td>\n",
       "      <td>NaN</td>\n",
       "      <td>NaN</td>\n",
       "      <td>NaN</td>\n",
       "      <td>NaN</td>\n",
       "      <td>NaN</td>\n",
       "      <td>NaN</td>\n",
       "      <td>NaN</td>\n",
       "      <td>cpu_gpue01.csv</td>\n",
       "      <td>cpu</td>\n",
       "    </tr>\n",
       "    <tr>\n",
       "      <th>freq</th>\n",
       "      <td>4</td>\n",
       "      <td>23</td>\n",
       "      <td>NaN</td>\n",
       "      <td>NaN</td>\n",
       "      <td>NaN</td>\n",
       "      <td>NaN</td>\n",
       "      <td>NaN</td>\n",
       "      <td>NaN</td>\n",
       "      <td>NaN</td>\n",
       "      <td>NaN</td>\n",
       "      <td>4</td>\n",
       "      <td>46</td>\n",
       "    </tr>\n",
       "    <tr>\n",
       "      <th>mean</th>\n",
       "      <td>NaN</td>\n",
       "      <td>NaN</td>\n",
       "      <td>20.152174</td>\n",
       "      <td>5.0</td>\n",
       "      <td>3.0</td>\n",
       "      <td>2.891150e+08</td>\n",
       "      <td>2.857257e+06</td>\n",
       "      <td>2.860056e+08</td>\n",
       "      <td>2.938314e+08</td>\n",
       "      <td>2025-09-07 01:08:37.326086912+00:00</td>\n",
       "      <td>NaN</td>\n",
       "      <td>NaN</td>\n",
       "    </tr>\n",
       "    <tr>\n",
       "      <th>min</th>\n",
       "      <td>NaN</td>\n",
       "      <td>NaN</td>\n",
       "      <td>1.000000</td>\n",
       "      <td>5.0</td>\n",
       "      <td>3.0</td>\n",
       "      <td>1.031555e+07</td>\n",
       "      <td>8.081278e+03</td>\n",
       "      <td>9.838336e+06</td>\n",
       "      <td>1.043516e+07</td>\n",
       "      <td>2025-09-07 01:03:20+00:00</td>\n",
       "      <td>NaN</td>\n",
       "      <td>NaN</td>\n",
       "    </tr>\n",
       "    <tr>\n",
       "      <th>25%</th>\n",
       "      <td>NaN</td>\n",
       "      <td>NaN</td>\n",
       "      <td>1.000000</td>\n",
       "      <td>5.0</td>\n",
       "      <td>3.0</td>\n",
       "      <td>1.725408e+07</td>\n",
       "      <td>9.017977e+04</td>\n",
       "      <td>1.682931e+07</td>\n",
       "      <td>1.744922e+07</td>\n",
       "      <td>2025-09-07 01:03:54.500000+00:00</td>\n",
       "      <td>NaN</td>\n",
       "      <td>NaN</td>\n",
       "    </tr>\n",
       "    <tr>\n",
       "      <th>50%</th>\n",
       "      <td>NaN</td>\n",
       "      <td>NaN</td>\n",
       "      <td>4.500000</td>\n",
       "      <td>5.0</td>\n",
       "      <td>3.0</td>\n",
       "      <td>5.100227e+07</td>\n",
       "      <td>4.815301e+05</td>\n",
       "      <td>5.071095e+07</td>\n",
       "      <td>5.128427e+07</td>\n",
       "      <td>2025-09-07 01:04:13+00:00</td>\n",
       "      <td>NaN</td>\n",
       "      <td>NaN</td>\n",
       "    </tr>\n",
       "    <tr>\n",
       "      <th>75%</th>\n",
       "      <td>NaN</td>\n",
       "      <td>NaN</td>\n",
       "      <td>40.000000</td>\n",
       "      <td>5.0</td>\n",
       "      <td>3.0</td>\n",
       "      <td>4.078277e+08</td>\n",
       "      <td>1.469885e+06</td>\n",
       "      <td>4.004832e+08</td>\n",
       "      <td>4.112683e+08</td>\n",
       "      <td>2025-09-07 01:13:40.750000128+00:00</td>\n",
       "      <td>NaN</td>\n",
       "      <td>NaN</td>\n",
       "    </tr>\n",
       "    <tr>\n",
       "      <th>max</th>\n",
       "      <td>NaN</td>\n",
       "      <td>NaN</td>\n",
       "      <td>64.000000</td>\n",
       "      <td>5.0</td>\n",
       "      <td>3.0</td>\n",
       "      <td>1.680315e+09</td>\n",
       "      <td>3.068931e+07</td>\n",
       "      <td>1.666607e+09</td>\n",
       "      <td>1.732122e+09</td>\n",
       "      <td>2025-09-07 01:13:56+00:00</td>\n",
       "      <td>NaN</td>\n",
       "      <td>NaN</td>\n",
       "    </tr>\n",
       "    <tr>\n",
       "      <th>std</th>\n",
       "      <td>NaN</td>\n",
       "      <td>NaN</td>\n",
       "      <td>22.923028</td>\n",
       "      <td>0.0</td>\n",
       "      <td>0.0</td>\n",
       "      <td>4.614254e+08</td>\n",
       "      <td>6.649521e+06</td>\n",
       "      <td>4.560076e+08</td>\n",
       "      <td>4.732087e+08</td>\n",
       "      <td>NaN</td>\n",
       "      <td>NaN</td>\n",
       "      <td>NaN</td>\n",
       "    </tr>\n",
       "  </tbody>\n",
       "</table>\n",
       "</div>"
      ],
      "text/plain": [
       "          node  mode    threads  runs  duration_s  avg_events_per_s  \\\n",
       "count       46    46  46.000000  46.0        46.0      4.600000e+01   \n",
       "unique      12     2        NaN   NaN         NaN               NaN   \n",
       "top     gpue01  mono        NaN   NaN         NaN               NaN   \n",
       "freq         4    23        NaN   NaN         NaN               NaN   \n",
       "mean       NaN   NaN  20.152174   5.0         3.0      2.891150e+08   \n",
       "min        NaN   NaN   1.000000   5.0         3.0      1.031555e+07   \n",
       "25%        NaN   NaN   1.000000   5.0         3.0      1.725408e+07   \n",
       "50%        NaN   NaN   4.500000   5.0         3.0      5.100227e+07   \n",
       "75%        NaN   NaN  40.000000   5.0         3.0      4.078277e+08   \n",
       "max        NaN   NaN  64.000000   5.0         3.0      1.680315e+09   \n",
       "std        NaN   NaN  22.923028   0.0         0.0      4.614254e+08   \n",
       "\n",
       "        stddev_events_per_s  min_events_per_s  max_events_per_s  \\\n",
       "count          4.600000e+01      4.600000e+01      4.600000e+01   \n",
       "unique                  NaN               NaN               NaN   \n",
       "top                     NaN               NaN               NaN   \n",
       "freq                    NaN               NaN               NaN   \n",
       "mean           2.857257e+06      2.860056e+08      2.938314e+08   \n",
       "min            8.081278e+03      9.838336e+06      1.043516e+07   \n",
       "25%            9.017977e+04      1.682931e+07      1.744922e+07   \n",
       "50%            4.815301e+05      5.071095e+07      5.128427e+07   \n",
       "75%            1.469885e+06      4.004832e+08      4.112683e+08   \n",
       "max            3.068931e+07      1.666607e+09      1.732122e+09   \n",
       "std            6.649521e+06      4.560076e+08      4.732087e+08   \n",
       "\n",
       "                                  timestamp     source_file kind  \n",
       "count                                    46              46   46  \n",
       "unique                                  NaN              12    1  \n",
       "top                                     NaN  cpu_gpue01.csv  cpu  \n",
       "freq                                    NaN               4   46  \n",
       "mean    2025-09-07 01:08:37.326086912+00:00             NaN  NaN  \n",
       "min               2025-09-07 01:03:20+00:00             NaN  NaN  \n",
       "25%        2025-09-07 01:03:54.500000+00:00             NaN  NaN  \n",
       "50%               2025-09-07 01:04:13+00:00             NaN  NaN  \n",
       "75%     2025-09-07 01:13:40.750000128+00:00             NaN  NaN  \n",
       "max               2025-09-07 01:13:56+00:00             NaN  NaN  \n",
       "std                                     NaN             NaN  NaN  "
      ]
     },
     "metadata": {},
     "output_type": "display_data"
    },
    {
     "data": {
      "text/html": [
       "<h3>GPU — Aperçu</h3>"
      ],
      "text/plain": [
       "<IPython.core.display.HTML object>"
      ]
     },
     "metadata": {},
     "output_type": "display_data"
    },
    {
     "data": {
      "text/html": [
       "<div>\n",
       "<style scoped>\n",
       "    .dataframe tbody tr th:only-of-type {\n",
       "        vertical-align: middle;\n",
       "    }\n",
       "\n",
       "    .dataframe tbody tr th {\n",
       "        vertical-align: top;\n",
       "    }\n",
       "\n",
       "    .dataframe thead th {\n",
       "        text-align: right;\n",
       "    }\n",
       "</style>\n",
       "<table border=\"1\" class=\"dataframe\">\n",
       "  <thead>\n",
       "    <tr style=\"text-align: right;\">\n",
       "      <th></th>\n",
       "      <th>node</th>\n",
       "      <th>runs</th>\n",
       "      <th>duration_s</th>\n",
       "      <th>timestamp</th>\n",
       "      <th>torch_mono_avg</th>\n",
       "      <th>torch_mono_std</th>\n",
       "      <th>torch_mono_min</th>\n",
       "      <th>torch_mono_max</th>\n",
       "      <th>torch_mono_vram_total_mb</th>\n",
       "      <th>torch_mono_vram_used_mb</th>\n",
       "      <th>...</th>\n",
       "      <th>numba_multi_avg</th>\n",
       "      <th>numba_multi_std</th>\n",
       "      <th>numba_multi_min</th>\n",
       "      <th>numba_multi_max</th>\n",
       "      <th>numba_multi_gpus</th>\n",
       "      <th>numba_multi_vram_total_mb_sum</th>\n",
       "      <th>numba_multi_vram_used_mb_sum</th>\n",
       "      <th>numba_multi_vram_used_pct</th>\n",
       "      <th>source_file</th>\n",
       "      <th>kind</th>\n",
       "    </tr>\n",
       "  </thead>\n",
       "  <tbody>\n",
       "    <tr>\n",
       "      <th>0</th>\n",
       "      <td>gpue01</td>\n",
       "      <td>5</td>\n",
       "      <td>3.0</td>\n",
       "      <td>2025-09-07 03:03:18+00:00</td>\n",
       "      <td>4.873133e+10</td>\n",
       "      <td>6.180931e+06</td>\n",
       "      <td>4.872707e+10</td>\n",
       "      <td>4.874329e+10</td>\n",
       "      <td>NaN</td>\n",
       "      <td>NaN</td>\n",
       "      <td>...</td>\n",
       "      <td>8.921338e+12</td>\n",
       "      <td>2.917659e+11</td>\n",
       "      <td>8.343615e+12</td>\n",
       "      <td>9.119253e+12</td>\n",
       "      <td>2</td>\n",
       "      <td>NaN</td>\n",
       "      <td>NaN</td>\n",
       "      <td>NaN</td>\n",
       "      <td>gpu_gpue01.csv</td>\n",
       "      <td>gpu</td>\n",
       "    </tr>\n",
       "    <tr>\n",
       "      <th>1</th>\n",
       "      <td>gpue01</td>\n",
       "      <td>5</td>\n",
       "      <td>3.0</td>\n",
       "      <td>2025-09-07 03:37:28+00:00</td>\n",
       "      <td>4.873104e+10</td>\n",
       "      <td>2.559075e+06</td>\n",
       "      <td>4.872859e+10</td>\n",
       "      <td>4.873593e+10</td>\n",
       "      <td>NaN</td>\n",
       "      <td>NaN</td>\n",
       "      <td>...</td>\n",
       "      <td>8.899243e+12</td>\n",
       "      <td>3.347656e+11</td>\n",
       "      <td>8.252517e+12</td>\n",
       "      <td>9.119493e+12</td>\n",
       "      <td>2</td>\n",
       "      <td>NaN</td>\n",
       "      <td>NaN</td>\n",
       "      <td>NaN</td>\n",
       "      <td>gpu_gpue01.csv</td>\n",
       "      <td>gpu</td>\n",
       "    </tr>\n",
       "    <tr>\n",
       "      <th>2</th>\n",
       "      <td>gpue02</td>\n",
       "      <td>5</td>\n",
       "      <td>3.0</td>\n",
       "      <td>2025-09-07 03:03:31+00:00</td>\n",
       "      <td>4.860889e+10</td>\n",
       "      <td>8.107811e+06</td>\n",
       "      <td>4.859804e+10</td>\n",
       "      <td>4.861866e+10</td>\n",
       "      <td>NaN</td>\n",
       "      <td>NaN</td>\n",
       "      <td>...</td>\n",
       "      <td>1.657764e+13</td>\n",
       "      <td>1.232799e+12</td>\n",
       "      <td>1.485700e+13</td>\n",
       "      <td>1.777950e+13</td>\n",
       "      <td>4</td>\n",
       "      <td>NaN</td>\n",
       "      <td>NaN</td>\n",
       "      <td>NaN</td>\n",
       "      <td>gpu_gpue02.csv</td>\n",
       "      <td>gpu</td>\n",
       "    </tr>\n",
       "    <tr>\n",
       "      <th>3</th>\n",
       "      <td>gpue02</td>\n",
       "      <td>5</td>\n",
       "      <td>3.0</td>\n",
       "      <td>2025-09-07 03:37:39+00:00</td>\n",
       "      <td>4.889792e+10</td>\n",
       "      <td>1.415001e+07</td>\n",
       "      <td>4.888507e+10</td>\n",
       "      <td>4.891568e+10</td>\n",
       "      <td>NaN</td>\n",
       "      <td>NaN</td>\n",
       "      <td>...</td>\n",
       "      <td>1.673740e+13</td>\n",
       "      <td>1.108332e+12</td>\n",
       "      <td>1.501379e+13</td>\n",
       "      <td>1.775580e+13</td>\n",
       "      <td>4</td>\n",
       "      <td>NaN</td>\n",
       "      <td>NaN</td>\n",
       "      <td>NaN</td>\n",
       "      <td>gpu_gpue02.csv</td>\n",
       "      <td>gpu</td>\n",
       "    </tr>\n",
       "    <tr>\n",
       "      <th>4</th>\n",
       "      <td>gpue03</td>\n",
       "      <td>5</td>\n",
       "      <td>3.0</td>\n",
       "      <td>2025-09-07 03:03:29+00:00</td>\n",
       "      <td>4.896971e+10</td>\n",
       "      <td>1.022567e+06</td>\n",
       "      <td>4.896774e+10</td>\n",
       "      <td>4.897069e+10</td>\n",
       "      <td>NaN</td>\n",
       "      <td>NaN</td>\n",
       "      <td>...</td>\n",
       "      <td>1.702380e+13</td>\n",
       "      <td>8.791600e+11</td>\n",
       "      <td>1.549157e+13</td>\n",
       "      <td>1.780091e+13</td>\n",
       "      <td>4</td>\n",
       "      <td>NaN</td>\n",
       "      <td>NaN</td>\n",
       "      <td>NaN</td>\n",
       "      <td>gpu_gpue03.csv</td>\n",
       "      <td>gpu</td>\n",
       "    </tr>\n",
       "  </tbody>\n",
       "</table>\n",
       "<p>5 rows × 51 columns</p>\n",
       "</div>"
      ],
      "text/plain": [
       "     node  runs  duration_s                 timestamp  torch_mono_avg  \\\n",
       "0  gpue01     5         3.0 2025-09-07 03:03:18+00:00    4.873133e+10   \n",
       "1  gpue01     5         3.0 2025-09-07 03:37:28+00:00    4.873104e+10   \n",
       "2  gpue02     5         3.0 2025-09-07 03:03:31+00:00    4.860889e+10   \n",
       "3  gpue02     5         3.0 2025-09-07 03:37:39+00:00    4.889792e+10   \n",
       "4  gpue03     5         3.0 2025-09-07 03:03:29+00:00    4.896971e+10   \n",
       "\n",
       "   torch_mono_std  torch_mono_min  torch_mono_max  torch_mono_vram_total_mb  \\\n",
       "0    6.180931e+06    4.872707e+10    4.874329e+10                       NaN   \n",
       "1    2.559075e+06    4.872859e+10    4.873593e+10                       NaN   \n",
       "2    8.107811e+06    4.859804e+10    4.861866e+10                       NaN   \n",
       "3    1.415001e+07    4.888507e+10    4.891568e+10                       NaN   \n",
       "4    1.022567e+06    4.896774e+10    4.897069e+10                       NaN   \n",
       "\n",
       "   torch_mono_vram_used_mb  ...  numba_multi_avg  numba_multi_std  \\\n",
       "0                      NaN  ...     8.921338e+12     2.917659e+11   \n",
       "1                      NaN  ...     8.899243e+12     3.347656e+11   \n",
       "2                      NaN  ...     1.657764e+13     1.232799e+12   \n",
       "3                      NaN  ...     1.673740e+13     1.108332e+12   \n",
       "4                      NaN  ...     1.702380e+13     8.791600e+11   \n",
       "\n",
       "   numba_multi_min  numba_multi_max  numba_multi_gpus  \\\n",
       "0     8.343615e+12     9.119253e+12                 2   \n",
       "1     8.252517e+12     9.119493e+12                 2   \n",
       "2     1.485700e+13     1.777950e+13                 4   \n",
       "3     1.501379e+13     1.775580e+13                 4   \n",
       "4     1.549157e+13     1.780091e+13                 4   \n",
       "\n",
       "   numba_multi_vram_total_mb_sum  numba_multi_vram_used_mb_sum  \\\n",
       "0                            NaN                           NaN   \n",
       "1                            NaN                           NaN   \n",
       "2                            NaN                           NaN   \n",
       "3                            NaN                           NaN   \n",
       "4                            NaN                           NaN   \n",
       "\n",
       "   numba_multi_vram_used_pct     source_file  kind  \n",
       "0                        NaN  gpu_gpue01.csv   gpu  \n",
       "1                        NaN  gpu_gpue01.csv   gpu  \n",
       "2                        NaN  gpu_gpue02.csv   gpu  \n",
       "3                        NaN  gpu_gpue02.csv   gpu  \n",
       "4                        NaN  gpu_gpue03.csv   gpu  \n",
       "\n",
       "[5 rows x 51 columns]"
      ]
     },
     "metadata": {},
     "output_type": "display_data"
    },
    {
     "data": {
      "text/html": [
       "<div>\n",
       "<style scoped>\n",
       "    .dataframe tbody tr th:only-of-type {\n",
       "        vertical-align: middle;\n",
       "    }\n",
       "\n",
       "    .dataframe tbody tr th {\n",
       "        vertical-align: top;\n",
       "    }\n",
       "\n",
       "    .dataframe thead th {\n",
       "        text-align: right;\n",
       "    }\n",
       "</style>\n",
       "<table border=\"1\" class=\"dataframe\">\n",
       "  <thead>\n",
       "    <tr style=\"text-align: right;\">\n",
       "      <th></th>\n",
       "      <th>node</th>\n",
       "      <th>runs</th>\n",
       "      <th>duration_s</th>\n",
       "      <th>timestamp</th>\n",
       "      <th>torch_mono_avg</th>\n",
       "      <th>torch_mono_std</th>\n",
       "      <th>torch_mono_min</th>\n",
       "      <th>torch_mono_max</th>\n",
       "      <th>torch_mono_vram_total_mb</th>\n",
       "      <th>torch_mono_vram_used_mb</th>\n",
       "      <th>...</th>\n",
       "      <th>numba_multi_avg</th>\n",
       "      <th>numba_multi_std</th>\n",
       "      <th>numba_multi_min</th>\n",
       "      <th>numba_multi_max</th>\n",
       "      <th>numba_multi_gpus</th>\n",
       "      <th>numba_multi_vram_total_mb_sum</th>\n",
       "      <th>numba_multi_vram_used_mb_sum</th>\n",
       "      <th>numba_multi_vram_used_pct</th>\n",
       "      <th>source_file</th>\n",
       "      <th>kind</th>\n",
       "    </tr>\n",
       "  </thead>\n",
       "  <tbody>\n",
       "    <tr>\n",
       "      <th>count</th>\n",
       "      <td>23</td>\n",
       "      <td>23.0</td>\n",
       "      <td>23.0</td>\n",
       "      <td>23</td>\n",
       "      <td>2.300000e+01</td>\n",
       "      <td>2.300000e+01</td>\n",
       "      <td>2.300000e+01</td>\n",
       "      <td>2.300000e+01</td>\n",
       "      <td>0.0</td>\n",
       "      <td>0.0</td>\n",
       "      <td>...</td>\n",
       "      <td>2.300000e+01</td>\n",
       "      <td>2.300000e+01</td>\n",
       "      <td>2.300000e+01</td>\n",
       "      <td>2.300000e+01</td>\n",
       "      <td>23.000000</td>\n",
       "      <td>0.0</td>\n",
       "      <td>0.0</td>\n",
       "      <td>0.0</td>\n",
       "      <td>23</td>\n",
       "      <td>23</td>\n",
       "    </tr>\n",
       "    <tr>\n",
       "      <th>unique</th>\n",
       "      <td>12</td>\n",
       "      <td>NaN</td>\n",
       "      <td>NaN</td>\n",
       "      <td>NaN</td>\n",
       "      <td>NaN</td>\n",
       "      <td>NaN</td>\n",
       "      <td>NaN</td>\n",
       "      <td>NaN</td>\n",
       "      <td>NaN</td>\n",
       "      <td>NaN</td>\n",
       "      <td>...</td>\n",
       "      <td>NaN</td>\n",
       "      <td>NaN</td>\n",
       "      <td>NaN</td>\n",
       "      <td>NaN</td>\n",
       "      <td>NaN</td>\n",
       "      <td>NaN</td>\n",
       "      <td>NaN</td>\n",
       "      <td>NaN</td>\n",
       "      <td>12</td>\n",
       "      <td>1</td>\n",
       "    </tr>\n",
       "    <tr>\n",
       "      <th>top</th>\n",
       "      <td>gpue01</td>\n",
       "      <td>NaN</td>\n",
       "      <td>NaN</td>\n",
       "      <td>NaN</td>\n",
       "      <td>NaN</td>\n",
       "      <td>NaN</td>\n",
       "      <td>NaN</td>\n",
       "      <td>NaN</td>\n",
       "      <td>NaN</td>\n",
       "      <td>NaN</td>\n",
       "      <td>...</td>\n",
       "      <td>NaN</td>\n",
       "      <td>NaN</td>\n",
       "      <td>NaN</td>\n",
       "      <td>NaN</td>\n",
       "      <td>NaN</td>\n",
       "      <td>NaN</td>\n",
       "      <td>NaN</td>\n",
       "      <td>NaN</td>\n",
       "      <td>gpu_gpue01.csv</td>\n",
       "      <td>gpu</td>\n",
       "    </tr>\n",
       "    <tr>\n",
       "      <th>freq</th>\n",
       "      <td>2</td>\n",
       "      <td>NaN</td>\n",
       "      <td>NaN</td>\n",
       "      <td>NaN</td>\n",
       "      <td>NaN</td>\n",
       "      <td>NaN</td>\n",
       "      <td>NaN</td>\n",
       "      <td>NaN</td>\n",
       "      <td>NaN</td>\n",
       "      <td>NaN</td>\n",
       "      <td>...</td>\n",
       "      <td>NaN</td>\n",
       "      <td>NaN</td>\n",
       "      <td>NaN</td>\n",
       "      <td>NaN</td>\n",
       "      <td>NaN</td>\n",
       "      <td>NaN</td>\n",
       "      <td>NaN</td>\n",
       "      <td>NaN</td>\n",
       "      <td>2</td>\n",
       "      <td>23</td>\n",
       "    </tr>\n",
       "    <tr>\n",
       "      <th>mean</th>\n",
       "      <td>NaN</td>\n",
       "      <td>5.0</td>\n",
       "      <td>3.0</td>\n",
       "      <td>2025-09-07 03:19:42.434782464+00:00</td>\n",
       "      <td>4.953182e+10</td>\n",
       "      <td>5.687292e+06</td>\n",
       "      <td>4.952453e+10</td>\n",
       "      <td>4.953890e+10</td>\n",
       "      <td>NaN</td>\n",
       "      <td>NaN</td>\n",
       "      <td>...</td>\n",
       "      <td>1.450664e+13</td>\n",
       "      <td>7.323347e+11</td>\n",
       "      <td>1.337939e+13</td>\n",
       "      <td>1.532883e+13</td>\n",
       "      <td>3.043478</td>\n",
       "      <td>NaN</td>\n",
       "      <td>NaN</td>\n",
       "      <td>NaN</td>\n",
       "      <td>NaN</td>\n",
       "      <td>NaN</td>\n",
       "    </tr>\n",
       "    <tr>\n",
       "      <th>min</th>\n",
       "      <td>NaN</td>\n",
       "      <td>5.0</td>\n",
       "      <td>3.0</td>\n",
       "      <td>2025-09-07 03:02:59+00:00</td>\n",
       "      <td>3.282098e+10</td>\n",
       "      <td>5.417774e+05</td>\n",
       "      <td>3.281872e+10</td>\n",
       "      <td>3.282164e+10</td>\n",
       "      <td>NaN</td>\n",
       "      <td>NaN</td>\n",
       "      <td>...</td>\n",
       "      <td>6.313121e+12</td>\n",
       "      <td>8.033479e+10</td>\n",
       "      <td>6.002349e+12</td>\n",
       "      <td>6.387847e+12</td>\n",
       "      <td>2.000000</td>\n",
       "      <td>NaN</td>\n",
       "      <td>NaN</td>\n",
       "      <td>NaN</td>\n",
       "      <td>NaN</td>\n",
       "      <td>NaN</td>\n",
       "    </tr>\n",
       "    <tr>\n",
       "      <th>25%</th>\n",
       "      <td>NaN</td>\n",
       "      <td>5.0</td>\n",
       "      <td>3.0</td>\n",
       "      <td>2025-09-07 03:03:27.500000+00:00</td>\n",
       "      <td>3.696782e+10</td>\n",
       "      <td>1.437735e+06</td>\n",
       "      <td>3.696624e+10</td>\n",
       "      <td>3.696918e+10</td>\n",
       "      <td>NaN</td>\n",
       "      <td>NaN</td>\n",
       "      <td>...</td>\n",
       "      <td>8.910291e+12</td>\n",
       "      <td>2.081817e+11</td>\n",
       "      <td>8.298066e+12</td>\n",
       "      <td>9.119373e+12</td>\n",
       "      <td>2.000000</td>\n",
       "      <td>NaN</td>\n",
       "      <td>NaN</td>\n",
       "      <td>NaN</td>\n",
       "      <td>NaN</td>\n",
       "      <td>NaN</td>\n",
       "    </tr>\n",
       "    <tr>\n",
       "      <th>50%</th>\n",
       "      <td>NaN</td>\n",
       "      <td>5.0</td>\n",
       "      <td>3.0</td>\n",
       "      <td>2025-09-07 03:03:36+00:00</td>\n",
       "      <td>4.875925e+10</td>\n",
       "      <td>5.362264e+06</td>\n",
       "      <td>4.875206e+10</td>\n",
       "      <td>4.877056e+10</td>\n",
       "      <td>NaN</td>\n",
       "      <td>NaN</td>\n",
       "      <td>...</td>\n",
       "      <td>1.657764e+13</td>\n",
       "      <td>8.791600e+11</td>\n",
       "      <td>1.485700e+13</td>\n",
       "      <td>1.772459e+13</td>\n",
       "      <td>3.000000</td>\n",
       "      <td>NaN</td>\n",
       "      <td>NaN</td>\n",
       "      <td>NaN</td>\n",
       "      <td>NaN</td>\n",
       "      <td>NaN</td>\n",
       "    </tr>\n",
       "    <tr>\n",
       "      <th>75%</th>\n",
       "      <td>NaN</td>\n",
       "      <td>5.0</td>\n",
       "      <td>3.0</td>\n",
       "      <td>2025-09-07 03:37:34+00:00</td>\n",
       "      <td>5.735246e+10</td>\n",
       "      <td>7.566047e+06</td>\n",
       "      <td>5.734616e+10</td>\n",
       "      <td>5.735489e+10</td>\n",
       "      <td>NaN</td>\n",
       "      <td>NaN</td>\n",
       "      <td>...</td>\n",
       "      <td>1.700832e+13</td>\n",
       "      <td>1.104071e+12</td>\n",
       "      <td>1.545774e+13</td>\n",
       "      <td>1.780909e+13</td>\n",
       "      <td>4.000000</td>\n",
       "      <td>NaN</td>\n",
       "      <td>NaN</td>\n",
       "      <td>NaN</td>\n",
       "      <td>NaN</td>\n",
       "      <td>NaN</td>\n",
       "    </tr>\n",
       "    <tr>\n",
       "      <th>max</th>\n",
       "      <td>NaN</td>\n",
       "      <td>5.0</td>\n",
       "      <td>3.0</td>\n",
       "      <td>2025-09-07 03:37:45+00:00</td>\n",
       "      <td>7.513813e+10</td>\n",
       "      <td>1.669449e+07</td>\n",
       "      <td>7.511470e+10</td>\n",
       "      <td>7.515205e+10</td>\n",
       "      <td>NaN</td>\n",
       "      <td>NaN</td>\n",
       "      <td>...</td>\n",
       "      <td>2.573242e+13</td>\n",
       "      <td>1.844711e+12</td>\n",
       "      <td>2.347311e+13</td>\n",
       "      <td>2.740671e+13</td>\n",
       "      <td>4.000000</td>\n",
       "      <td>NaN</td>\n",
       "      <td>NaN</td>\n",
       "      <td>NaN</td>\n",
       "      <td>NaN</td>\n",
       "      <td>NaN</td>\n",
       "    </tr>\n",
       "    <tr>\n",
       "      <th>std</th>\n",
       "      <td>NaN</td>\n",
       "      <td>0.0</td>\n",
       "      <td>0.0</td>\n",
       "      <td>NaN</td>\n",
       "      <td>1.360902e+10</td>\n",
       "      <td>4.928926e+06</td>\n",
       "      <td>1.360485e+10</td>\n",
       "      <td>1.361098e+10</td>\n",
       "      <td>NaN</td>\n",
       "      <td>NaN</td>\n",
       "      <td>...</td>\n",
       "      <td>6.604156e+12</td>\n",
       "      <td>5.261630e+11</td>\n",
       "      <td>5.886724e+12</td>\n",
       "      <td>7.306951e+12</td>\n",
       "      <td>0.928256</td>\n",
       "      <td>NaN</td>\n",
       "      <td>NaN</td>\n",
       "      <td>NaN</td>\n",
       "      <td>NaN</td>\n",
       "      <td>NaN</td>\n",
       "    </tr>\n",
       "  </tbody>\n",
       "</table>\n",
       "<p>11 rows × 51 columns</p>\n",
       "</div>"
      ],
      "text/plain": [
       "          node  runs  duration_s                            timestamp  \\\n",
       "count       23  23.0        23.0                                   23   \n",
       "unique      12   NaN         NaN                                  NaN   \n",
       "top     gpue01   NaN         NaN                                  NaN   \n",
       "freq         2   NaN         NaN                                  NaN   \n",
       "mean       NaN   5.0         3.0  2025-09-07 03:19:42.434782464+00:00   \n",
       "min        NaN   5.0         3.0            2025-09-07 03:02:59+00:00   \n",
       "25%        NaN   5.0         3.0     2025-09-07 03:03:27.500000+00:00   \n",
       "50%        NaN   5.0         3.0            2025-09-07 03:03:36+00:00   \n",
       "75%        NaN   5.0         3.0            2025-09-07 03:37:34+00:00   \n",
       "max        NaN   5.0         3.0            2025-09-07 03:37:45+00:00   \n",
       "std        NaN   0.0         0.0                                  NaN   \n",
       "\n",
       "        torch_mono_avg  torch_mono_std  torch_mono_min  torch_mono_max  \\\n",
       "count     2.300000e+01    2.300000e+01    2.300000e+01    2.300000e+01   \n",
       "unique             NaN             NaN             NaN             NaN   \n",
       "top                NaN             NaN             NaN             NaN   \n",
       "freq               NaN             NaN             NaN             NaN   \n",
       "mean      4.953182e+10    5.687292e+06    4.952453e+10    4.953890e+10   \n",
       "min       3.282098e+10    5.417774e+05    3.281872e+10    3.282164e+10   \n",
       "25%       3.696782e+10    1.437735e+06    3.696624e+10    3.696918e+10   \n",
       "50%       4.875925e+10    5.362264e+06    4.875206e+10    4.877056e+10   \n",
       "75%       5.735246e+10    7.566047e+06    5.734616e+10    5.735489e+10   \n",
       "max       7.513813e+10    1.669449e+07    7.511470e+10    7.515205e+10   \n",
       "std       1.360902e+10    4.928926e+06    1.360485e+10    1.361098e+10   \n",
       "\n",
       "        torch_mono_vram_total_mb  torch_mono_vram_used_mb  ...  \\\n",
       "count                        0.0                      0.0  ...   \n",
       "unique                       NaN                      NaN  ...   \n",
       "top                          NaN                      NaN  ...   \n",
       "freq                         NaN                      NaN  ...   \n",
       "mean                         NaN                      NaN  ...   \n",
       "min                          NaN                      NaN  ...   \n",
       "25%                          NaN                      NaN  ...   \n",
       "50%                          NaN                      NaN  ...   \n",
       "75%                          NaN                      NaN  ...   \n",
       "max                          NaN                      NaN  ...   \n",
       "std                          NaN                      NaN  ...   \n",
       "\n",
       "        numba_multi_avg  numba_multi_std  numba_multi_min  numba_multi_max  \\\n",
       "count      2.300000e+01     2.300000e+01     2.300000e+01     2.300000e+01   \n",
       "unique              NaN              NaN              NaN              NaN   \n",
       "top                 NaN              NaN              NaN              NaN   \n",
       "freq                NaN              NaN              NaN              NaN   \n",
       "mean       1.450664e+13     7.323347e+11     1.337939e+13     1.532883e+13   \n",
       "min        6.313121e+12     8.033479e+10     6.002349e+12     6.387847e+12   \n",
       "25%        8.910291e+12     2.081817e+11     8.298066e+12     9.119373e+12   \n",
       "50%        1.657764e+13     8.791600e+11     1.485700e+13     1.772459e+13   \n",
       "75%        1.700832e+13     1.104071e+12     1.545774e+13     1.780909e+13   \n",
       "max        2.573242e+13     1.844711e+12     2.347311e+13     2.740671e+13   \n",
       "std        6.604156e+12     5.261630e+11     5.886724e+12     7.306951e+12   \n",
       "\n",
       "        numba_multi_gpus  numba_multi_vram_total_mb_sum  \\\n",
       "count          23.000000                            0.0   \n",
       "unique               NaN                            NaN   \n",
       "top                  NaN                            NaN   \n",
       "freq                 NaN                            NaN   \n",
       "mean            3.043478                            NaN   \n",
       "min             2.000000                            NaN   \n",
       "25%             2.000000                            NaN   \n",
       "50%             3.000000                            NaN   \n",
       "75%             4.000000                            NaN   \n",
       "max             4.000000                            NaN   \n",
       "std             0.928256                            NaN   \n",
       "\n",
       "        numba_multi_vram_used_mb_sum  numba_multi_vram_used_pct  \\\n",
       "count                            0.0                        0.0   \n",
       "unique                           NaN                        NaN   \n",
       "top                              NaN                        NaN   \n",
       "freq                             NaN                        NaN   \n",
       "mean                             NaN                        NaN   \n",
       "min                              NaN                        NaN   \n",
       "25%                              NaN                        NaN   \n",
       "50%                              NaN                        NaN   \n",
       "75%                              NaN                        NaN   \n",
       "max                              NaN                        NaN   \n",
       "std                              NaN                        NaN   \n",
       "\n",
       "           source_file  kind  \n",
       "count               23    23  \n",
       "unique              12     1  \n",
       "top     gpu_gpue01.csv   gpu  \n",
       "freq                 2    23  \n",
       "mean               NaN   NaN  \n",
       "min                NaN   NaN  \n",
       "25%                NaN   NaN  \n",
       "50%                NaN   NaN  \n",
       "75%                NaN   NaN  \n",
       "max                NaN   NaN  \n",
       "std                NaN   NaN  \n",
       "\n",
       "[11 rows x 51 columns]"
      ]
     },
     "metadata": {},
     "output_type": "display_data"
    },
    {
     "data": {
      "text/html": [
       "<div>\n",
       "<style scoped>\n",
       "    .dataframe tbody tr th:only-of-type {\n",
       "        vertical-align: middle;\n",
       "    }\n",
       "\n",
       "    .dataframe tbody tr th {\n",
       "        vertical-align: top;\n",
       "    }\n",
       "\n",
       "    .dataframe thead th {\n",
       "        text-align: right;\n",
       "    }\n",
       "</style>\n",
       "<table border=\"1\" class=\"dataframe\">\n",
       "  <thead>\n",
       "    <tr style=\"text-align: right;\">\n",
       "      <th></th>\n",
       "      <th>count</th>\n",
       "    </tr>\n",
       "    <tr>\n",
       "      <th>node</th>\n",
       "      <th></th>\n",
       "    </tr>\n",
       "  </thead>\n",
       "  <tbody>\n",
       "    <tr>\n",
       "      <th>gpue01</th>\n",
       "      <td>6</td>\n",
       "    </tr>\n",
       "    <tr>\n",
       "      <th>gpue02</th>\n",
       "      <td>6</td>\n",
       "    </tr>\n",
       "    <tr>\n",
       "      <th>gpue03</th>\n",
       "      <td>6</td>\n",
       "    </tr>\n",
       "    <tr>\n",
       "      <th>gpue04</th>\n",
       "      <td>6</td>\n",
       "    </tr>\n",
       "    <tr>\n",
       "      <th>gpue05</th>\n",
       "      <td>6</td>\n",
       "    </tr>\n",
       "    <tr>\n",
       "      <th>gpue06</th>\n",
       "      <td>6</td>\n",
       "    </tr>\n",
       "    <tr>\n",
       "      <th>gpue07</th>\n",
       "      <td>6</td>\n",
       "    </tr>\n",
       "    <tr>\n",
       "      <th>gpue08</th>\n",
       "      <td>6</td>\n",
       "    </tr>\n",
       "    <tr>\n",
       "      <th>gpue09</th>\n",
       "      <td>6</td>\n",
       "    </tr>\n",
       "    <tr>\n",
       "      <th>gpue11</th>\n",
       "      <td>6</td>\n",
       "    </tr>\n",
       "    <tr>\n",
       "      <th>gpue12</th>\n",
       "      <td>6</td>\n",
       "    </tr>\n",
       "    <tr>\n",
       "      <th>gpue10</th>\n",
       "      <td>3</td>\n",
       "    </tr>\n",
       "  </tbody>\n",
       "</table>\n",
       "</div>"
      ],
      "text/plain": [
       "        count\n",
       "node         \n",
       "gpue01      6\n",
       "gpue02      6\n",
       "gpue03      6\n",
       "gpue04      6\n",
       "gpue05      6\n",
       "gpue06      6\n",
       "gpue07      6\n",
       "gpue08      6\n",
       "gpue09      6\n",
       "gpue11      6\n",
       "gpue12      6\n",
       "gpue10      3"
      ]
     },
     "metadata": {},
     "output_type": "display_data"
    }
   ],
   "source": [
    "# Section 4 — Aperçu et validation des données\n",
    "\n",
    "if not cpu_norm.empty:\n",
    "    display(HTML(\"<h3>CPU — Aperçu</h3>\"))\n",
    "    display(cpu_norm.head())\n",
    "    display(cpu_norm.describe(include=\"all\"))\n",
    "\n",
    "if not gpu_norm.empty:\n",
    "    display(HTML(\"<h3>GPU — Aperçu</h3>\"))\n",
    "    display(gpu_norm.head())\n",
    "    display(gpu_norm.describe(include=\"all\"))\n",
    "\n",
    "# Vérifs simples\n",
    "if \"node\" in all_runs:\n",
    "    display(all_runs[\"node\"].value_counts().to_frame(\"count\").head(20))"
   ]
  },
  {
   "cell_type": "code",
   "execution_count": 5,
   "id": "095968fe",
   "metadata": {},
   "outputs": [
    {
     "name": "stdout",
     "output_type": "stream",
     "text": [
      "best_cpu: (24, 13) best_gpu: (72, 9)\n"
     ]
    }
   ],
   "source": [
    "# Section 5 — Calcul de métriques dérivées par run\n",
    "\n",
    "# CPU: meilleures perfs par nœud et par mode\n",
    "best_cpu = pd.DataFrame()\n",
    "if not cpu_norm.empty:\n",
    "    best_cpu = (cpu_norm\n",
    "                .assign(key=lambda d: d[\"node\"].astype(str) + \"::\" + d[\"mode\"].astype(str))\n",
    "                .sort_values(\"avg_events_per_s\", ascending=False)\n",
    "                .groupby(\"key\", as_index=False)\n",
    "                .head(1))\n",
    "\n",
    "# GPU: extraire les *_mono_avg / *_multi_avg en colonnes longues et repérer le max par nœud\n",
    "best_gpu = pd.DataFrame()\n",
    "if not gpu_long.empty:\n",
    "    # garder uniquement les colonnes *_avg\n",
    "    gpu_avg = gpu_long[gpu_long[\"metric\"].str.endswith(\"_avg\", na=False)].copy()\n",
    "    best_gpu = (gpu_avg\n",
    "                .assign(key=lambda d: d[\"node\"].astype(str))\n",
    "                .sort_values(\"value\", ascending=False)\n",
    "                .groupby([\"key\", \"metric\"], as_index=False)\n",
    "                .head(1))\n",
    "\n",
    "print(\"best_cpu:\", best_cpu.shape, \"best_gpu:\", best_gpu.shape)"
   ]
  },
  {
   "cell_type": "code",
   "execution_count": 6,
   "id": "2b0937e0",
   "metadata": {},
   "outputs": [
    {
     "data": {
      "text/html": [
       "<h3>CPU — Meilleures perfs par nœud (mode multi)</h3>"
      ],
      "text/plain": [
       "<IPython.core.display.HTML object>"
      ]
     },
     "metadata": {},
     "output_type": "display_data"
    },
    {
     "data": {
      "image/png": "[encoded data removed]",
      "text/plain": [
       "<Figure size 1000x500 with 1 Axes>"
      ]
     },
     "metadata": {},
     "output_type": "display_data"
    },
    {
     "data": {
      "text/html": [
       "<h3>GPU — Distribution des meilleures métriques (monos et multi)</h3>"
      ],
      "text/plain": [
       "<IPython.core.display.HTML object>"
      ]
     },
     "metadata": {},
     "output_type": "display_data"
    },
    {
     "data": {
      "image/png": "[encoded data removed]",
      "text/plain": [
       "<Figure size 1000x500 with 1 Axes>"
      ]
     },
     "metadata": {},
     "output_type": "display_data"
    }
   ],
   "source": [
    "# Section 6 — Visualisations (lignes/évolution si step, sinon barres)\n",
    "\n",
    "if not cpu_norm.empty:\n",
    "    display(HTML(\"<h3>CPU — Meilleures perfs par nœud (mode multi)</h3>\"))\n",
    "    cpu_multi = cpu_norm[cpu_norm.get(\"mode\")==\"multi\"].copy()\n",
    "    top_cpu = (cpu_multi\n",
    "               .sort_values([\"node\", \"avg_events_per_s\"], ascending=[True, False])\n",
    "               .groupby(\"node\", as_index=False).head(1))\n",
    "    ax = sns.barplot(data=top_cpu.sort_values(\"avg_events_per_s\", ascending=False),\n",
    "                     x=\"avg_events_per_s\", y=\"node\", color=\"#4C78A8\")\n",
    "    ax.set_xlabel(\"events/s (avg)\")\n",
    "    ax.set_ylabel(\"node\")\n",
    "    plt.show()\n",
    "\n",
    "if not gpu_long.empty:\n",
    "    display(HTML(\"<h3>GPU — Distribution des meilleures métriques (monos et multi)</h3>\"))\n",
    "    g = sns.histplot(data=gpu_long[gpu_long[\"metric\"].str.endswith(\"_avg\")], x=\"value\", hue=\"metric\", element=\"step\", stat=\"density\", common_norm=False)\n",
    "    plt.show()"
   ]
  },
  {
   "cell_type": "code",
   "execution_count": 7,
   "id": "331680e8",
   "metadata": {},
   "outputs": [
    {
     "data": {
      "text/html": [
       "<h4>CPU — Histogramme avg_events_per_s</h4>"
      ],
      "text/plain": [
       "<IPython.core.display.HTML object>"
      ]
     },
     "metadata": {},
     "output_type": "display_data"
    },
    {
     "data": {
      "image/png": "[encoded data removed]",
      "text/plain": [
       "<Figure size 1000x500 with 1 Axes>"
      ]
     },
     "metadata": {},
     "output_type": "display_data"
    },
    {
     "data": {
      "image/png": "[encoded data removed]",
      "text/plain": [
       "<Figure size 1000x500 with 2 Axes>"
      ]
     },
     "metadata": {},
     "output_type": "display_data"
    }
   ],
   "source": [
    "# Section 7 — Distributions et corrélations\n",
    "\n",
    "if not cpu_norm.empty:\n",
    "    display(HTML(\"<h4>CPU — Histogramme avg_events_per_s</h4>\"))\n",
    "    sns.histplot(cpu_norm[\"avg_events_per_s\"].dropna(), kde=True)\n",
    "    plt.show()\n",
    "\n",
    "if not gpu_long.empty:\n",
    "    # Matrice de corrélation sur les moyennes par backend (au format large)\n",
    "    gpu_avg_wide = (gpu_long[gpu_long[\"metric\"].str.endswith(\"_avg\")] \n",
    "                    .pivot_table(index=\"node\", columns=\"metric\", values=\"value\", aggfunc=\"mean\"))\n",
    "    if not gpu_avg_wide.empty:\n",
    "        corr = gpu_avg_wide.corr(numeric_only=True)\n",
    "        sns.heatmap(corr, cmap=\"coolwarm\", center=0)\n",
    "        plt.title(\"GPU — Corrélations des métriques\")\n",
    "        plt.show()"
   ]
  },
  {
   "cell_type": "code",
   "execution_count": 8,
   "id": "4a19a631",
   "metadata": {},
   "outputs": [
    {
     "data": {
      "text/html": [
       "<div>\n",
       "<style scoped>\n",
       "    .dataframe tbody tr th:only-of-type {\n",
       "        vertical-align: middle;\n",
       "    }\n",
       "\n",
       "    .dataframe tbody tr th {\n",
       "        vertical-align: top;\n",
       "    }\n",
       "\n",
       "    .dataframe thead th {\n",
       "        text-align: right;\n",
       "    }\n",
       "</style>\n",
       "<table border=\"1\" class=\"dataframe\">\n",
       "  <thead>\n",
       "    <tr style=\"text-align: right;\">\n",
       "      <th></th>\n",
       "      <th>node</th>\n",
       "      <th>mode</th>\n",
       "      <th>threads</th>\n",
       "      <th>runs</th>\n",
       "      <th>duration_s</th>\n",
       "      <th>avg_events_per_s</th>\n",
       "      <th>stddev_events_per_s</th>\n",
       "      <th>min_events_per_s</th>\n",
       "      <th>max_events_per_s</th>\n",
       "      <th>timestamp</th>\n",
       "      <th>source_file</th>\n",
       "      <th>kind</th>\n",
       "    </tr>\n",
       "  </thead>\n",
       "  <tbody>\n",
       "    <tr>\n",
       "      <th>21</th>\n",
       "      <td>gpue06</td>\n",
       "      <td>multi</td>\n",
       "      <td>64</td>\n",
       "      <td>5</td>\n",
       "      <td>3.0</td>\n",
       "      <td>1.680315e+09</td>\n",
       "      <td>2.380449e+07</td>\n",
       "      <td>1.666607e+09</td>\n",
       "      <td>1.727876e+09</td>\n",
       "      <td>2025-09-07 01:03:35+00:00</td>\n",
       "      <td>cpu_gpue06.csv</td>\n",
       "      <td>cpu</td>\n",
       "    </tr>\n",
       "    <tr>\n",
       "      <th>25</th>\n",
       "      <td>gpue07</td>\n",
       "      <td>multi</td>\n",
       "      <td>64</td>\n",
       "      <td>5</td>\n",
       "      <td>3.0</td>\n",
       "      <td>1.621444e+09</td>\n",
       "      <td>2.207586e+07</td>\n",
       "      <td>1.607682e+09</td>\n",
       "      <td>1.665402e+09</td>\n",
       "      <td>2025-09-07 01:03:35+00:00</td>\n",
       "      <td>cpu_gpue07.csv</td>\n",
       "      <td>cpu</td>\n",
       "    </tr>\n",
       "    <tr>\n",
       "      <th>3</th>\n",
       "      <td>gpue01</td>\n",
       "      <td>multi</td>\n",
       "      <td>56</td>\n",
       "      <td>5</td>\n",
       "      <td>3.0</td>\n",
       "      <td>5.748196e+08</td>\n",
       "      <td>1.103767e+06</td>\n",
       "      <td>5.733175e+08</td>\n",
       "      <td>5.761750e+08</td>\n",
       "      <td>2025-09-07 01:13:56+00:00</td>\n",
       "      <td>cpu_gpue01.csv</td>\n",
       "      <td>cpu</td>\n",
       "    </tr>\n",
       "    <tr>\n",
       "      <th>5</th>\n",
       "      <td>gpue02</td>\n",
       "      <td>multi</td>\n",
       "      <td>48</td>\n",
       "      <td>5</td>\n",
       "      <td>3.0</td>\n",
       "      <td>4.921446e+08</td>\n",
       "      <td>1.472690e+06</td>\n",
       "      <td>4.899468e+08</td>\n",
       "      <td>4.943468e+08</td>\n",
       "      <td>2025-09-07 01:04:11+00:00</td>\n",
       "      <td>cpu_gpue02.csv</td>\n",
       "      <td>cpu</td>\n",
       "    </tr>\n",
       "    <tr>\n",
       "      <th>19</th>\n",
       "      <td>gpue05</td>\n",
       "      <td>multi</td>\n",
       "      <td>40</td>\n",
       "      <td>5</td>\n",
       "      <td>3.0</td>\n",
       "      <td>4.102210e+08</td>\n",
       "      <td>1.461470e+06</td>\n",
       "      <td>4.081048e+08</td>\n",
       "      <td>4.118688e+08</td>\n",
       "      <td>2025-09-07 01:13:55+00:00</td>\n",
       "      <td>cpu_gpue05.csv</td>\n",
       "      <td>cpu</td>\n",
       "    </tr>\n",
       "    <tr>\n",
       "      <th>11</th>\n",
       "      <td>gpue03</td>\n",
       "      <td>multi</td>\n",
       "      <td>40</td>\n",
       "      <td>5</td>\n",
       "      <td>3.0</td>\n",
       "      <td>4.094986e+08</td>\n",
       "      <td>1.510743e+06</td>\n",
       "      <td>4.073200e+08</td>\n",
       "      <td>4.115621e+08</td>\n",
       "      <td>2025-09-07 01:13:55+00:00</td>\n",
       "      <td>cpu_gpue03.csv</td>\n",
       "      <td>cpu</td>\n",
       "    </tr>\n",
       "    <tr>\n",
       "      <th>15</th>\n",
       "      <td>gpue04</td>\n",
       "      <td>multi</td>\n",
       "      <td>40</td>\n",
       "      <td>5</td>\n",
       "      <td>3.0</td>\n",
       "      <td>4.077162e+08</td>\n",
       "      <td>3.531049e+06</td>\n",
       "      <td>4.011717e+08</td>\n",
       "      <td>4.113057e+08</td>\n",
       "      <td>2025-09-07 01:13:55+00:00</td>\n",
       "      <td>cpu_gpue04.csv</td>\n",
       "      <td>cpu</td>\n",
       "    </tr>\n",
       "    <tr>\n",
       "      <th>45</th>\n",
       "      <td>gpue12</td>\n",
       "      <td>multi</td>\n",
       "      <td>32</td>\n",
       "      <td>5</td>\n",
       "      <td>3.0</td>\n",
       "      <td>2.949452e+08</td>\n",
       "      <td>1.127811e+06</td>\n",
       "      <td>2.928121e+08</td>\n",
       "      <td>2.958645e+08</td>\n",
       "      <td>2025-09-07 01:13:55+00:00</td>\n",
       "      <td>cpu_gpue12.csv</td>\n",
       "      <td>cpu</td>\n",
       "    </tr>\n",
       "    <tr>\n",
       "      <th>35</th>\n",
       "      <td>gpue09</td>\n",
       "      <td>multi</td>\n",
       "      <td>32</td>\n",
       "      <td>5</td>\n",
       "      <td>3.0</td>\n",
       "      <td>2.451836e+08</td>\n",
       "      <td>7.714990e+05</td>\n",
       "      <td>2.442374e+08</td>\n",
       "      <td>2.460940e+08</td>\n",
       "      <td>2025-09-07 01:13:55+00:00</td>\n",
       "      <td>cpu_gpue09.csv</td>\n",
       "      <td>cpu</td>\n",
       "    </tr>\n",
       "    <tr>\n",
       "      <th>31</th>\n",
       "      <td>gpue08</td>\n",
       "      <td>multi</td>\n",
       "      <td>24</td>\n",
       "      <td>5</td>\n",
       "      <td>3.0</td>\n",
       "      <td>1.999395e+08</td>\n",
       "      <td>5.344862e+05</td>\n",
       "      <td>1.990726e+08</td>\n",
       "      <td>2.005612e+08</td>\n",
       "      <td>2025-09-07 01:13:55+00:00</td>\n",
       "      <td>cpu_gpue08.csv</td>\n",
       "      <td>cpu</td>\n",
       "    </tr>\n",
       "    <tr>\n",
       "      <th>41</th>\n",
       "      <td>gpue11</td>\n",
       "      <td>multi</td>\n",
       "      <td>8</td>\n",
       "      <td>5</td>\n",
       "      <td>3.0</td>\n",
       "      <td>5.206357e+07</td>\n",
       "      <td>6.270612e+05</td>\n",
       "      <td>5.154739e+07</td>\n",
       "      <td>5.328956e+07</td>\n",
       "      <td>2025-09-07 01:13:55+00:00</td>\n",
       "      <td>cpu_gpue11.csv</td>\n",
       "      <td>cpu</td>\n",
       "    </tr>\n",
       "    <tr>\n",
       "      <th>37</th>\n",
       "      <td>gpue10</td>\n",
       "      <td>multi</td>\n",
       "      <td>8</td>\n",
       "      <td>5</td>\n",
       "      <td>3.0</td>\n",
       "      <td>5.190888e+07</td>\n",
       "      <td>3.649374e+05</td>\n",
       "      <td>5.164058e+07</td>\n",
       "      <td>5.262874e+07</td>\n",
       "      <td>2025-09-07 01:04:06+00:00</td>\n",
       "      <td>cpu_gpue10.csv</td>\n",
       "      <td>cpu</td>\n",
       "    </tr>\n",
       "  </tbody>\n",
       "</table>\n",
       "</div>"
      ],
      "text/plain": [
       "      node   mode  threads  runs  duration_s  avg_events_per_s  \\\n",
       "21  gpue06  multi       64     5         3.0      1.680315e+09   \n",
       "25  gpue07  multi       64     5         3.0      1.621444e+09   \n",
       "3   gpue01  multi       56     5         3.0      5.748196e+08   \n",
       "5   gpue02  multi       48     5         3.0      4.921446e+08   \n",
       "19  gpue05  multi       40     5         3.0      4.102210e+08   \n",
       "11  gpue03  multi       40     5         3.0      4.094986e+08   \n",
       "15  gpue04  multi       40     5         3.0      4.077162e+08   \n",
       "45  gpue12  multi       32     5         3.0      2.949452e+08   \n",
       "35  gpue09  multi       32     5         3.0      2.451836e+08   \n",
       "31  gpue08  multi       24     5         3.0      1.999395e+08   \n",
       "41  gpue11  multi        8     5         3.0      5.206357e+07   \n",
       "37  gpue10  multi        8     5         3.0      5.190888e+07   \n",
       "\n",
       "    stddev_events_per_s  min_events_per_s  max_events_per_s  \\\n",
       "21         2.380449e+07      1.666607e+09      1.727876e+09   \n",
       "25         2.207586e+07      1.607682e+09      1.665402e+09   \n",
       "3          1.103767e+06      5.733175e+08      5.761750e+08   \n",
       "5          1.472690e+06      4.899468e+08      4.943468e+08   \n",
       "19         1.461470e+06      4.081048e+08      4.118688e+08   \n",
       "11         1.510743e+06      4.073200e+08      4.115621e+08   \n",
       "15         3.531049e+06      4.011717e+08      4.113057e+08   \n",
       "45         1.127811e+06      2.928121e+08      2.958645e+08   \n",
       "35         7.714990e+05      2.442374e+08      2.460940e+08   \n",
       "31         5.344862e+05      1.990726e+08      2.005612e+08   \n",
       "41         6.270612e+05      5.154739e+07      5.328956e+07   \n",
       "37         3.649374e+05      5.164058e+07      5.262874e+07   \n",
       "\n",
       "                   timestamp     source_file kind  \n",
       "21 2025-09-07 01:03:35+00:00  cpu_gpue06.csv  cpu  \n",
       "25 2025-09-07 01:03:35+00:00  cpu_gpue07.csv  cpu  \n",
       "3  2025-09-07 01:13:56+00:00  cpu_gpue01.csv  cpu  \n",
       "5  2025-09-07 01:04:11+00:00  cpu_gpue02.csv  cpu  \n",
       "19 2025-09-07 01:13:55+00:00  cpu_gpue05.csv  cpu  \n",
       "11 2025-09-07 01:13:55+00:00  cpu_gpue03.csv  cpu  \n",
       "15 2025-09-07 01:13:55+00:00  cpu_gpue04.csv  cpu  \n",
       "45 2025-09-07 01:13:55+00:00  cpu_gpue12.csv  cpu  \n",
       "35 2025-09-07 01:13:55+00:00  cpu_gpue09.csv  cpu  \n",
       "31 2025-09-07 01:13:55+00:00  cpu_gpue08.csv  cpu  \n",
       "41 2025-09-07 01:13:55+00:00  cpu_gpue11.csv  cpu  \n",
       "37 2025-09-07 01:04:06+00:00  cpu_gpue10.csv  cpu  "
      ]
     },
     "metadata": {},
     "output_type": "display_data"
    },
    {
     "data": {
      "image/png": "[encoded data removed]",
      "text/plain": [
       "<Figure size 1000x600 with 1 Axes>"
      ]
     },
     "metadata": {},
     "output_type": "display_data"
    },
    {
     "data": {
      "text/html": [
       "<div>\n",
       "<style scoped>\n",
       "    .dataframe tbody tr th:only-of-type {\n",
       "        vertical-align: middle;\n",
       "    }\n",
       "\n",
       "    .dataframe tbody tr th {\n",
       "        vertical-align: top;\n",
       "    }\n",
       "\n",
       "    .dataframe thead th {\n",
       "        text-align: right;\n",
       "    }\n",
       "</style>\n",
       "<table border=\"1\" class=\"dataframe\">\n",
       "  <thead>\n",
       "    <tr style=\"text-align: right;\">\n",
       "      <th></th>\n",
       "      <th>node</th>\n",
       "      <th>runs</th>\n",
       "      <th>duration_s</th>\n",
       "      <th>timestamp</th>\n",
       "      <th>source_file</th>\n",
       "      <th>kind</th>\n",
       "      <th>metric</th>\n",
       "      <th>value</th>\n",
       "    </tr>\n",
       "  </thead>\n",
       "  <tbody>\n",
       "    <tr>\n",
       "      <th>506</th>\n",
       "      <td>gpue01</td>\n",
       "      <td>5</td>\n",
       "      <td>3.0</td>\n",
       "      <td>2025-09-07 03:03:18+00:00</td>\n",
       "      <td>gpu_gpue01.csv</td>\n",
       "      <td>gpu</td>\n",
       "      <td>cupy_multi_avg</td>\n",
       "      <td>2.224757e+13</td>\n",
       "    </tr>\n",
       "    <tr>\n",
       "      <th>346</th>\n",
       "      <td>gpue01</td>\n",
       "      <td>5</td>\n",
       "      <td>3.0</td>\n",
       "      <td>2025-09-07 03:37:28+00:00</td>\n",
       "      <td>gpu_gpue01.csv</td>\n",
       "      <td>gpu</td>\n",
       "      <td>cupy_mono_avg</td>\n",
       "      <td>1.112809e+13</td>\n",
       "    </tr>\n",
       "    <tr>\n",
       "      <th>851</th>\n",
       "      <td>gpue01</td>\n",
       "      <td>5</td>\n",
       "      <td>3.0</td>\n",
       "      <td>2025-09-07 03:03:18+00:00</td>\n",
       "      <td>gpu_gpue01.csv</td>\n",
       "      <td>gpu</td>\n",
       "      <td>numba_multi_avg</td>\n",
       "      <td>8.921338e+12</td>\n",
       "    </tr>\n",
       "    <tr>\n",
       "      <th>690</th>\n",
       "      <td>gpue01</td>\n",
       "      <td>5</td>\n",
       "      <td>3.0</td>\n",
       "      <td>2025-09-07 03:03:18+00:00</td>\n",
       "      <td>gpu_gpue01.csv</td>\n",
       "      <td>gpu</td>\n",
       "      <td>numba_mono_avg</td>\n",
       "      <td>4.518167e+12</td>\n",
       "    </tr>\n",
       "    <tr>\n",
       "      <th>161</th>\n",
       "      <td>gpue01</td>\n",
       "      <td>5</td>\n",
       "      <td>3.0</td>\n",
       "      <td>2025-09-07 03:03:18+00:00</td>\n",
       "      <td>gpu_gpue01.csv</td>\n",
       "      <td>gpu</td>\n",
       "      <td>torch_multi_avg</td>\n",
       "      <td>9.745081e+10</td>\n",
       "    </tr>\n",
       "    <tr>\n",
       "      <th>0</th>\n",
       "      <td>gpue01</td>\n",
       "      <td>5</td>\n",
       "      <td>3.0</td>\n",
       "      <td>2025-09-07 03:03:18+00:00</td>\n",
       "      <td>gpu_gpue01.csv</td>\n",
       "      <td>gpu</td>\n",
       "      <td>torch_mono_avg</td>\n",
       "      <td>4.873133e+10</td>\n",
       "    </tr>\n",
       "    <tr>\n",
       "      <th>509</th>\n",
       "      <td>gpue02</td>\n",
       "      <td>5</td>\n",
       "      <td>3.0</td>\n",
       "      <td>2025-09-07 03:37:39+00:00</td>\n",
       "      <td>gpu_gpue02.csv</td>\n",
       "      <td>gpu</td>\n",
       "      <td>cupy_multi_avg</td>\n",
       "      <td>4.292163e+13</td>\n",
       "    </tr>\n",
       "    <tr>\n",
       "      <th>854</th>\n",
       "      <td>gpue02</td>\n",
       "      <td>5</td>\n",
       "      <td>3.0</td>\n",
       "      <td>2025-09-07 03:37:39+00:00</td>\n",
       "      <td>gpu_gpue02.csv</td>\n",
       "      <td>gpu</td>\n",
       "      <td>numba_multi_avg</td>\n",
       "      <td>1.673740e+13</td>\n",
       "    </tr>\n",
       "    <tr>\n",
       "      <th>348</th>\n",
       "      <td>gpue02</td>\n",
       "      <td>5</td>\n",
       "      <td>3.0</td>\n",
       "      <td>2025-09-07 03:37:39+00:00</td>\n",
       "      <td>gpu_gpue02.csv</td>\n",
       "      <td>gpu</td>\n",
       "      <td>cupy_mono_avg</td>\n",
       "      <td>1.073285e+13</td>\n",
       "    </tr>\n",
       "    <tr>\n",
       "      <th>693</th>\n",
       "      <td>gpue02</td>\n",
       "      <td>5</td>\n",
       "      <td>3.0</td>\n",
       "      <td>2025-09-07 03:37:39+00:00</td>\n",
       "      <td>gpu_gpue02.csv</td>\n",
       "      <td>gpu</td>\n",
       "      <td>numba_mono_avg</td>\n",
       "      <td>4.357121e+12</td>\n",
       "    </tr>\n",
       "    <tr>\n",
       "      <th>163</th>\n",
       "      <td>gpue02</td>\n",
       "      <td>5</td>\n",
       "      <td>3.0</td>\n",
       "      <td>2025-09-07 03:03:31+00:00</td>\n",
       "      <td>gpu_gpue02.csv</td>\n",
       "      <td>gpu</td>\n",
       "      <td>torch_multi_avg</td>\n",
       "      <td>1.939898e+11</td>\n",
       "    </tr>\n",
       "    <tr>\n",
       "      <th>3</th>\n",
       "      <td>gpue02</td>\n",
       "      <td>5</td>\n",
       "      <td>3.0</td>\n",
       "      <td>2025-09-07 03:37:39+00:00</td>\n",
       "      <td>gpu_gpue02.csv</td>\n",
       "      <td>gpu</td>\n",
       "      <td>torch_mono_avg</td>\n",
       "      <td>4.889792e+10</td>\n",
       "    </tr>\n",
       "    <tr>\n",
       "      <th>510</th>\n",
       "      <td>gpue03</td>\n",
       "      <td>5</td>\n",
       "      <td>3.0</td>\n",
       "      <td>2025-09-07 03:03:29+00:00</td>\n",
       "      <td>gpu_gpue03.csv</td>\n",
       "      <td>gpu</td>\n",
       "      <td>cupy_multi_avg</td>\n",
       "      <td>4.355244e+13</td>\n",
       "    </tr>\n",
       "    <tr>\n",
       "      <th>855</th>\n",
       "      <td>gpue03</td>\n",
       "      <td>5</td>\n",
       "      <td>3.0</td>\n",
       "      <td>2025-09-07 03:03:29+00:00</td>\n",
       "      <td>gpu_gpue03.csv</td>\n",
       "      <td>gpu</td>\n",
       "      <td>numba_multi_avg</td>\n",
       "      <td>1.702380e+13</td>\n",
       "    </tr>\n",
       "    <tr>\n",
       "      <th>349</th>\n",
       "      <td>gpue03</td>\n",
       "      <td>5</td>\n",
       "      <td>3.0</td>\n",
       "      <td>2025-09-07 03:03:29+00:00</td>\n",
       "      <td>gpu_gpue03.csv</td>\n",
       "      <td>gpu</td>\n",
       "      <td>cupy_mono_avg</td>\n",
       "      <td>1.095489e+13</td>\n",
       "    </tr>\n",
       "    <tr>\n",
       "      <th>695</th>\n",
       "      <td>gpue03</td>\n",
       "      <td>5</td>\n",
       "      <td>3.0</td>\n",
       "      <td>2025-09-07 03:37:39+00:00</td>\n",
       "      <td>gpu_gpue03.csv</td>\n",
       "      <td>gpu</td>\n",
       "      <td>numba_mono_avg</td>\n",
       "      <td>4.448048e+12</td>\n",
       "    </tr>\n",
       "    <tr>\n",
       "      <th>165</th>\n",
       "      <td>gpue03</td>\n",
       "      <td>5</td>\n",
       "      <td>3.0</td>\n",
       "      <td>2025-09-07 03:03:29+00:00</td>\n",
       "      <td>gpu_gpue03.csv</td>\n",
       "      <td>gpu</td>\n",
       "      <td>torch_multi_avg</td>\n",
       "      <td>1.948634e+11</td>\n",
       "    </tr>\n",
       "    <tr>\n",
       "      <th>4</th>\n",
       "      <td>gpue03</td>\n",
       "      <td>5</td>\n",
       "      <td>3.0</td>\n",
       "      <td>2025-09-07 03:03:29+00:00</td>\n",
       "      <td>gpu_gpue03.csv</td>\n",
       "      <td>gpu</td>\n",
       "      <td>torch_mono_avg</td>\n",
       "      <td>4.896971e+10</td>\n",
       "    </tr>\n",
       "    <tr>\n",
       "      <th>512</th>\n",
       "      <td>gpue04</td>\n",
       "      <td>5</td>\n",
       "      <td>3.0</td>\n",
       "      <td>2025-09-07 03:03:28+00:00</td>\n",
       "      <td>gpu_gpue04.csv</td>\n",
       "      <td>gpu</td>\n",
       "      <td>cupy_multi_avg</td>\n",
       "      <td>4.314990e+13</td>\n",
       "    </tr>\n",
       "    <tr>\n",
       "      <th>858</th>\n",
       "      <td>gpue04</td>\n",
       "      <td>5</td>\n",
       "      <td>3.0</td>\n",
       "      <td>2025-09-07 03:37:39+00:00</td>\n",
       "      <td>gpu_gpue04.csv</td>\n",
       "      <td>gpu</td>\n",
       "      <td>numba_multi_avg</td>\n",
       "      <td>1.680525e+13</td>\n",
       "    </tr>\n",
       "  </tbody>\n",
       "</table>\n",
       "</div>"
      ],
      "text/plain": [
       "       node  runs  duration_s                 timestamp     source_file kind  \\\n",
       "506  gpue01     5         3.0 2025-09-07 03:03:18+00:00  gpu_gpue01.csv  gpu   \n",
       "346  gpue01     5         3.0 2025-09-07 03:37:28+00:00  gpu_gpue01.csv  gpu   \n",
       "851  gpue01     5         3.0 2025-09-07 03:03:18+00:00  gpu_gpue01.csv  gpu   \n",
       "690  gpue01     5         3.0 2025-09-07 03:03:18+00:00  gpu_gpue01.csv  gpu   \n",
       "161  gpue01     5         3.0 2025-09-07 03:03:18+00:00  gpu_gpue01.csv  gpu   \n",
       "0    gpue01     5         3.0 2025-09-07 03:03:18+00:00  gpu_gpue01.csv  gpu   \n",
       "509  gpue02     5         3.0 2025-09-07 03:37:39+00:00  gpu_gpue02.csv  gpu   \n",
       "854  gpue02     5         3.0 2025-09-07 03:37:39+00:00  gpu_gpue02.csv  gpu   \n",
       "348  gpue02     5         3.0 2025-09-07 03:37:39+00:00  gpu_gpue02.csv  gpu   \n",
       "693  gpue02     5         3.0 2025-09-07 03:37:39+00:00  gpu_gpue02.csv  gpu   \n",
       "163  gpue02     5         3.0 2025-09-07 03:03:31+00:00  gpu_gpue02.csv  gpu   \n",
       "3    gpue02     5         3.0 2025-09-07 03:37:39+00:00  gpu_gpue02.csv  gpu   \n",
       "510  gpue03     5         3.0 2025-09-07 03:03:29+00:00  gpu_gpue03.csv  gpu   \n",
       "855  gpue03     5         3.0 2025-09-07 03:03:29+00:00  gpu_gpue03.csv  gpu   \n",
       "349  gpue03     5         3.0 2025-09-07 03:03:29+00:00  gpu_gpue03.csv  gpu   \n",
       "695  gpue03     5         3.0 2025-09-07 03:37:39+00:00  gpu_gpue03.csv  gpu   \n",
       "165  gpue03     5         3.0 2025-09-07 03:03:29+00:00  gpu_gpue03.csv  gpu   \n",
       "4    gpue03     5         3.0 2025-09-07 03:03:29+00:00  gpu_gpue03.csv  gpu   \n",
       "512  gpue04     5         3.0 2025-09-07 03:03:28+00:00  gpu_gpue04.csv  gpu   \n",
       "858  gpue04     5         3.0 2025-09-07 03:37:39+00:00  gpu_gpue04.csv  gpu   \n",
       "\n",
       "              metric         value  \n",
       "506   cupy_multi_avg  2.224757e+13  \n",
       "346    cupy_mono_avg  1.112809e+13  \n",
       "851  numba_multi_avg  8.921338e+12  \n",
       "690   numba_mono_avg  4.518167e+12  \n",
       "161  torch_multi_avg  9.745081e+10  \n",
       "0     torch_mono_avg  4.873133e+10  \n",
       "509   cupy_multi_avg  4.292163e+13  \n",
       "854  numba_multi_avg  1.673740e+13  \n",
       "348    cupy_mono_avg  1.073285e+13  \n",
       "693   numba_mono_avg  4.357121e+12  \n",
       "163  torch_multi_avg  1.939898e+11  \n",
       "3     torch_mono_avg  4.889792e+10  \n",
       "510   cupy_multi_avg  4.355244e+13  \n",
       "855  numba_multi_avg  1.702380e+13  \n",
       "349    cupy_mono_avg  1.095489e+13  \n",
       "695   numba_mono_avg  4.448048e+12  \n",
       "165  torch_multi_avg  1.948634e+11  \n",
       "4     torch_mono_avg  4.896971e+10  \n",
       "512   cupy_multi_avg  4.314990e+13  \n",
       "858  numba_multi_avg  1.680525e+13  "
      ]
     },
     "metadata": {},
     "output_type": "display_data"
    },
    {
     "data": {
      "application/vnd.plotly.v1+json": {
       "config": {
        "plotlyServerURL": "https://plot.ly"
       },
       "data": [
        {
         "hovertemplate": "metric=cupy_multi_avg<br>value=%{x}<br>node=%{y}<extra></extra>",
         "legendgroup": "cupy_multi_avg",
         "marker": {
          "color": "#636efa",
          "pattern": {
           "shape": ""
          }
         },
         "name": "cupy_multi_avg",
         "orientation": "h",
         "showlegend": true,
         "textposition": "auto",
         "type": "bar",
         "x": {
          "bdata": "ZN0AFf87xEI0vy3uDTvEQmnTeHM3BcRCrYWL7CvOw0LX0q9MT5/DQlla6GG8hMNC9pSTIURNvUIk4KXajDi1QuQQ07bqO7RC1l9+dasOrUI14L+SA7ysQmhlIcnaXqxC",
          "dtype": "f8"
         },
         "xaxis": "x",
         "y": [
          "gpue07",
          "gpue06",
          "gpue05",
          "gpue03",
          "gpue04",
          "gpue02",
          "gpue09",
          "gpue12",
          "gpue01",
          "gpue08",
          "gpue10",
          "gpue11"
         ],
         "yaxis": "y"
        },
        {
         "hovertemplate": "metric=numba_multi_avg<br>value=%{x}<br>node=%{y}<extra></extra>",
         "legendgroup": "numba_multi_avg",
         "marker": {
          "color": "#EF553B",
          "pattern": {
           "shape": ""
          }
         },
         "name": "numba_multi_avg",
         "orientation": "h",
         "showlegend": true,
         "textposition": "auto",
         "type": "bar",
         "x": {
          "bdata": "ANym7ktnt0LBH7UtvQO3QiZDTKznAq9CFKSRLFP3rkJgvqBbjZGuQtA53v/0ca5Cc+jaH9cMq0L/CHD8N/ygQrlD0V5SOqBCejRL4EM7l0KRQqAN5RGXQvYJfFmN95ZC",
          "dtype": "f8"
         },
         "xaxis": "x",
         "y": [
          "gpue07",
          "gpue06",
          "gpue05",
          "gpue03",
          "gpue04",
          "gpue02",
          "gpue09",
          "gpue12",
          "gpue01",
          "gpue08",
          "gpue11",
          "gpue10"
         ],
         "yaxis": "y"
        },
        {
         "hovertemplate": "metric=cupy_mono_avg<br>value=%{x}<br>node=%{y}<extra></extra>",
         "legendgroup": "cupy_mono_avg",
         "marker": {
          "color": "#00cc96",
          "pattern": {
           "shape": ""
          }
         },
         "name": "cupy_mono_avg",
         "orientation": "h",
         "showlegend": true,
         "textposition": "auto",
         "type": "bar",
         "x": {
          "bdata": "2iQuvpVPrUJO52f5XwKrQmonoYYb/6pCmM8lMus9pEJEPsfqVQ2kQpPhAkxE7aNCtrC5Sj2ho0LHK1ZN34WjQnBEb9zxIJ1CP/G5u+O+nEIIUK0XqpacQmXeWgpCl5VC",
          "dtype": "f8"
         },
         "xaxis": "x",
         "y": [
          "gpue09",
          "gpue07",
          "gpue06",
          "gpue01",
          "gpue05",
          "gpue03",
          "gpue04",
          "gpue02",
          "gpue08",
          "gpue10",
          "gpue11",
          "gpue12"
         ],
         "yaxis": "y"
        },
        {
         "hovertemplate": "metric=numba_mono_avg<br>value=%{x}<br>node=%{y}<extra></extra>",
         "legendgroup": "numba_mono_avg",
         "marker": {
          "color": "#ab63fa",
          "pattern": {
           "shape": ""
          }
         },
         "name": "numba_mono_avg",
         "orientation": "h",
         "showlegend": true,
         "textposition": "auto",
         "type": "bar",
         "x": {
          "bdata": "at9JK7OeoEKL2F/mu52gQmBOrLeULZ9CDmti7N5vkEIfUGBekS6QQi4BSqabI5BCPbWi4dnej0JvHtgkxbOPQjeDMrzfk4dC4QoZPpQvh0IIPyN9mfqGQjF2V542SYFC",
          "dtype": "f8"
         },
         "xaxis": "x",
         "y": [
          "gpue06",
          "gpue07",
          "gpue09",
          "gpue01",
          "gpue03",
          "gpue05",
          "gpue04",
          "gpue02",
          "gpue08",
          "gpue10",
          "gpue11",
          "gpue12"
         ],
         "yaxis": "y"
        },
        {
         "hovertemplate": "metric=torch_multi_avg<br>value=%{x}<br>node=%{y}<extra></extra>",
         "legendgroup": "torch_multi_avg",
         "marker": {
          "color": "#FFA15A",
          "pattern": {
           "shape": ""
          }
         },
         "name": "torch_multi_avg",
         "orientation": "h",
         "showlegend": true,
         "textposition": "auto",
         "type": "bar",
         "x": {
          "bdata": "RoY+hFn1RkLB2veNg+hGQg==",
          "dtype": "f8"
         },
         "xaxis": "x",
         "y": [
          "gpue07",
          "gpue06"
         ],
         "yaxis": "y"
        }
       ],
       "layout": {
        "barmode": "relative",
        "legend": {
         "title": {
          "text": "metric"
         },
         "tracegroupgap": 0
        },
        "template": {
         "data": {
          "bar": [
           {
            "error_x": {
             "color": "#2a3f5f"
            },
            "error_y": {
             "color": "#2a3f5f"
            },
            "marker": {
             "line": {
              "color": "#E5ECF6",
              "width": 0.5
             },
             "pattern": {
              "fillmode": "overlay",
              "size": 10,
              "solidity": 0.2
             }
            },
            "type": "bar"
           }
          ],
          "barpolar": [
           {
            "marker": {
             "line": {
              "color": "#E5ECF6",
              "width": 0.5
             },
             "pattern": {
              "fillmode": "overlay",
              "size": 10,
              "solidity": 0.2
             }
            },
            "type": "barpolar"
           }
          ],
          "carpet": [
           {
            "aaxis": {
             "endlinecolor": "#2a3f5f",
             "gridcolor": "white",
             "linecolor": "white",
             "minorgridcolor": "white",
             "startlinecolor": "#2a3f5f"
            },
            "baxis": {
             "endlinecolor": "#2a3f5f",
             "gridcolor": "white",
             "linecolor": "white",
             "minorgridcolor": "white",
             "startlinecolor": "#2a3f5f"
            },
            "type": "carpet"
           }
          ],
          "choropleth": [
           {
            "colorbar": {
             "outlinewidth": 0,
             "ticks": ""
            },
            "type": "choropleth"
           }
          ],
          "contour": [
           {
            "colorbar": {
             "outlinewidth": 0,
             "ticks": ""
            },
            "colorscale": [
             [
              0,
              "#0d0887"
             ],
             [
              0.1111111111111111,
              "#46039f"
             ],
             [
              0.2222222222222222,
              "#7201a8"
             ],
             [
              0.3333333333333333,
              "#9c179e"
             ],
             [
              0.4444444444444444,
              "#bd3786"
             ],
             [
              0.5555555555555556,
              "#d8576b"
             ],
             [
              0.6666666666666666,
              "#ed7953"
             ],
             [
              0.7777777777777778,
              "#fb9f3a"
             ],
             [
              0.8888888888888888,
              "#fdca26"
             ],
             [
              1,
              "#f0f921"
             ]
            ],
            "type": "contour"
           }
          ],
          "contourcarpet": [
           {
            "colorbar": {
             "outlinewidth": 0,
             "ticks": ""
            },
            "type": "contourcarpet"
           }
          ],
          "heatmap": [
           {
            "colorbar": {
             "outlinewidth": 0,
             "ticks": ""
            },
            "colorscale": [
             [
              0,
              "#0d0887"
             ],
             [
              0.1111111111111111,
              "#46039f"
             ],
             [
              0.2222222222222222,
              "#7201a8"
             ],
             [
              0.3333333333333333,
              "#9c179e"
             ],
             [
              0.4444444444444444,
              "#bd3786"
             ],
             [
              0.5555555555555556,
              "#d8576b"
             ],
             [
              0.6666666666666666,
              "#ed7953"
             ],
             [
              0.7777777777777778,
              "#fb9f3a"
             ],
             [
              0.8888888888888888,
              "#fdca26"
             ],
             [
              1,
              "#f0f921"
             ]
            ],
            "type": "heatmap"
           }
          ],
          "histogram": [
           {
            "marker": {
             "pattern": {
              "fillmode": "overlay",
              "size": 10,
              "solidity": 0.2
             }
            },
            "type": "histogram"
           }
          ],
          "histogram2d": [
           {
            "colorbar": {
             "outlinewidth": 0,
             "ticks": ""
            },
            "colorscale": [
             [
              0,
              "#0d0887"
             ],
             [
              0.1111111111111111,
              "#46039f"
             ],
             [
              0.2222222222222222,
              "#7201a8"
             ],
             [
              0.3333333333333333,
              "#9c179e"
             ],
             [
              0.4444444444444444,
              "#bd3786"
             ],
             [
              0.5555555555555556,
              "#d8576b"
             ],
             [
              0.6666666666666666,
              "#ed7953"
             ],
             [
              0.7777777777777778,
              "#fb9f3a"
             ],
             [
              0.8888888888888888,
              "#fdca26"
             ],
             [
              1,
              "#f0f921"
             ]
            ],
            "type": "histogram2d"
           }
          ],
          "histogram2dcontour": [
           {
            "colorbar": {
             "outlinewidth": 0,
             "ticks": ""
            },
            "colorscale": [
             [
              0,
              "#0d0887"
             ],
             [
              0.1111111111111111,
              "#46039f"
             ],
             [
              0.2222222222222222,
              "#7201a8"
             ],
             [
              0.3333333333333333,
              "#9c179e"
             ],
             [
              0.4444444444444444,
              "#bd3786"
             ],
             [
              0.5555555555555556,
              "#d8576b"
             ],
             [
              0.6666666666666666,
              "#ed7953"
             ],
             [
              0.7777777777777778,
              "#fb9f3a"
             ],
             [
              0.8888888888888888,
              "#fdca26"
             ],
             [
              1,
              "#f0f921"
             ]
            ],
            "type": "histogram2dcontour"
           }
          ],
          "mesh3d": [
           {
            "colorbar": {
             "outlinewidth": 0,
             "ticks": ""
            },
            "type": "mesh3d"
           }
          ],
          "parcoords": [
           {
            "line": {
             "colorbar": {
              "outlinewidth": 0,
              "ticks": ""
             }
            },
            "type": "parcoords"
           }
          ],
          "pie": [
           {
            "automargin": true,
            "type": "pie"
           }
          ],
          "scatter": [
           {
            "fillpattern": {
             "fillmode": "overlay",
             "size": 10,
             "solidity": 0.2
            },
            "type": "scatter"
           }
          ],
          "scatter3d": [
           {
            "line": {
             "colorbar": {
              "outlinewidth": 0,
              "ticks": ""
             }
            },
            "marker": {
             "colorbar": {
              "outlinewidth": 0,
              "ticks": ""
             }
            },
            "type": "scatter3d"
           }
          ],
          "scattercarpet": [
           {
            "marker": {
             "colorbar": {
              "outlinewidth": 0,
              "ticks": ""
             }
            },
            "type": "scattercarpet"
           }
          ],
          "scattergeo": [
           {
            "marker": {
             "colorbar": {
              "outlinewidth": 0,
              "ticks": ""
             }
            },
            "type": "scattergeo"
           }
          ],
          "scattergl": [
           {
            "marker": {
             "colorbar": {
              "outlinewidth": 0,
              "ticks": ""
             }
            },
            "type": "scattergl"
           }
          ],
          "scattermap": [
           {
            "marker": {
             "colorbar": {
              "outlinewidth": 0,
              "ticks": ""
             }
            },
            "type": "scattermap"
           }
          ],
          "scattermapbox": [
           {
            "marker": {
             "colorbar": {
              "outlinewidth": 0,
              "ticks": ""
             }
            },
            "type": "scattermapbox"
           }
          ],
          "scatterpolar": [
           {
            "marker": {
             "colorbar": {
              "outlinewidth": 0,
              "ticks": ""
             }
            },
            "type": "scatterpolar"
           }
          ],
          "scatterpolargl": [
           {
            "marker": {
             "colorbar": {
              "outlinewidth": 0,
              "ticks": ""
             }
            },
            "type": "scatterpolargl"
           }
          ],
          "scatterternary": [
           {
            "marker": {
             "colorbar": {
              "outlinewidth": 0,
              "ticks": ""
             }
            },
            "type": "scatterternary"
           }
          ],
          "surface": [
           {
            "colorbar": {
             "outlinewidth": 0,
             "ticks": ""
            },
            "colorscale": [
             [
              0,
              "#0d0887"
             ],
             [
              0.1111111111111111,
              "#46039f"
             ],
             [
              0.2222222222222222,
              "#7201a8"
             ],
             [
              0.3333333333333333,
              "#9c179e"
             ],
             [
              0.4444444444444444,
              "#bd3786"
             ],
             [
              0.5555555555555556,
              "#d8576b"
             ],
             [
              0.6666666666666666,
              "#ed7953"
             ],
             [
              0.7777777777777778,
              "#fb9f3a"
             ],
             [
              0.8888888888888888,
              "#fdca26"
             ],
             [
              1,
              "#f0f921"
             ]
            ],
            "type": "surface"
           }
          ],
          "table": [
           {
            "cells": {
             "fill": {
              "color": "#EBF0F8"
             },
             "line": {
              "color": "white"
             }
            },
            "header": {
             "fill": {
              "color": "#C8D4E3"
             },
             "line": {
              "color": "white"
             }
            },
            "type": "table"
           }
          ]
         },
         "layout": {
          "annotationdefaults": {
           "arrowcolor": "#2a3f5f",
           "arrowhead": 0,
           "arrowwidth": 1
          },
          "autotypenumbers": "strict",
          "coloraxis": {
           "colorbar": {
            "outlinewidth": 0,
            "ticks": ""
           }
          },
          "colorscale": {
           "diverging": [
            [
             0,
             "#8e0152"
            ],
            [
             0.1,
             "#c51b7d"
            ],
            [
             0.2,
             "#de77ae"
            ],
            [
             0.3,
             "#f1b6da"
            ],
            [
             0.4,
             "#fde0ef"
            ],
            [
             0.5,
             "#f7f7f7"
            ],
            [
             0.6,
             "#e6f5d0"
            ],
            [
             0.7,
             "#b8e186"
            ],
            [
             0.8,
             "#7fbc41"
            ],
            [
             0.9,
             "#4d9221"
            ],
            [
             1,
             "#276419"
            ]
           ],
           "sequential": [
            [
             0,
             "#0d0887"
            ],
            [
             0.1111111111111111,
             "#46039f"
            ],
            [
             0.2222222222222222,
             "#7201a8"
            ],
            [
             0.3333333333333333,
             "#9c179e"
            ],
            [
             0.4444444444444444,
             "#bd3786"
            ],
            [
             0.5555555555555556,
             "#d8576b"
            ],
            [
             0.6666666666666666,
             "#ed7953"
            ],
            [
             0.7777777777777778,
             "#fb9f3a"
            ],
            [
             0.8888888888888888,
             "#fdca26"
            ],
            [
             1,
             "#f0f921"
            ]
           ],
           "sequentialminus": [
            [
             0,
             "#0d0887"
            ],
            [
             0.1111111111111111,
             "#46039f"
            ],
            [
             0.2222222222222222,
             "#7201a8"
            ],
            [
             0.3333333333333333,
             "#9c179e"
            ],
            [
             0.4444444444444444,
             "#bd3786"
            ],
            [
             0.5555555555555556,
             "#d8576b"
            ],
            [
             0.6666666666666666,
             "#ed7953"
            ],
            [
             0.7777777777777778,
             "#fb9f3a"
            ],
            [
             0.8888888888888888,
             "#fdca26"
            ],
            [
             1,
             "#f0f921"
            ]
           ]
          },
          "colorway": [
           "#636efa",
           "#EF553B",
           "#00cc96",
           "#ab63fa",
           "#FFA15A",
           "#19d3f3",
           "#FF6692",
           "#B6E880",
           "#FF97FF",
           "#FECB52"
          ],
          "font": {
           "color": "#2a3f5f"
          },
          "geo": {
           "bgcolor": "white",
           "lakecolor": "white",
           "landcolor": "#E5ECF6",
           "showlakes": true,
           "showland": true,
           "subunitcolor": "white"
          },
          "hoverlabel": {
           "align": "left"
          },
          "hovermode": "closest",
          "mapbox": {
           "style": "light"
          },
          "paper_bgcolor": "white",
          "plot_bgcolor": "#E5ECF6",
          "polar": {
           "angularaxis": {
            "gridcolor": "white",
            "linecolor": "white",
            "ticks": ""
           },
           "bgcolor": "#E5ECF6",
           "radialaxis": {
            "gridcolor": "white",
            "linecolor": "white",
            "ticks": ""
           }
          },
          "scene": {
           "xaxis": {
            "backgroundcolor": "#E5ECF6",
            "gridcolor": "white",
            "gridwidth": 2,
            "linecolor": "white",
            "showbackground": true,
            "ticks": "",
            "zerolinecolor": "white"
           },
           "yaxis": {
            "backgroundcolor": "#E5ECF6",
            "gridcolor": "white",
            "gridwidth": 2,
            "linecolor": "white",
            "showbackground": true,
            "ticks": "",
            "zerolinecolor": "white"
           },
           "zaxis": {
            "backgroundcolor": "#E5ECF6",
            "gridcolor": "white",
            "gridwidth": 2,
            "linecolor": "white",
            "showbackground": true,
            "ticks": "",
            "zerolinecolor": "white"
           }
          },
          "shapedefaults": {
           "line": {
            "color": "#2a3f5f"
           }
          },
          "ternary": {
           "aaxis": {
            "gridcolor": "white",
            "linecolor": "white",
            "ticks": ""
           },
           "baxis": {
            "gridcolor": "white",
            "linecolor": "white",
            "ticks": ""
           },
           "bgcolor": "#E5ECF6",
           "caxis": {
            "gridcolor": "white",
            "linecolor": "white",
            "ticks": ""
           }
          },
          "title": {
           "x": 0.05
          },
          "xaxis": {
           "automargin": true,
           "gridcolor": "white",
           "linecolor": "white",
           "ticks": "",
           "title": {
            "standoff": 15
           },
           "zerolinecolor": "white",
           "zerolinewidth": 2
          },
          "yaxis": {
           "automargin": true,
           "gridcolor": "white",
           "linecolor": "white",
           "ticks": "",
           "title": {
            "standoff": 15
           },
           "zerolinecolor": "white",
           "zerolinewidth": 2
          }
         }
        },
        "title": {
         "text": "GPU — Meilleures métriques par nœud (top 50)"
        },
        "xaxis": {
         "anchor": "y",
         "domain": [
          0,
          1
         ],
         "title": {
          "text": "value"
         }
        },
        "yaxis": {
         "anchor": "x",
         "domain": [
          0,
          1
         ],
         "title": {
          "text": "node"
         }
        }
       }
      }
     },
     "metadata": {},
     "output_type": "display_data"
    }
   ],
   "source": [
    "# Section 8 — Comparaison multi-runs (métriques et paramètres)\n",
    "\n",
    "# Pour CPU: tableau des meilleures perfs multi par nœud\n",
    "comp_cpu = pd.DataFrame()\n",
    "if not cpu_norm.empty:\n",
    "    cpu_multi = cpu_norm[cpu_norm.get(\"mode\")==\"multi\"].copy()\n",
    "    comp_cpu = (cpu_multi\n",
    "                .sort_values([\"node\", \"avg_events_per_s\"], ascending=[True, False])\n",
    "                .groupby(\"node\", as_index=False).head(1))\n",
    "    display(comp_cpu.sort_values(\"avg_events_per_s\", ascending=False).head(20))\n",
    "\n",
    "    plt.figure(figsize=(10,6))\n",
    "    sns.barplot(data=comp_cpu.sort_values(\"avg_events_per_s\", ascending=False),\n",
    "                x=\"avg_events_per_s\", y=\"node\", color=\"#72B7B2\")\n",
    "    plt.title(\"CPU — Meilleures perfs multi par nœud\")\n",
    "    plt.xlabel(\"events/s (avg)\")\n",
    "    plt.show()\n",
    "\n",
    "# Pour GPU: meilleurs *_avg par nœud et par metric\n",
    "comp_gpu = pd.DataFrame()\n",
    "if not gpu_long.empty:\n",
    "    comp_gpu = (gpu_long[gpu_long[\"metric\"].str.endswith(\"_avg\")] \n",
    "                .sort_values([\"node\", \"value\"], ascending=[True, False])\n",
    "                .groupby([\"node\", \"metric\"], as_index=False).head(1))\n",
    "    display(comp_gpu.head(20))\n",
    "\n",
    "    fig = px.bar(comp_gpu.sort_values(\"value\", ascending=False).head(50),\n",
    "                 x=\"value\", y=\"node\", color=\"metric\",\n",
    "                 title=\"GPU — Meilleures métriques par nœud (top 50)\")\n",
    "    fig.show()"
   ]
  },
  {
   "cell_type": "code",
   "execution_count": 9,
   "id": "b913ed32",
   "metadata": {},
   "outputs": [
    {
     "data": {
      "application/vnd.jupyter.widget-view+json": {
       "model_id": "7e64a7f5b6694f46aa81854cf9e378b5",
       "version_major": 2,
       "version_minor": 0
      },
      "text/plain": [
       "interactive(children=(Dropdown(description='metric', options=('cupy_mono_avg', 'cupy_multi_avg', 'numba_mono_a…"
      ]
     },
     "metadata": {},
     "output_type": "display_data"
    },
    {
     "data": {
      "application/vnd.jupyter.widget-view+json": {
       "model_id": "0238d6a74131421eab103f235cb8ee63",
       "version_major": 2,
       "version_minor": 0
      },
      "text/plain": [
       "interactive(children=(Dropdown(description='mode', options=('mono', 'multi'), value='mono'), IntSlider(value=2…"
      ]
     },
     "metadata": {},
     "output_type": "display_data"
    }
   ],
   "source": [
    "# Section 9 — Filtres interactifs (ipywidgets)\n",
    "\n",
    "have_widgets = False\n",
    "try:\n",
    "    import ipywidgets as widgets\n",
    "    from ipywidgets import interact, interactive, HBox, VBox\n",
    "    have_widgets = True\n",
    "except Exception as e:\n",
    "    print(\"ipywidgets non disponible:\", e)\n",
    "\n",
    "if have_widgets:\n",
    "    # GPU: sélection de la métrique *_avg\n",
    "    gpu_metrics = sorted({m for m in gpu_long.get(\"metric\", []) if str(m).endswith(\"_avg\")}) if not gpu_long.empty else []\n",
    "    if gpu_metrics:\n",
    "        @widgets.interact(metric=gpu_metrics)\n",
    "        def _gpu_metric_hist(metric=gpu_metrics[0]):\n",
    "            df = gpu_long[(gpu_long.metric == metric)]\n",
    "            fig = px.histogram(df, x=\"value\", marginal=\"box\",\n",
    "                               title=f\"Distribution {metric}\")\n",
    "            fig.show()\n",
    "    else:\n",
    "        print(\"Pas de métriques GPU *_avg trouvées.\")\n",
    "\n",
    "    # CPU: sélection mode et top N\n",
    "    if not cpu_norm.empty:\n",
    "        modes = sorted(cpu_norm[\"mode\"].dropna().unique())\n",
    "        @widgets.interact(mode=modes, topN=widgets.IntSlider(min=5, max=50, step=5, value=20))\n",
    "        def _cpu_top(mode=modes[0], topN=20):\n",
    "            if \"mode\" not in cpu_norm.columns or cpu_norm.empty:\n",
    "                print(\"Données CPU non disponibles ou colonne 'mode' absente.\")\n",
    "                return\n",
    "            df = cpu_norm[cpu_norm[\"mode\"] == mode]\n",
    "            if df.empty:\n",
    "                print(f\"Aucune donnée pour le mode '{mode}'.\")\n",
    "                return\n",
    "            df = df.sort_values(\"avg_events_per_s\", ascending=False).head(topN)\n",
    "            plt.figure(figsize=(10, min(8, 0.4*len(df))))\n",
    "            sns.barplot(data=df, x=\"avg_events_per_s\", y=\"node\", color=\"#4C78A8\")\n",
    "            plt.title(f\"CPU — Top {topN} ({mode})\")\n",
    "            plt.xlabel(\"events/s (avg)\")\n",
    "            plt.tight_layout()\n",
    "            plt.show()\n",
    "else:\n",
    "    print(\"Activer ipywidgets pour utiliser les filtres interactifs (voir Section 1).\")"
   ]
  },
  {
   "cell_type": "code",
   "execution_count": 10,
   "id": "1b030c4d",
   "metadata": {},
   "outputs": [
    {
     "name": "stdout",
     "output_type": "stream",
     "text": [
      "CSV exporté: figures/runs_all_clean.csv\n",
      "Parquet exporté: figures/runs_all_clean.parquet\n",
      "Figure Matplotlib exportée -> figures/dernier_plot_matplotlib.png\n",
      "Figure Plotly exportée -> figures/dernier_plot_plotly.html\n",
      "Exports terminés.\n"
     ]
    },
    {
     "data": {
      "text/plain": [
       "<Figure size 1000x500 with 0 Axes>"
      ]
     },
     "metadata": {},
     "output_type": "display_data"
    }
   ],
   "source": [
    "# Section 10 — Export des figures et des sous-ensembles\n",
    "from pathlib import Path\n",
    "\n",
    "EXPORT_DIR = Path(FIGURES_DIR) if 'FIGURES_DIR' in globals() else Path('figures')\n",
    "EXPORT_DIR.mkdir(parents=True, exist_ok=True)\n",
    "\n",
    "# Exemples d'exports CSV/Parquet\n",
    "if not all_runs.empty:\n",
    "    out_csv = EXPORT_DIR / 'runs_all_clean.csv'\n",
    "    out_parquet = EXPORT_DIR / 'runs_all_clean.parquet'\n",
    "    try:\n",
    "        all_runs.to_csv(out_csv, index=False)\n",
    "        print(\"CSV exporté:\", out_csv)\n",
    "    except Exception as e:\n",
    "        print(\"CSV non exporté:\", e)\n",
    "    try:\n",
    "        all_runs.to_parquet(out_parquet)\n",
    "        print(\"Parquet exporté:\", out_parquet)\n",
    "    except Exception as e:\n",
    "        print(\"Parquet non exporté:\", e)\n",
    "\n",
    "# Export de quelques figures récentes (si présentes)\n",
    "try:\n",
    "    plt.gcf()\n",
    "    plt.savefig(EXPORT_DIR / 'dernier_plot_matplotlib.png', dpi=150, bbox_inches='tight')\n",
    "    print(\"Figure Matplotlib exportée ->\", EXPORT_DIR / 'dernier_plot_matplotlib.png')\n",
    "except Exception as e:\n",
    "    pass\n",
    "\n",
    "# Pour Plotly, sauvegarde HTML (dernier fig) si accessible via variable fig\n",
    "try:\n",
    "    if 'fig' in globals() and fig is not None:\n",
    "        fig.write_html(str(EXPORT_DIR / 'dernier_plot_plotly.html'))\n",
    "        print(\"Figure Plotly exportée ->\", EXPORT_DIR / 'dernier_plot_plotly.html')\n",
    "except Exception as e:\n",
    "    pass\n",
    "\n",
    "print(\"Exports terminés.\")"
   ]
  },
  {
   "cell_type": "code",
   "execution_count": null,
   "id": "e9b37a61-6b24-4e83-b217-2c4a922fc854",
   "metadata": {},
   "outputs": [],
   "source": []
  }
 ],
 "metadata": {
  "kernelspec": {
   "display_name": "bench",
   "language": "python",
   "name": "bench"
  },
  "language_info": {
   "codemirror_mode": {
    "name": "ipython",
    "version": 3
   },
   "file_extension": ".py",
   "mimetype": "text/x-python",
   "name": "python",
   "nbconvert_exporter": "python",
   "pygments_lexer": "ipython3",
   "version": "3.10.18"
  }
 },
 "nbformat": 4,
 "nbformat_minor": 5
}
